{
  "nbformat": 4,
  "nbformat_minor": 0,
  "metadata": {
    "kernelspec": {
      "name": "python3",
      "display_name": "Python 3"
    },
    "colab": {
      "name": "Blue_Box foR Bulldozers.ipynb",
      "provenance": [],
      "collapsed_sections": []
    },
    "accelerator": "GPU"
  },
  "cells": [
    {
      "cell_type": "markdown",
      "metadata": {
        "id": "mWW8fYLlwr-9",
        "colab_type": "text"
      },
      "source": [
        "**Important: This notebook will only work with fastai-0.7.x. Do not try to run any fastai-1.x code from this path in the repository because it will load fastai-0.7.x**"
      ]
    },
    {
      "cell_type": "markdown",
      "metadata": {
        "id": "mkw6h_X8wr-_",
        "colab_type": "text"
      },
      "source": [
        "# Intro to Random Forests"
      ]
    },
    {
      "cell_type": "markdown",
      "metadata": {
        "id": "RllVay-Ywr_A",
        "colab_type": "text"
      },
      "source": [
        "## About this course"
      ]
    },
    {
      "cell_type": "markdown",
      "metadata": {
        "id": "Z5TwgBkiwr_B",
        "colab_type": "text"
      },
      "source": [
        "### Teaching approach"
      ]
    },
    {
      "cell_type": "markdown",
      "metadata": {
        "id": "8uCHeWalwr_B",
        "colab_type": "text"
      },
      "source": [
        "This course is being taught by Jeremy Howard, and was developed by Jeremy along with Rachel Thomas. Rachel has been dealing with a life-threatening illness so will not be teaching as originally planned this year.\n",
        "\n",
        "Jeremy has worked in a number of different areas - feel free to ask about anything that he might be able to help you with at any time, even if not directly related to the current topic:\n",
        "\n",
        "- Management consultant (McKinsey; AT Kearney)\n",
        "- Self-funded startup entrepreneur (Fastmail: first consumer synchronized email; Optimal Decisions: first optimized insurance pricing)\n",
        "- VC-funded startup entrepreneur: (Kaggle; Enlitic: first deep-learning medical company)"
      ]
    },
    {
      "cell_type": "markdown",
      "metadata": {
        "id": "wjD6XYFFwr_C",
        "colab_type": "text"
      },
      "source": [
        "I'll be using a *top-down* teaching method, which is different from how most math courses operate.  Typically, in a *bottom-up* approach, you first learn all the separate components you will be using, and then you gradually build them up into more complex structures.  The problems with this are that students often lose motivation, don't have a sense of the \"big picture\", and don't know what they'll need.\n",
        "\n",
        "If you took the fast.ai deep learning course, that is what we used.  You can hear more about my teaching philosophy [in this blog post](http://www.fast.ai/2016/10/08/teaching-philosophy/) or [in this talk](https://vimeo.com/214233053).\n",
        "\n",
        "Harvard Professor David Perkins has a book, [Making Learning Whole](https://www.amazon.com/Making-Learning-Whole-Principles-Transform/dp/0470633719) in which he uses baseball as an analogy.  We don't require kids to memorize all the rules of baseball and understand all the technical details before we let them play the game.  Rather, they start playing with a just general sense of it, and then gradually learn more rules/details as time goes on.\n",
        "\n",
        "All that to say, don't worry if you don't understand everything at first!  You're not supposed to.  We will start using some \"black boxes\" such as random forests that haven't yet been explained in detail, and then we'll dig into the lower level details later.\n",
        "\n",
        "To start, focus on what things DO, not what they ARE."
      ]
    },
    {
      "cell_type": "markdown",
      "metadata": {
        "id": "lXZwaT2wwr_D",
        "colab_type": "text"
      },
      "source": [
        "### Your practice"
      ]
    },
    {
      "cell_type": "markdown",
      "metadata": {
        "id": "IzAVspuywr_D",
        "colab_type": "text"
      },
      "source": [
        "People learn by:\n",
        "1. **doing** (coding and building)\n",
        "2. **explaining** what they've learned (by writing or helping others)\n",
        "\n",
        "Therefore, we suggest that you practice these skills on Kaggle by:\n",
        "1. Entering competitions (*doing*)\n",
        "2. Creating Kaggle kernels (*explaining*)\n",
        "\n",
        "It's OK if you don't get good competition ranks or any kernel votes at first - that's totally normal! Just try to keep improving every day, and you'll see the results over time."
      ]
    },
    {
      "cell_type": "markdown",
      "metadata": {
        "id": "uA6-bOBLwr_E",
        "colab_type": "text"
      },
      "source": [
        "To get better at technical writing, study the top ranked Kaggle kernels from past competitions, and read posts from well-regarded technical bloggers. Some good role models include:\n",
        "\n",
        "- [Peter Norvig](http://nbviewer.jupyter.org/url/norvig.com/ipython/ProbabilityParadox.ipynb) (more [here](http://norvig.com/ipython/))\n",
        "- [Stephen Merity](https://smerity.com/articles/2017/deepcoder_and_ai_hype.html)\n",
        "- [Julia Evans](https://codewords.recurse.com/issues/five/why-do-neural-networks-think-a-panda-is-a-vulture) (more [here](https://jvns.ca/blog/2014/08/12/what-happens-if-you-write-a-tcp-stack-in-python/))\n",
        "- [Julia Ferraioli](http://blog.juliaferraioli.com/2016/02/exploring-world-using-vision-twilio.html)\n",
        "- [Edwin Chen](http://blog.echen.me/2014/10/07/moving-beyond-ctr-better-recommendations-through-human-evaluation/)\n",
        "- [Slav Ivanov](https://blog.slavv.com/picking-an-optimizer-for-style-transfer-86e7b8cba84b) (fast.ai student)\n",
        "- [Brad Kenstler](https://hackernoon.com/non-artistic-style-transfer-or-how-to-draw-kanye-using-captain-picards-face-c4a50256b814) (fast.ai and USF MSAN student)"
      ]
    },
    {
      "cell_type": "markdown",
      "metadata": {
        "id": "cTKMBNDDwr_F",
        "colab_type": "text"
      },
      "source": [
        "### Books"
      ]
    },
    {
      "cell_type": "markdown",
      "metadata": {
        "id": "zGvW2vGWwr_F",
        "colab_type": "text"
      },
      "source": [
        "The more familiarity you have with numeric programming in Python, the better. If you're looking to improve in this area, we strongly suggest Wes McKinney's [Python for Data Analysis, 2nd ed](https://www.amazon.com/Python-Data-Analysis-Wrangling-IPython/dp/1491957662/ref=asap_bc?ie=UTF8).\n",
        "\n",
        "For machine learning with Python, we recommend:\n",
        "\n",
        "- [Introduction to Machine Learning with Python](https://www.amazon.com/Introduction-Machine-Learning-Andreas-Mueller/dp/1449369413): From one of the scikit-learn authors, which is the main library we'll be using\n",
        "- [Python Machine Learning: Machine Learning and Deep Learning with Python, scikit-learn, and TensorFlow, 2nd Edition](https://www.amazon.com/Python-Machine-Learning-scikit-learn-TensorFlow/dp/1787125939/ref=dp_ob_title_bk): New version of a very successful book. A lot of the new material however covers deep learning in Tensorflow, which isn't relevant to this course\n",
        "- [Hands-On Machine Learning with Scikit-Learn and TensorFlow](https://www.amazon.com/Hands-Machine-Learning-Scikit-Learn-TensorFlow/dp/1491962291/ref=pd_lpo_sbs_14_t_0?_encoding=UTF8&psc=1&refRID=MBV2QMFH3EZ6B3YBY40K)\n"
      ]
    },
    {
      "cell_type": "markdown",
      "metadata": {
        "id": "O1O-W8jywr_G",
        "colab_type": "text"
      },
      "source": [
        "### Syllabus in brief"
      ]
    },
    {
      "cell_type": "markdown",
      "metadata": {
        "id": "-Tqu8A2Vwr_G",
        "colab_type": "text"
      },
      "source": [
        "Depending on time and class interests, we'll cover something like (not necessarily in this order):\n",
        "\n",
        "- Train vs test\n",
        "  - Effective validation set construction\n",
        "- Trees and ensembles\n",
        "  - Creating random forests\n",
        "  - Interpreting random forests\n",
        "- What is ML?  Why do we use it?\n",
        "  - What makes a good ML project?\n",
        "  - Structured vs unstructured data\n",
        "  - Examples of failures/mistakes\n",
        "- Feature engineering\n",
        "  - Domain specific - dates, URLs, text\n",
        "  - Embeddings / latent factors\n",
        "- Regularized models trained with SGD\n",
        "  - GLMs, Elasticnet, etc (NB: see what James covered)\n",
        "- Basic neural nets\n",
        "  - PyTorch\n",
        "  - Broadcasting, Matrix Multiplication\n",
        "  - Training loop, backpropagation\n",
        "- KNN\n",
        "- CV / bootstrap (Diabetes data set?)\n",
        "- Ethical considerations"
      ]
    },
    {
      "cell_type": "markdown",
      "metadata": {
        "id": "aIazfNkmwr_H",
        "colab_type": "text"
      },
      "source": [
        "Skip:\n",
        "\n",
        "- Dimensionality reduction\n",
        "- Interactions\n",
        "- Monitoring training\n",
        "- Collaborative filtering\n",
        "- Momentum and LR annealing\n"
      ]
    },
    {
      "cell_type": "markdown",
      "metadata": {
        "id": "7oopdPcCwr_I",
        "colab_type": "text"
      },
      "source": [
        "## Imports"
      ]
    },
    {
      "cell_type": "code",
      "metadata": {
        "id": "tLH5k7clwr_I",
        "colab_type": "code",
        "colab": {}
      },
      "source": [
        "## So this section is basically for pre-loading the existing data and running them through notebook so we can directly start editing the notebook from whichever point we want\n",
        "%load_ext autoreload\n",
        "%autoreload 2\n",
        "\n",
        "%matplotlib inline"
      ],
      "execution_count": 0,
      "outputs": []
    },
    {
      "cell_type": "code",
      "metadata": {
        "id": "Crp7Kte2wr_L",
        "colab_type": "code",
        "outputId": "f901daee-19d0-4cc4-ae0c-faa9d195f586",
        "colab": {
          "base_uri": "https://localhost:8080/",
          "height": 1000
        }
      },
      "source": [
        "!pip install fastai==0.7.0\n",
        "from fastai.imports import *\n",
        "from fastai.structured import *\n",
        "\n",
        "from pandas_summary import DataFrameSummary\n",
        "from sklearn.ensemble import RandomForestRegressor, RandomForestClassifier\n",
        "from IPython.display import display\n",
        "\n",
        "from sklearn import metrics"
      ],
      "execution_count": 0,
      "outputs": [
        {
          "output_type": "stream",
          "text": [
            "Collecting fastai==0.7.0\n",
            "\u001b[?25l  Downloading https://files.pythonhosted.org/packages/50/6d/9d0d6e17a78b0598d5e8c49a0d03ffc7ff265ae62eca3e2345fab14edb9b/fastai-0.7.0-py3-none-any.whl (112kB)\n",
            "\r\u001b[K     |███                             | 10kB 28.2MB/s eta 0:00:01\r\u001b[K     |█████▉                          | 20kB 2.9MB/s eta 0:00:01\r\u001b[K     |████████▊                       | 30kB 4.0MB/s eta 0:00:01\r\u001b[K     |███████████▋                    | 40kB 2.8MB/s eta 0:00:01\r\u001b[K     |██████████████▌                 | 51kB 3.2MB/s eta 0:00:01\r\u001b[K     |█████████████████▍              | 61kB 3.8MB/s eta 0:00:01\r\u001b[K     |████████████████████▍           | 71kB 4.1MB/s eta 0:00:01\r\u001b[K     |███████████████████████▎        | 81kB 4.5MB/s eta 0:00:01\r\u001b[K     |██████████████████████████▏     | 92kB 5.0MB/s eta 0:00:01\r\u001b[K     |█████████████████████████████   | 102kB 4.7MB/s eta 0:00:01\r\u001b[K     |████████████████████████████████| 112kB 4.7MB/s eta 0:00:01\r\u001b[K     |████████████████████████████████| 122kB 4.7MB/s \n",
            "\u001b[?25hCollecting bcolz\n",
            "\u001b[?25l  Downloading https://files.pythonhosted.org/packages/5c/4e/23942de9d5c0fb16f10335fa83e52b431bcb8c0d4a8419c9ac206268c279/bcolz-1.2.1.tar.gz (1.5MB)\n",
            "\u001b[K     |████████████████████████████████| 1.5MB 15.0MB/s \n",
            "\u001b[?25hRequirement already satisfied: decorator in /usr/local/lib/python3.6/dist-packages (from fastai==0.7.0) (4.4.1)\n",
            "Requirement already satisfied: opencv-python in /usr/local/lib/python3.6/dist-packages (from fastai==0.7.0) (4.1.2.30)\n",
            "Requirement already satisfied: python-dateutil in /usr/local/lib/python3.6/dist-packages (from fastai==0.7.0) (2.6.1)\n",
            "Requirement already satisfied: matplotlib in /usr/local/lib/python3.6/dist-packages (from fastai==0.7.0) (3.1.2)\n",
            "Requirement already satisfied: ipykernel in /usr/local/lib/python3.6/dist-packages (from fastai==0.7.0) (4.6.1)\n",
            "Requirement already satisfied: plotnine in /usr/local/lib/python3.6/dist-packages (from fastai==0.7.0) (0.5.1)\n",
            "Requirement already satisfied: bleach in /usr/local/lib/python3.6/dist-packages (from fastai==0.7.0) (3.1.0)\n",
            "Requirement already satisfied: seaborn in /usr/local/lib/python3.6/dist-packages (from fastai==0.7.0) (0.9.0)\n",
            "Requirement already satisfied: jedi in /usr/local/lib/python3.6/dist-packages (from fastai==0.7.0) (0.15.1)\n",
            "Requirement already satisfied: numpy in /usr/local/lib/python3.6/dist-packages (from fastai==0.7.0) (1.17.4)\n",
            "Requirement already satisfied: pyparsing in /usr/local/lib/python3.6/dist-packages (from fastai==0.7.0) (2.4.5)\n",
            "Requirement already satisfied: MarkupSafe in /usr/local/lib/python3.6/dist-packages (from fastai==0.7.0) (1.1.1)\n",
            "Requirement already satisfied: webencodings in /usr/local/lib/python3.6/dist-packages (from fastai==0.7.0) (0.5.1)\n",
            "Requirement already satisfied: pyzmq in /usr/local/lib/python3.6/dist-packages (from fastai==0.7.0) (17.0.0)\n",
            "Requirement already satisfied: cycler in /usr/local/lib/python3.6/dist-packages (from fastai==0.7.0) (0.10.0)\n",
            "Requirement already satisfied: tornado in /usr/local/lib/python3.6/dist-packages (from fastai==0.7.0) (4.5.3)\n",
            "Requirement already satisfied: widgetsnbextension in /usr/local/lib/python3.6/dist-packages (from fastai==0.7.0) (3.5.1)\n",
            "Requirement already satisfied: torchvision in /usr/local/lib/python3.6/dist-packages (from fastai==0.7.0) (0.4.2)\n",
            "Requirement already satisfied: tqdm in /usr/local/lib/python3.6/dist-packages (from fastai==0.7.0) (4.28.1)\n",
            "Requirement already satisfied: graphviz in /usr/local/lib/python3.6/dist-packages (from fastai==0.7.0) (0.10.1)\n",
            "Requirement already satisfied: ipywidgets in /usr/local/lib/python3.6/dist-packages (from fastai==0.7.0) (7.5.1)\n",
            "Requirement already satisfied: ipython in /usr/local/lib/python3.6/dist-packages (from fastai==0.7.0) (5.5.0)\n",
            "Requirement already satisfied: pytz in /usr/local/lib/python3.6/dist-packages (from fastai==0.7.0) (2018.9)\n",
            "Requirement already satisfied: torchtext in /usr/local/lib/python3.6/dist-packages (from fastai==0.7.0) (0.3.1)\n",
            "Requirement already satisfied: entrypoints in /usr/local/lib/python3.6/dist-packages (from fastai==0.7.0) (0.3)\n",
            "Requirement already satisfied: pandas in /usr/local/lib/python3.6/dist-packages (from fastai==0.7.0) (0.25.3)\n",
            "Requirement already satisfied: simplegeneric in /usr/local/lib/python3.6/dist-packages (from fastai==0.7.0) (0.8.1)\n",
            "Requirement already satisfied: jupyter in /usr/local/lib/python3.6/dist-packages (from fastai==0.7.0) (1.0.0)\n",
            "Requirement already satisfied: pickleshare in /usr/local/lib/python3.6/dist-packages (from fastai==0.7.0) (0.7.5)\n",
            "Requirement already satisfied: ipython-genutils in /usr/local/lib/python3.6/dist-packages (from fastai==0.7.0) (0.2.0)\n",
            "Collecting pandas-summary\n",
            "  Downloading https://files.pythonhosted.org/packages/f5/20/865d4785f86e86f7ad7ebd52fc14810ef59ef13cd959f1363a2615d1c665/pandas_summary-0.0.7-py2.py3-none-any.whl\n",
            "Requirement already satisfied: scipy in /usr/local/lib/python3.6/dist-packages (from fastai==0.7.0) (1.3.3)\n",
            "Requirement already satisfied: html5lib in /usr/local/lib/python3.6/dist-packages (from fastai==0.7.0) (1.0.1)\n",
            "Collecting torch<0.4\n",
            "\u001b[?25l  Downloading https://files.pythonhosted.org/packages/5b/a5/e8b50b55b1abac9f1e3346c4242f1e42a82d368a8442cbd50c532922f6c4/torch-0.3.1-cp36-cp36m-manylinux1_x86_64.whl (496.4MB)\n",
            "\u001b[K     |████████████████████████████████| 496.4MB 35kB/s \n",
            "\u001b[?25hRequirement already satisfied: Jinja2 in /usr/local/lib/python3.6/dist-packages (from fastai==0.7.0) (2.10.3)\n",
            "Requirement already satisfied: PyYAML in /usr/local/lib/python3.6/dist-packages (from fastai==0.7.0) (3.13)\n",
            "Requirement already satisfied: Pygments in /usr/local/lib/python3.6/dist-packages (from fastai==0.7.0) (2.1.3)\n",
            "Requirement already satisfied: testpath in /usr/local/lib/python3.6/dist-packages (from fastai==0.7.0) (0.4.4)\n",
            "Requirement already satisfied: ptyprocess in /usr/local/lib/python3.6/dist-packages (from fastai==0.7.0) (0.6.0)\n",
            "Requirement already satisfied: wcwidth in /usr/local/lib/python3.6/dist-packages (from fastai==0.7.0) (0.1.7)\n",
            "Requirement already satisfied: feather-format in /usr/local/lib/python3.6/dist-packages (from fastai==0.7.0) (0.4.0)\n",
            "Collecting isoweek\n",
            "  Downloading https://files.pythonhosted.org/packages/c2/d4/fe7e2637975c476734fcbf53776e650a29680194eb0dd21dbdc020ca92de/isoweek-1.3.3-py2.py3-none-any.whl\n",
            "Requirement already satisfied: Pillow in /usr/local/lib/python3.6/dist-packages (from fastai==0.7.0) (4.3.0)\n",
            "Requirement already satisfied: traitlets in /usr/local/lib/python3.6/dist-packages (from fastai==0.7.0) (4.3.3)\n",
            "Requirement already satisfied: certifi in /usr/local/lib/python3.6/dist-packages (from fastai==0.7.0) (2019.11.28)\n",
            "Requirement already satisfied: jsonschema in /usr/local/lib/python3.6/dist-packages (from fastai==0.7.0) (2.6.0)\n",
            "Requirement already satisfied: sklearn-pandas in /usr/local/lib/python3.6/dist-packages (from fastai==0.7.0) (1.8.0)\n",
            "Requirement already satisfied: six>=1.5 in /usr/local/lib/python3.6/dist-packages (from python-dateutil->fastai==0.7.0) (1.12.0)\n",
            "Requirement already satisfied: kiwisolver>=1.0.1 in /usr/local/lib/python3.6/dist-packages (from matplotlib->fastai==0.7.0) (1.1.0)\n",
            "Requirement already satisfied: jupyter-client in /usr/local/lib/python3.6/dist-packages (from ipykernel->fastai==0.7.0) (5.3.4)\n",
            "Requirement already satisfied: patsy>=0.4.1 in /usr/local/lib/python3.6/dist-packages (from plotnine->fastai==0.7.0) (0.5.1)\n",
            "Requirement already satisfied: statsmodels>=0.8.0 in /usr/local/lib/python3.6/dist-packages (from plotnine->fastai==0.7.0) (0.10.2)\n",
            "Requirement already satisfied: descartes>=1.1.0 in /usr/local/lib/python3.6/dist-packages (from plotnine->fastai==0.7.0) (1.1.0)\n",
            "Requirement already satisfied: mizani>=0.5.2 in /usr/local/lib/python3.6/dist-packages (from plotnine->fastai==0.7.0) (0.5.4)\n",
            "Requirement already satisfied: parso>=0.5.0 in /usr/local/lib/python3.6/dist-packages (from jedi->fastai==0.7.0) (0.5.2)\n",
            "Requirement already satisfied: notebook>=4.4.1 in /usr/local/lib/python3.6/dist-packages (from widgetsnbextension->fastai==0.7.0) (5.2.2)\n",
            "Requirement already satisfied: nbformat>=4.2.0 in /usr/local/lib/python3.6/dist-packages (from ipywidgets->fastai==0.7.0) (4.4.0)\n",
            "Requirement already satisfied: setuptools>=18.5 in /usr/local/lib/python3.6/dist-packages (from ipython->fastai==0.7.0) (42.0.2)\n",
            "Requirement already satisfied: pexpect; sys_platform != \"win32\" in /usr/local/lib/python3.6/dist-packages (from ipython->fastai==0.7.0) (4.7.0)\n",
            "Requirement already satisfied: prompt-toolkit<2.0.0,>=1.0.4 in /usr/local/lib/python3.6/dist-packages (from ipython->fastai==0.7.0) (1.0.18)\n",
            "Requirement already satisfied: requests in /usr/local/lib/python3.6/dist-packages (from torchtext->fastai==0.7.0) (2.21.0)\n",
            "Requirement already satisfied: nbconvert in /usr/local/lib/python3.6/dist-packages (from jupyter->fastai==0.7.0) (5.6.1)\n",
            "Requirement already satisfied: qtconsole in /usr/local/lib/python3.6/dist-packages (from jupyter->fastai==0.7.0) (4.6.0)\n",
            "Requirement already satisfied: jupyter-console in /usr/local/lib/python3.6/dist-packages (from jupyter->fastai==0.7.0) (5.2.0)\n",
            "Requirement already satisfied: pyarrow>=0.4.0 in /usr/local/lib/python3.6/dist-packages (from feather-format->fastai==0.7.0) (0.14.1)\n",
            "Requirement already satisfied: olefile in /usr/local/lib/python3.6/dist-packages (from Pillow->fastai==0.7.0) (0.46)\n",
            "Requirement already satisfied: scikit-learn>=0.15.0 in /usr/local/lib/python3.6/dist-packages (from sklearn-pandas->fastai==0.7.0) (0.21.3)\n",
            "Requirement already satisfied: jupyter-core>=4.6.0 in /usr/local/lib/python3.6/dist-packages (from jupyter-client->ipykernel->fastai==0.7.0) (4.6.1)\n",
            "Requirement already satisfied: palettable in /usr/local/lib/python3.6/dist-packages (from mizani>=0.5.2->plotnine->fastai==0.7.0) (3.3.0)\n",
            "Requirement already satisfied: terminado>=0.3.3; sys_platform != \"win32\" in /usr/local/lib/python3.6/dist-packages (from notebook>=4.4.1->widgetsnbextension->fastai==0.7.0) (0.8.3)\n",
            "Requirement already satisfied: idna<2.9,>=2.5 in /usr/local/lib/python3.6/dist-packages (from requests->torchtext->fastai==0.7.0) (2.8)\n",
            "Requirement already satisfied: urllib3<1.25,>=1.21.1 in /usr/local/lib/python3.6/dist-packages (from requests->torchtext->fastai==0.7.0) (1.24.3)\n",
            "Requirement already satisfied: chardet<3.1.0,>=3.0.2 in /usr/local/lib/python3.6/dist-packages (from requests->torchtext->fastai==0.7.0) (3.0.4)\n",
            "Requirement already satisfied: defusedxml in /usr/local/lib/python3.6/dist-packages (from nbconvert->jupyter->fastai==0.7.0) (0.6.0)\n",
            "Requirement already satisfied: mistune<2,>=0.8.1 in /usr/local/lib/python3.6/dist-packages (from nbconvert->jupyter->fastai==0.7.0) (0.8.4)\n",
            "Requirement already satisfied: pandocfilters>=1.4.1 in /usr/local/lib/python3.6/dist-packages (from nbconvert->jupyter->fastai==0.7.0) (1.4.2)\n",
            "Requirement already satisfied: joblib>=0.11 in /usr/local/lib/python3.6/dist-packages (from scikit-learn>=0.15.0->sklearn-pandas->fastai==0.7.0) (0.14.1)\n",
            "Building wheels for collected packages: bcolz\n",
            "  Building wheel for bcolz (setup.py) ... \u001b[?25l\u001b[?25hdone\n",
            "  Created wheel for bcolz: filename=bcolz-1.2.1-cp36-cp36m-linux_x86_64.whl size=2660800 sha256=6af1bb75ff738e91237df2f759a54c4a9d1d7070cf305379a6ac8080ae4b0917\n",
            "  Stored in directory: /root/.cache/pip/wheels/9f/78/26/fb8c0acb91a100dc8914bf236c4eaa4b207cb876893c40b745\n",
            "Successfully built bcolz\n",
            "\u001b[31mERROR: torchvision 0.4.2 has requirement torch==1.3.1, but you'll have torch 0.3.1 which is incompatible.\u001b[0m\n",
            "Installing collected packages: bcolz, pandas-summary, torch, isoweek, fastai\n",
            "  Found existing installation: torch 1.3.1\n",
            "    Uninstalling torch-1.3.1:\n",
            "      Successfully uninstalled torch-1.3.1\n",
            "  Found existing installation: fastai 1.0.59\n",
            "    Uninstalling fastai-1.0.59:\n",
            "      Successfully uninstalled fastai-1.0.59\n",
            "Successfully installed bcolz-1.2.1 fastai-0.7.0 isoweek-1.3.3 pandas-summary-0.0.7 torch-0.3.1\n"
          ],
          "name": "stdout"
        }
      ]
    },
    {
      "cell_type": "code",
      "metadata": {
        "id": "jIgFQooaOXnm",
        "colab_type": "code",
        "outputId": "9752d86f-f482-4c9f-84d2-dc2d8c92c0bf",
        "colab": {
          "resources": {
            "http://localhost:8080/nbextensions/google.colab/files.js": {
              "data": "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",
              "ok": true,
              "headers": [
                [
                  "content-type",
                  "application/javascript"
                ]
              ],
              "status": 200,
              "status_text": ""
            }
          },
          "base_uri": "https://localhost:8080/",
          "height": 74
        }
      },
      "source": [
        "from google.colab import files\n",
        "uploaded = files.upload()"
      ],
      "execution_count": 0,
      "outputs": [
        {
          "output_type": "display_data",
          "data": {
            "text/html": [
              "\n",
              "     <input type=\"file\" id=\"files-881b4258-ec89-40e9-82a7-c22bf39690f9\" name=\"files[]\" multiple disabled />\n",
              "     <output id=\"result-881b4258-ec89-40e9-82a7-c22bf39690f9\">\n",
              "      Upload widget is only available when the cell has been executed in the\n",
              "      current browser session. Please rerun this cell to enable.\n",
              "      </output>\n",
              "      <script src=\"/nbextensions/google.colab/files.js\"></script> "
            ],
            "text/plain": [
              "<IPython.core.display.HTML object>"
            ]
          },
          "metadata": {
            "tags": []
          }
        },
        {
          "output_type": "stream",
          "text": [
            "Saving Train.csv to Train.csv\n"
          ],
          "name": "stdout"
        }
      ]
    },
    {
      "cell_type": "code",
      "metadata": {
        "id": "UIL0nQ8EBO87",
        "colab_type": "code",
        "outputId": "256057e8-29a8-440f-c29a-f568054aa236",
        "colab": {
          "base_uri": "https://localhost:8080/",
          "height": 51
        }
      },
      "source": [
        "import pandas as pd\n",
        "import io\n",
        "df_raw = pd.read_csv(io.StringIO(uploaded['Train.csv'].decode('utf-8')))"
      ],
      "execution_count": 0,
      "outputs": [
        {
          "output_type": "stream",
          "text": [
            "/usr/local/lib/python3.6/dist-packages/IPython/core/interactiveshell.py:2718: DtypeWarning: Columns (13,39,40,41) have mixed types. Specify dtype option on import or set low_memory=False.\n",
            "  interactivity=interactivity, compiler=compiler, result=result)\n"
          ],
          "name": "stderr"
        }
      ]
    },
    {
      "cell_type": "code",
      "metadata": {
        "id": "hBhrLNQjDZ5c",
        "colab_type": "code",
        "outputId": "e78968f3-4e6c-49fb-b255-3a33995c493b",
        "colab": {
          "base_uri": "https://localhost:8080/",
          "height": 745
        }
      },
      "source": [
        "df_raw"
      ],
      "execution_count": 0,
      "outputs": [
        {
          "output_type": "execute_result",
          "data": {
            "text/html": [
              "<div>\n",
              "<style scoped>\n",
              "    .dataframe tbody tr th:only-of-type {\n",
              "        vertical-align: middle;\n",
              "    }\n",
              "\n",
              "    .dataframe tbody tr th {\n",
              "        vertical-align: top;\n",
              "    }\n",
              "\n",
              "    .dataframe thead th {\n",
              "        text-align: right;\n",
              "    }\n",
              "</style>\n",
              "<table border=\"1\" class=\"dataframe\">\n",
              "  <thead>\n",
              "    <tr style=\"text-align: right;\">\n",
              "      <th></th>\n",
              "      <th>SalesID</th>\n",
              "      <th>SalePrice</th>\n",
              "      <th>MachineID</th>\n",
              "      <th>ModelID</th>\n",
              "      <th>datasource</th>\n",
              "      <th>auctioneerID</th>\n",
              "      <th>YearMade</th>\n",
              "      <th>MachineHoursCurrentMeter</th>\n",
              "      <th>UsageBand</th>\n",
              "      <th>saledate</th>\n",
              "      <th>fiModelDesc</th>\n",
              "      <th>fiBaseModel</th>\n",
              "      <th>fiSecondaryDesc</th>\n",
              "      <th>fiModelSeries</th>\n",
              "      <th>fiModelDescriptor</th>\n",
              "      <th>ProductSize</th>\n",
              "      <th>fiProductClassDesc</th>\n",
              "      <th>state</th>\n",
              "      <th>ProductGroup</th>\n",
              "      <th>ProductGroupDesc</th>\n",
              "      <th>Drive_System</th>\n",
              "      <th>Enclosure</th>\n",
              "      <th>Forks</th>\n",
              "      <th>Pad_Type</th>\n",
              "      <th>Ride_Control</th>\n",
              "      <th>Stick</th>\n",
              "      <th>Transmission</th>\n",
              "      <th>Turbocharged</th>\n",
              "      <th>Blade_Extension</th>\n",
              "      <th>Blade_Width</th>\n",
              "      <th>Enclosure_Type</th>\n",
              "      <th>Engine_Horsepower</th>\n",
              "      <th>Hydraulics</th>\n",
              "      <th>Pushblock</th>\n",
              "      <th>Ripper</th>\n",
              "      <th>Scarifier</th>\n",
              "      <th>Tip_Control</th>\n",
              "      <th>Tire_Size</th>\n",
              "      <th>Coupler</th>\n",
              "      <th>Coupler_System</th>\n",
              "      <th>Grouser_Tracks</th>\n",
              "      <th>Hydraulics_Flow</th>\n",
              "      <th>Track_Type</th>\n",
              "      <th>Undercarriage_Pad_Width</th>\n",
              "      <th>Stick_Length</th>\n",
              "      <th>Thumb</th>\n",
              "      <th>Pattern_Changer</th>\n",
              "      <th>Grouser_Type</th>\n",
              "      <th>Backhoe_Mounting</th>\n",
              "      <th>Blade_Type</th>\n",
              "      <th>Travel_Controls</th>\n",
              "      <th>Differential_Type</th>\n",
              "      <th>Steering_Controls</th>\n",
              "    </tr>\n",
              "  </thead>\n",
              "  <tbody>\n",
              "    <tr>\n",
              "      <th>0</th>\n",
              "      <td>1139246</td>\n",
              "      <td>66000</td>\n",
              "      <td>999089</td>\n",
              "      <td>3157</td>\n",
              "      <td>121</td>\n",
              "      <td>3.0</td>\n",
              "      <td>2004</td>\n",
              "      <td>68.0</td>\n",
              "      <td>Low</td>\n",
              "      <td>11/16/2006 0:00</td>\n",
              "      <td>521D</td>\n",
              "      <td>521</td>\n",
              "      <td>D</td>\n",
              "      <td>NaN</td>\n",
              "      <td>NaN</td>\n",
              "      <td>NaN</td>\n",
              "      <td>Wheel Loader - 110.0 to 120.0 Horsepower</td>\n",
              "      <td>Alabama</td>\n",
              "      <td>WL</td>\n",
              "      <td>Wheel Loader</td>\n",
              "      <td>NaN</td>\n",
              "      <td>EROPS w AC</td>\n",
              "      <td>None or Unspecified</td>\n",
              "      <td>NaN</td>\n",
              "      <td>None or Unspecified</td>\n",
              "      <td>NaN</td>\n",
              "      <td>NaN</td>\n",
              "      <td>NaN</td>\n",
              "      <td>NaN</td>\n",
              "      <td>NaN</td>\n",
              "      <td>NaN</td>\n",
              "      <td>NaN</td>\n",
              "      <td>2 Valve</td>\n",
              "      <td>NaN</td>\n",
              "      <td>NaN</td>\n",
              "      <td>NaN</td>\n",
              "      <td>NaN</td>\n",
              "      <td>None or Unspecified</td>\n",
              "      <td>None or Unspecified</td>\n",
              "      <td>NaN</td>\n",
              "      <td>NaN</td>\n",
              "      <td>NaN</td>\n",
              "      <td>NaN</td>\n",
              "      <td>NaN</td>\n",
              "      <td>NaN</td>\n",
              "      <td>NaN</td>\n",
              "      <td>NaN</td>\n",
              "      <td>NaN</td>\n",
              "      <td>NaN</td>\n",
              "      <td>NaN</td>\n",
              "      <td>NaN</td>\n",
              "      <td>Standard</td>\n",
              "      <td>Conventional</td>\n",
              "    </tr>\n",
              "    <tr>\n",
              "      <th>1</th>\n",
              "      <td>1139248</td>\n",
              "      <td>57000</td>\n",
              "      <td>117657</td>\n",
              "      <td>77</td>\n",
              "      <td>121</td>\n",
              "      <td>3.0</td>\n",
              "      <td>1996</td>\n",
              "      <td>4640.0</td>\n",
              "      <td>Low</td>\n",
              "      <td>3/26/2004 0:00</td>\n",
              "      <td>950FII</td>\n",
              "      <td>950</td>\n",
              "      <td>F</td>\n",
              "      <td>II</td>\n",
              "      <td>NaN</td>\n",
              "      <td>Medium</td>\n",
              "      <td>Wheel Loader - 150.0 to 175.0 Horsepower</td>\n",
              "      <td>North Carolina</td>\n",
              "      <td>WL</td>\n",
              "      <td>Wheel Loader</td>\n",
              "      <td>NaN</td>\n",
              "      <td>EROPS w AC</td>\n",
              "      <td>None or Unspecified</td>\n",
              "      <td>NaN</td>\n",
              "      <td>None or Unspecified</td>\n",
              "      <td>NaN</td>\n",
              "      <td>NaN</td>\n",
              "      <td>NaN</td>\n",
              "      <td>NaN</td>\n",
              "      <td>NaN</td>\n",
              "      <td>NaN</td>\n",
              "      <td>NaN</td>\n",
              "      <td>2 Valve</td>\n",
              "      <td>NaN</td>\n",
              "      <td>NaN</td>\n",
              "      <td>NaN</td>\n",
              "      <td>NaN</td>\n",
              "      <td>23.5</td>\n",
              "      <td>None or Unspecified</td>\n",
              "      <td>NaN</td>\n",
              "      <td>NaN</td>\n",
              "      <td>NaN</td>\n",
              "      <td>NaN</td>\n",
              "      <td>NaN</td>\n",
              "      <td>NaN</td>\n",
              "      <td>NaN</td>\n",
              "      <td>NaN</td>\n",
              "      <td>NaN</td>\n",
              "      <td>NaN</td>\n",
              "      <td>NaN</td>\n",
              "      <td>NaN</td>\n",
              "      <td>Standard</td>\n",
              "      <td>Conventional</td>\n",
              "    </tr>\n",
              "    <tr>\n",
              "      <th>2</th>\n",
              "      <td>1139249</td>\n",
              "      <td>10000</td>\n",
              "      <td>434808</td>\n",
              "      <td>7009</td>\n",
              "      <td>121</td>\n",
              "      <td>3.0</td>\n",
              "      <td>2001</td>\n",
              "      <td>2838.0</td>\n",
              "      <td>High</td>\n",
              "      <td>2/26/2004 0:00</td>\n",
              "      <td>226</td>\n",
              "      <td>226</td>\n",
              "      <td>NaN</td>\n",
              "      <td>NaN</td>\n",
              "      <td>NaN</td>\n",
              "      <td>NaN</td>\n",
              "      <td>Skid Steer Loader - 1351.0 to 1601.0 Lb Operat...</td>\n",
              "      <td>New York</td>\n",
              "      <td>SSL</td>\n",
              "      <td>Skid Steer Loaders</td>\n",
              "      <td>NaN</td>\n",
              "      <td>OROPS</td>\n",
              "      <td>None or Unspecified</td>\n",
              "      <td>NaN</td>\n",
              "      <td>NaN</td>\n",
              "      <td>NaN</td>\n",
              "      <td>NaN</td>\n",
              "      <td>NaN</td>\n",
              "      <td>NaN</td>\n",
              "      <td>NaN</td>\n",
              "      <td>NaN</td>\n",
              "      <td>NaN</td>\n",
              "      <td>Auxiliary</td>\n",
              "      <td>NaN</td>\n",
              "      <td>NaN</td>\n",
              "      <td>NaN</td>\n",
              "      <td>NaN</td>\n",
              "      <td>NaN</td>\n",
              "      <td>None or Unspecified</td>\n",
              "      <td>None or Unspecified</td>\n",
              "      <td>None or Unspecified</td>\n",
              "      <td>Standard</td>\n",
              "      <td>NaN</td>\n",
              "      <td>NaN</td>\n",
              "      <td>NaN</td>\n",
              "      <td>NaN</td>\n",
              "      <td>NaN</td>\n",
              "      <td>NaN</td>\n",
              "      <td>NaN</td>\n",
              "      <td>NaN</td>\n",
              "      <td>NaN</td>\n",
              "      <td>NaN</td>\n",
              "      <td>NaN</td>\n",
              "    </tr>\n",
              "    <tr>\n",
              "      <th>3</th>\n",
              "      <td>1139251</td>\n",
              "      <td>38500</td>\n",
              "      <td>1026470</td>\n",
              "      <td>332</td>\n",
              "      <td>121</td>\n",
              "      <td>3.0</td>\n",
              "      <td>2001</td>\n",
              "      <td>3486.0</td>\n",
              "      <td>High</td>\n",
              "      <td>5/19/2011 0:00</td>\n",
              "      <td>PC120-6E</td>\n",
              "      <td>PC120</td>\n",
              "      <td>NaN</td>\n",
              "      <td>-6E</td>\n",
              "      <td>NaN</td>\n",
              "      <td>Small</td>\n",
              "      <td>Hydraulic Excavator, Track - 12.0 to 14.0 Metr...</td>\n",
              "      <td>Texas</td>\n",
              "      <td>TEX</td>\n",
              "      <td>Track Excavators</td>\n",
              "      <td>NaN</td>\n",
              "      <td>EROPS w AC</td>\n",
              "      <td>NaN</td>\n",
              "      <td>NaN</td>\n",
              "      <td>NaN</td>\n",
              "      <td>NaN</td>\n",
              "      <td>NaN</td>\n",
              "      <td>NaN</td>\n",
              "      <td>NaN</td>\n",
              "      <td>NaN</td>\n",
              "      <td>NaN</td>\n",
              "      <td>NaN</td>\n",
              "      <td>2 Valve</td>\n",
              "      <td>NaN</td>\n",
              "      <td>NaN</td>\n",
              "      <td>NaN</td>\n",
              "      <td>NaN</td>\n",
              "      <td>NaN</td>\n",
              "      <td>None or Unspecified</td>\n",
              "      <td>NaN</td>\n",
              "      <td>NaN</td>\n",
              "      <td>NaN</td>\n",
              "      <td>NaN</td>\n",
              "      <td>NaN</td>\n",
              "      <td>NaN</td>\n",
              "      <td>NaN</td>\n",
              "      <td>NaN</td>\n",
              "      <td>NaN</td>\n",
              "      <td>NaN</td>\n",
              "      <td>NaN</td>\n",
              "      <td>NaN</td>\n",
              "      <td>NaN</td>\n",
              "      <td>NaN</td>\n",
              "    </tr>\n",
              "    <tr>\n",
              "      <th>4</th>\n",
              "      <td>1139253</td>\n",
              "      <td>11000</td>\n",
              "      <td>1057373</td>\n",
              "      <td>17311</td>\n",
              "      <td>121</td>\n",
              "      <td>3.0</td>\n",
              "      <td>2007</td>\n",
              "      <td>722.0</td>\n",
              "      <td>Medium</td>\n",
              "      <td>7/23/2009 0:00</td>\n",
              "      <td>S175</td>\n",
              "      <td>S175</td>\n",
              "      <td>NaN</td>\n",
              "      <td>NaN</td>\n",
              "      <td>NaN</td>\n",
              "      <td>NaN</td>\n",
              "      <td>Skid Steer Loader - 1601.0 to 1751.0 Lb Operat...</td>\n",
              "      <td>New York</td>\n",
              "      <td>SSL</td>\n",
              "      <td>Skid Steer Loaders</td>\n",
              "      <td>NaN</td>\n",
              "      <td>EROPS</td>\n",
              "      <td>None or Unspecified</td>\n",
              "      <td>NaN</td>\n",
              "      <td>NaN</td>\n",
              "      <td>NaN</td>\n",
              "      <td>NaN</td>\n",
              "      <td>NaN</td>\n",
              "      <td>NaN</td>\n",
              "      <td>NaN</td>\n",
              "      <td>NaN</td>\n",
              "      <td>NaN</td>\n",
              "      <td>Auxiliary</td>\n",
              "      <td>NaN</td>\n",
              "      <td>NaN</td>\n",
              "      <td>NaN</td>\n",
              "      <td>NaN</td>\n",
              "      <td>NaN</td>\n",
              "      <td>None or Unspecified</td>\n",
              "      <td>None or Unspecified</td>\n",
              "      <td>None or Unspecified</td>\n",
              "      <td>Standard</td>\n",
              "      <td>NaN</td>\n",
              "      <td>NaN</td>\n",
              "      <td>NaN</td>\n",
              "      <td>NaN</td>\n",
              "      <td>NaN</td>\n",
              "      <td>NaN</td>\n",
              "      <td>NaN</td>\n",
              "      <td>NaN</td>\n",
              "      <td>NaN</td>\n",
              "      <td>NaN</td>\n",
              "      <td>NaN</td>\n",
              "    </tr>\n",
              "    <tr>\n",
              "      <th>...</th>\n",
              "      <td>...</td>\n",
              "      <td>...</td>\n",
              "      <td>...</td>\n",
              "      <td>...</td>\n",
              "      <td>...</td>\n",
              "      <td>...</td>\n",
              "      <td>...</td>\n",
              "      <td>...</td>\n",
              "      <td>...</td>\n",
              "      <td>...</td>\n",
              "      <td>...</td>\n",
              "      <td>...</td>\n",
              "      <td>...</td>\n",
              "      <td>...</td>\n",
              "      <td>...</td>\n",
              "      <td>...</td>\n",
              "      <td>...</td>\n",
              "      <td>...</td>\n",
              "      <td>...</td>\n",
              "      <td>...</td>\n",
              "      <td>...</td>\n",
              "      <td>...</td>\n",
              "      <td>...</td>\n",
              "      <td>...</td>\n",
              "      <td>...</td>\n",
              "      <td>...</td>\n",
              "      <td>...</td>\n",
              "      <td>...</td>\n",
              "      <td>...</td>\n",
              "      <td>...</td>\n",
              "      <td>...</td>\n",
              "      <td>...</td>\n",
              "      <td>...</td>\n",
              "      <td>...</td>\n",
              "      <td>...</td>\n",
              "      <td>...</td>\n",
              "      <td>...</td>\n",
              "      <td>...</td>\n",
              "      <td>...</td>\n",
              "      <td>...</td>\n",
              "      <td>...</td>\n",
              "      <td>...</td>\n",
              "      <td>...</td>\n",
              "      <td>...</td>\n",
              "      <td>...</td>\n",
              "      <td>...</td>\n",
              "      <td>...</td>\n",
              "      <td>...</td>\n",
              "      <td>...</td>\n",
              "      <td>...</td>\n",
              "      <td>...</td>\n",
              "      <td>...</td>\n",
              "      <td>...</td>\n",
              "    </tr>\n",
              "    <tr>\n",
              "      <th>401120</th>\n",
              "      <td>6333336</td>\n",
              "      <td>10500</td>\n",
              "      <td>1840702</td>\n",
              "      <td>21439</td>\n",
              "      <td>149</td>\n",
              "      <td>1.0</td>\n",
              "      <td>2005</td>\n",
              "      <td>NaN</td>\n",
              "      <td>NaN</td>\n",
              "      <td>11/2/2011 0:00</td>\n",
              "      <td>35NX2</td>\n",
              "      <td>35</td>\n",
              "      <td>NX</td>\n",
              "      <td>2</td>\n",
              "      <td>NaN</td>\n",
              "      <td>Mini</td>\n",
              "      <td>Hydraulic Excavator, Track - 3.0 to 4.0 Metric...</td>\n",
              "      <td>Maryland</td>\n",
              "      <td>TEX</td>\n",
              "      <td>Track Excavators</td>\n",
              "      <td>NaN</td>\n",
              "      <td>EROPS</td>\n",
              "      <td>NaN</td>\n",
              "      <td>NaN</td>\n",
              "      <td>NaN</td>\n",
              "      <td>NaN</td>\n",
              "      <td>NaN</td>\n",
              "      <td>NaN</td>\n",
              "      <td>NaN</td>\n",
              "      <td>NaN</td>\n",
              "      <td>NaN</td>\n",
              "      <td>NaN</td>\n",
              "      <td>Auxiliary</td>\n",
              "      <td>NaN</td>\n",
              "      <td>NaN</td>\n",
              "      <td>NaN</td>\n",
              "      <td>NaN</td>\n",
              "      <td>NaN</td>\n",
              "      <td>None or Unspecified</td>\n",
              "      <td>NaN</td>\n",
              "      <td>NaN</td>\n",
              "      <td>NaN</td>\n",
              "      <td>Steel</td>\n",
              "      <td>None or Unspecified</td>\n",
              "      <td>None or Unspecified</td>\n",
              "      <td>None or Unspecified</td>\n",
              "      <td>None or Unspecified</td>\n",
              "      <td>Double</td>\n",
              "      <td>NaN</td>\n",
              "      <td>NaN</td>\n",
              "      <td>NaN</td>\n",
              "      <td>NaN</td>\n",
              "      <td>NaN</td>\n",
              "    </tr>\n",
              "    <tr>\n",
              "      <th>401121</th>\n",
              "      <td>6333337</td>\n",
              "      <td>11000</td>\n",
              "      <td>1830472</td>\n",
              "      <td>21439</td>\n",
              "      <td>149</td>\n",
              "      <td>1.0</td>\n",
              "      <td>2005</td>\n",
              "      <td>NaN</td>\n",
              "      <td>NaN</td>\n",
              "      <td>11/2/2011 0:00</td>\n",
              "      <td>35NX2</td>\n",
              "      <td>35</td>\n",
              "      <td>NX</td>\n",
              "      <td>2</td>\n",
              "      <td>NaN</td>\n",
              "      <td>Mini</td>\n",
              "      <td>Hydraulic Excavator, Track - 3.0 to 4.0 Metric...</td>\n",
              "      <td>Maryland</td>\n",
              "      <td>TEX</td>\n",
              "      <td>Track Excavators</td>\n",
              "      <td>NaN</td>\n",
              "      <td>EROPS</td>\n",
              "      <td>NaN</td>\n",
              "      <td>NaN</td>\n",
              "      <td>NaN</td>\n",
              "      <td>NaN</td>\n",
              "      <td>NaN</td>\n",
              "      <td>NaN</td>\n",
              "      <td>NaN</td>\n",
              "      <td>NaN</td>\n",
              "      <td>NaN</td>\n",
              "      <td>NaN</td>\n",
              "      <td>Standard</td>\n",
              "      <td>NaN</td>\n",
              "      <td>NaN</td>\n",
              "      <td>NaN</td>\n",
              "      <td>NaN</td>\n",
              "      <td>NaN</td>\n",
              "      <td>None or Unspecified</td>\n",
              "      <td>NaN</td>\n",
              "      <td>NaN</td>\n",
              "      <td>NaN</td>\n",
              "      <td>Steel</td>\n",
              "      <td>None or Unspecified</td>\n",
              "      <td>None or Unspecified</td>\n",
              "      <td>None or Unspecified</td>\n",
              "      <td>None or Unspecified</td>\n",
              "      <td>Double</td>\n",
              "      <td>NaN</td>\n",
              "      <td>NaN</td>\n",
              "      <td>NaN</td>\n",
              "      <td>NaN</td>\n",
              "      <td>NaN</td>\n",
              "    </tr>\n",
              "    <tr>\n",
              "      <th>401122</th>\n",
              "      <td>6333338</td>\n",
              "      <td>11500</td>\n",
              "      <td>1887659</td>\n",
              "      <td>21439</td>\n",
              "      <td>149</td>\n",
              "      <td>1.0</td>\n",
              "      <td>2005</td>\n",
              "      <td>NaN</td>\n",
              "      <td>NaN</td>\n",
              "      <td>11/2/2011 0:00</td>\n",
              "      <td>35NX2</td>\n",
              "      <td>35</td>\n",
              "      <td>NX</td>\n",
              "      <td>2</td>\n",
              "      <td>NaN</td>\n",
              "      <td>Mini</td>\n",
              "      <td>Hydraulic Excavator, Track - 3.0 to 4.0 Metric...</td>\n",
              "      <td>Maryland</td>\n",
              "      <td>TEX</td>\n",
              "      <td>Track Excavators</td>\n",
              "      <td>NaN</td>\n",
              "      <td>EROPS</td>\n",
              "      <td>NaN</td>\n",
              "      <td>NaN</td>\n",
              "      <td>NaN</td>\n",
              "      <td>NaN</td>\n",
              "      <td>NaN</td>\n",
              "      <td>NaN</td>\n",
              "      <td>NaN</td>\n",
              "      <td>NaN</td>\n",
              "      <td>NaN</td>\n",
              "      <td>NaN</td>\n",
              "      <td>Auxiliary</td>\n",
              "      <td>NaN</td>\n",
              "      <td>NaN</td>\n",
              "      <td>NaN</td>\n",
              "      <td>NaN</td>\n",
              "      <td>NaN</td>\n",
              "      <td>None or Unspecified</td>\n",
              "      <td>NaN</td>\n",
              "      <td>NaN</td>\n",
              "      <td>NaN</td>\n",
              "      <td>Steel</td>\n",
              "      <td>None or Unspecified</td>\n",
              "      <td>None or Unspecified</td>\n",
              "      <td>None or Unspecified</td>\n",
              "      <td>None or Unspecified</td>\n",
              "      <td>Double</td>\n",
              "      <td>NaN</td>\n",
              "      <td>NaN</td>\n",
              "      <td>NaN</td>\n",
              "      <td>NaN</td>\n",
              "      <td>NaN</td>\n",
              "    </tr>\n",
              "    <tr>\n",
              "      <th>401123</th>\n",
              "      <td>6333341</td>\n",
              "      <td>9000</td>\n",
              "      <td>1903570</td>\n",
              "      <td>21435</td>\n",
              "      <td>149</td>\n",
              "      <td>2.0</td>\n",
              "      <td>2005</td>\n",
              "      <td>NaN</td>\n",
              "      <td>NaN</td>\n",
              "      <td>10/25/2011 0:00</td>\n",
              "      <td>30NX</td>\n",
              "      <td>30</td>\n",
              "      <td>NX</td>\n",
              "      <td>NaN</td>\n",
              "      <td>NaN</td>\n",
              "      <td>Mini</td>\n",
              "      <td>Hydraulic Excavator, Track - 2.0 to 3.0 Metric...</td>\n",
              "      <td>Florida</td>\n",
              "      <td>TEX</td>\n",
              "      <td>Track Excavators</td>\n",
              "      <td>NaN</td>\n",
              "      <td>EROPS</td>\n",
              "      <td>NaN</td>\n",
              "      <td>NaN</td>\n",
              "      <td>NaN</td>\n",
              "      <td>NaN</td>\n",
              "      <td>NaN</td>\n",
              "      <td>NaN</td>\n",
              "      <td>NaN</td>\n",
              "      <td>NaN</td>\n",
              "      <td>NaN</td>\n",
              "      <td>NaN</td>\n",
              "      <td>Standard</td>\n",
              "      <td>NaN</td>\n",
              "      <td>NaN</td>\n",
              "      <td>NaN</td>\n",
              "      <td>NaN</td>\n",
              "      <td>NaN</td>\n",
              "      <td>None or Unspecified</td>\n",
              "      <td>NaN</td>\n",
              "      <td>NaN</td>\n",
              "      <td>NaN</td>\n",
              "      <td>Steel</td>\n",
              "      <td>None or Unspecified</td>\n",
              "      <td>None or Unspecified</td>\n",
              "      <td>None or Unspecified</td>\n",
              "      <td>None or Unspecified</td>\n",
              "      <td>Double</td>\n",
              "      <td>NaN</td>\n",
              "      <td>NaN</td>\n",
              "      <td>NaN</td>\n",
              "      <td>NaN</td>\n",
              "      <td>NaN</td>\n",
              "    </tr>\n",
              "    <tr>\n",
              "      <th>401124</th>\n",
              "      <td>6333342</td>\n",
              "      <td>7750</td>\n",
              "      <td>1926965</td>\n",
              "      <td>21435</td>\n",
              "      <td>149</td>\n",
              "      <td>2.0</td>\n",
              "      <td>2005</td>\n",
              "      <td>NaN</td>\n",
              "      <td>NaN</td>\n",
              "      <td>10/25/2011 0:00</td>\n",
              "      <td>30NX</td>\n",
              "      <td>30</td>\n",
              "      <td>NX</td>\n",
              "      <td>NaN</td>\n",
              "      <td>NaN</td>\n",
              "      <td>Mini</td>\n",
              "      <td>Hydraulic Excavator, Track - 2.0 to 3.0 Metric...</td>\n",
              "      <td>Florida</td>\n",
              "      <td>TEX</td>\n",
              "      <td>Track Excavators</td>\n",
              "      <td>NaN</td>\n",
              "      <td>EROPS</td>\n",
              "      <td>NaN</td>\n",
              "      <td>NaN</td>\n",
              "      <td>NaN</td>\n",
              "      <td>NaN</td>\n",
              "      <td>NaN</td>\n",
              "      <td>NaN</td>\n",
              "      <td>NaN</td>\n",
              "      <td>NaN</td>\n",
              "      <td>NaN</td>\n",
              "      <td>NaN</td>\n",
              "      <td>Standard</td>\n",
              "      <td>NaN</td>\n",
              "      <td>NaN</td>\n",
              "      <td>NaN</td>\n",
              "      <td>NaN</td>\n",
              "      <td>NaN</td>\n",
              "      <td>None or Unspecified</td>\n",
              "      <td>NaN</td>\n",
              "      <td>NaN</td>\n",
              "      <td>NaN</td>\n",
              "      <td>Steel</td>\n",
              "      <td>None or Unspecified</td>\n",
              "      <td>None or Unspecified</td>\n",
              "      <td>None or Unspecified</td>\n",
              "      <td>None or Unspecified</td>\n",
              "      <td>Double</td>\n",
              "      <td>NaN</td>\n",
              "      <td>NaN</td>\n",
              "      <td>NaN</td>\n",
              "      <td>NaN</td>\n",
              "      <td>NaN</td>\n",
              "    </tr>\n",
              "  </tbody>\n",
              "</table>\n",
              "<p>401125 rows × 53 columns</p>\n",
              "</div>"
            ],
            "text/plain": [
              "        SalesID  SalePrice  ...  Differential_Type  Steering_Controls\n",
              "0       1139246      66000  ...           Standard       Conventional\n",
              "1       1139248      57000  ...           Standard       Conventional\n",
              "2       1139249      10000  ...                NaN                NaN\n",
              "3       1139251      38500  ...                NaN                NaN\n",
              "4       1139253      11000  ...                NaN                NaN\n",
              "...         ...        ...  ...                ...                ...\n",
              "401120  6333336      10500  ...                NaN                NaN\n",
              "401121  6333337      11000  ...                NaN                NaN\n",
              "401122  6333338      11500  ...                NaN                NaN\n",
              "401123  6333341       9000  ...                NaN                NaN\n",
              "401124  6333342       7750  ...                NaN                NaN\n",
              "\n",
              "[401125 rows x 53 columns]"
            ]
          },
          "metadata": {
            "tags": []
          },
          "execution_count": 26
        }
      ]
    },
    {
      "cell_type": "markdown",
      "metadata": {
        "id": "tvWjV4u5wr_R",
        "colab_type": "text"
      },
      "source": [
        "# Introduction to *Blue Book for Bulldozers*"
      ]
    },
    {
      "cell_type": "markdown",
      "metadata": {
        "id": "AQwibEbnwr_S",
        "colab_type": "text"
      },
      "source": [
        "## About..."
      ]
    },
    {
      "cell_type": "markdown",
      "metadata": {
        "id": "9adPZz3hwr_U",
        "colab_type": "text"
      },
      "source": [
        "### ...our teaching"
      ]
    },
    {
      "cell_type": "markdown",
      "metadata": {
        "id": "GcpC5q3Rwr_V",
        "colab_type": "text"
      },
      "source": [
        "At fast.ai we have a distinctive [teaching philosophy](http://www.fast.ai/2016/10/08/teaching-philosophy/) of [\"the whole game\"](https://www.amazon.com/Making-Learning-Whole-Principles-Transform/dp/0470633719/ref=sr_1_1?ie=UTF8&qid=1505094653).  This is different from how most traditional math & technical courses are taught, where you have to learn all the individual elements before you can combine them (Harvard professor David Perkins call this *elementitis*), but it is similar to how topics like *driving* and *baseball* are taught.  That is, you can start driving without [knowing how an internal combustion engine works](https://medium.com/towards-data-science/thoughts-after-taking-the-deeplearning-ai-courses-8568f132153), and children begin playing baseball before they learn all the formal rules."
      ]
    },
    {
      "cell_type": "markdown",
      "metadata": {
        "id": "fd-Y2G8bwr_V",
        "colab_type": "text"
      },
      "source": [
        "### ...our approach to machine learning"
      ]
    },
    {
      "cell_type": "markdown",
      "metadata": {
        "id": "qn8KFWnOwr_W",
        "colab_type": "text"
      },
      "source": [
        "Most machine learning courses will throw at you dozens of different algorithms, with a brief technical description of the math behind them, and maybe a toy example. You're left confused by the enormous range of techniques shown and have little practical understanding of how to apply them.\n",
        "\n",
        "The good news is that modern machine learning can be distilled down to a couple of key techniques that are of very wide applicability. Recent studies have shown that the vast majority of datasets can be best modeled with just two methods:\n",
        "\n",
        "- *Ensembles of decision trees* (i.e. Random Forests and Gradient Boosting Machines), mainly for structured data (such as you might find in a database table at most companies)\n",
        "- *Multi-layered neural networks learnt with SGD* (i.e. shallow and/or deep learning), mainly for unstructured data (such as audio, vision, and natural language)\n",
        "\n",
        "In this course we'll be doing a deep dive into random forests, and simple models learnt with SGD. You'll be learning about gradient boosting and deep learning in part 2."
      ]
    },
    {
      "cell_type": "markdown",
      "metadata": {
        "id": "FBPokxdIwr_W",
        "colab_type": "text"
      },
      "source": [
        "### ...this dataset"
      ]
    },
    {
      "cell_type": "markdown",
      "metadata": {
        "id": "tvvB-DYvwr_X",
        "colab_type": "text"
      },
      "source": [
        "We will be looking at the Blue Book for Bulldozers Kaggle Competition: \"The goal of the contest is to predict the sale price of a particular piece of heavy equiment at auction based on it's usage, equipment type, and configuration.  The data is sourced from auction result postings and includes information on usage and equipment configurations.\"\n",
        "\n",
        "This is a very common type of dataset and prediciton problem, and similar to what you may see in your project or workplace."
      ]
    },
    {
      "cell_type": "markdown",
      "metadata": {
        "id": "xS8wK6ZIwr_X",
        "colab_type": "text"
      },
      "source": [
        "### ...Kaggle Competitions"
      ]
    },
    {
      "cell_type": "markdown",
      "metadata": {
        "id": "21n7FJgOwr_Y",
        "colab_type": "text"
      },
      "source": [
        "Kaggle is an awesome resource for aspiring data scientists or anyone looking to improve their machine learning skills.  There is nothing like being able to get hands-on practice and receiving real-time feedback to help you improve your skills.\n",
        "\n",
        "Kaggle provides:\n",
        "\n",
        "1. Interesting data sets\n",
        "2. Feedback on how you're doing\n",
        "3. A leader board to see what's good, what's possible, and what's state-of-art.\n",
        "4. Blog posts by winning contestants share useful tips and techniques."
      ]
    },
    {
      "cell_type": "markdown",
      "metadata": {
        "id": "6mymW9ggwr_Y",
        "colab_type": "text"
      },
      "source": [
        "## The data"
      ]
    },
    {
      "cell_type": "markdown",
      "metadata": {
        "id": "thzToAruwr_Z",
        "colab_type": "text"
      },
      "source": [
        "### Look at the data"
      ]
    },
    {
      "cell_type": "markdown",
      "metadata": {
        "id": "FJPNUDUewr_Z",
        "colab_type": "text"
      },
      "source": [
        "Kaggle provides info about some of the fields of our dataset; on the [Kaggle Data info](https://www.kaggle.com/c/bluebook-for-bulldozers/data) page they say the following:\n",
        "\n",
        "For this competition, you are predicting the sale price of bulldozers sold at auctions. The data for this competition is split into three parts:\n",
        "\n",
        "- **Train.csv** is the training set, which contains data through the end of 2011.\n",
        "- **Valid.csv** is the validation set, which contains data from January 1, 2012 - April 30, 2012. You make predictions on this set throughout the majority of the competition. Your score on this set is used to create the public leaderboard.\n",
        "- **Test.csv** is the test set, which won't be released until the last week of the competition. It contains data from May 1, 2012 - November 2012. Your score on the test set determines your final rank for the competition.\n",
        "\n",
        "The key fields are in train.csv are:\n",
        "\n",
        "- SalesID: the unique identifier of the sale\n",
        "- MachineID: the unique identifier of a machine.  A machine can be sold multiple times\n",
        "- saleprice: what the machine sold for at auction (only provided in train.csv)\n",
        "- saledate: the date of the sale"
      ]
    },
    {
      "cell_type": "markdown",
      "metadata": {
        "id": "Vv-Ehxejwr_a",
        "colab_type": "text"
      },
      "source": [
        "*Question*\n",
        "\n",
        "What stands out to you from the above description?  What needs to be true of our training and validation sets?"
      ]
    },
    {
      "cell_type": "markdown",
      "metadata": {
        "id": "OcizGqGFwr_c",
        "colab_type": "text"
      },
      "source": [
        "In any sort of data science work, it's **important to look at your data**, to make sure you understand the format, how it's stored, what type of values it holds, etc. Even if you've read descriptions about your data, the actual data may not be what you expect."
      ]
    },
    {
      "cell_type": "code",
      "metadata": {
        "id": "MH0bLKJtwr_c",
        "colab_type": "code",
        "colab": {}
      },
      "source": [
        "def display_all(df):\n",
        "    with pd.option_context(\"display.max_rows\", 1000, \"display.max_columns\", 1000): \n",
        "        display(df)"
      ],
      "execution_count": 0,
      "outputs": []
    },
    {
      "cell_type": "code",
      "metadata": {
        "id": "nUFrAS4nwr_e",
        "colab_type": "code",
        "outputId": "0941edce-9ac3-4446-ba96-9301ce53e15c",
        "colab": {
          "base_uri": "https://localhost:8080/",
          "height": 1000
        }
      },
      "source": [
        "display_all(df_raw.tail().T)"
      ],
      "execution_count": 0,
      "outputs": [
        {
          "output_type": "display_data",
          "data": {
            "text/html": [
              "<div>\n",
              "<style scoped>\n",
              "    .dataframe tbody tr th:only-of-type {\n",
              "        vertical-align: middle;\n",
              "    }\n",
              "\n",
              "    .dataframe tbody tr th {\n",
              "        vertical-align: top;\n",
              "    }\n",
              "\n",
              "    .dataframe thead th {\n",
              "        text-align: right;\n",
              "    }\n",
              "</style>\n",
              "<table border=\"1\" class=\"dataframe\">\n",
              "  <thead>\n",
              "    <tr style=\"text-align: right;\">\n",
              "      <th></th>\n",
              "      <th>401120</th>\n",
              "      <th>401121</th>\n",
              "      <th>401122</th>\n",
              "      <th>401123</th>\n",
              "      <th>401124</th>\n",
              "    </tr>\n",
              "  </thead>\n",
              "  <tbody>\n",
              "    <tr>\n",
              "      <th>SalesID</th>\n",
              "      <td>6333336</td>\n",
              "      <td>6333337</td>\n",
              "      <td>6333338</td>\n",
              "      <td>6333341</td>\n",
              "      <td>6333342</td>\n",
              "    </tr>\n",
              "    <tr>\n",
              "      <th>SalePrice</th>\n",
              "      <td>10500</td>\n",
              "      <td>11000</td>\n",
              "      <td>11500</td>\n",
              "      <td>9000</td>\n",
              "      <td>7750</td>\n",
              "    </tr>\n",
              "    <tr>\n",
              "      <th>MachineID</th>\n",
              "      <td>1840702</td>\n",
              "      <td>1830472</td>\n",
              "      <td>1887659</td>\n",
              "      <td>1903570</td>\n",
              "      <td>1926965</td>\n",
              "    </tr>\n",
              "    <tr>\n",
              "      <th>ModelID</th>\n",
              "      <td>21439</td>\n",
              "      <td>21439</td>\n",
              "      <td>21439</td>\n",
              "      <td>21435</td>\n",
              "      <td>21435</td>\n",
              "    </tr>\n",
              "    <tr>\n",
              "      <th>datasource</th>\n",
              "      <td>149</td>\n",
              "      <td>149</td>\n",
              "      <td>149</td>\n",
              "      <td>149</td>\n",
              "      <td>149</td>\n",
              "    </tr>\n",
              "    <tr>\n",
              "      <th>auctioneerID</th>\n",
              "      <td>1</td>\n",
              "      <td>1</td>\n",
              "      <td>1</td>\n",
              "      <td>2</td>\n",
              "      <td>2</td>\n",
              "    </tr>\n",
              "    <tr>\n",
              "      <th>YearMade</th>\n",
              "      <td>2005</td>\n",
              "      <td>2005</td>\n",
              "      <td>2005</td>\n",
              "      <td>2005</td>\n",
              "      <td>2005</td>\n",
              "    </tr>\n",
              "    <tr>\n",
              "      <th>MachineHoursCurrentMeter</th>\n",
              "      <td>NaN</td>\n",
              "      <td>NaN</td>\n",
              "      <td>NaN</td>\n",
              "      <td>NaN</td>\n",
              "      <td>NaN</td>\n",
              "    </tr>\n",
              "    <tr>\n",
              "      <th>UsageBand</th>\n",
              "      <td>NaN</td>\n",
              "      <td>NaN</td>\n",
              "      <td>NaN</td>\n",
              "      <td>NaN</td>\n",
              "      <td>NaN</td>\n",
              "    </tr>\n",
              "    <tr>\n",
              "      <th>saledate</th>\n",
              "      <td>11/2/2011 0:00</td>\n",
              "      <td>11/2/2011 0:00</td>\n",
              "      <td>11/2/2011 0:00</td>\n",
              "      <td>10/25/2011 0:00</td>\n",
              "      <td>10/25/2011 0:00</td>\n",
              "    </tr>\n",
              "    <tr>\n",
              "      <th>fiModelDesc</th>\n",
              "      <td>35NX2</td>\n",
              "      <td>35NX2</td>\n",
              "      <td>35NX2</td>\n",
              "      <td>30NX</td>\n",
              "      <td>30NX</td>\n",
              "    </tr>\n",
              "    <tr>\n",
              "      <th>fiBaseModel</th>\n",
              "      <td>35</td>\n",
              "      <td>35</td>\n",
              "      <td>35</td>\n",
              "      <td>30</td>\n",
              "      <td>30</td>\n",
              "    </tr>\n",
              "    <tr>\n",
              "      <th>fiSecondaryDesc</th>\n",
              "      <td>NX</td>\n",
              "      <td>NX</td>\n",
              "      <td>NX</td>\n",
              "      <td>NX</td>\n",
              "      <td>NX</td>\n",
              "    </tr>\n",
              "    <tr>\n",
              "      <th>fiModelSeries</th>\n",
              "      <td>2</td>\n",
              "      <td>2</td>\n",
              "      <td>2</td>\n",
              "      <td>NaN</td>\n",
              "      <td>NaN</td>\n",
              "    </tr>\n",
              "    <tr>\n",
              "      <th>fiModelDescriptor</th>\n",
              "      <td>NaN</td>\n",
              "      <td>NaN</td>\n",
              "      <td>NaN</td>\n",
              "      <td>NaN</td>\n",
              "      <td>NaN</td>\n",
              "    </tr>\n",
              "    <tr>\n",
              "      <th>ProductSize</th>\n",
              "      <td>Mini</td>\n",
              "      <td>Mini</td>\n",
              "      <td>Mini</td>\n",
              "      <td>Mini</td>\n",
              "      <td>Mini</td>\n",
              "    </tr>\n",
              "    <tr>\n",
              "      <th>fiProductClassDesc</th>\n",
              "      <td>Hydraulic Excavator, Track - 3.0 to 4.0 Metric...</td>\n",
              "      <td>Hydraulic Excavator, Track - 3.0 to 4.0 Metric...</td>\n",
              "      <td>Hydraulic Excavator, Track - 3.0 to 4.0 Metric...</td>\n",
              "      <td>Hydraulic Excavator, Track - 2.0 to 3.0 Metric...</td>\n",
              "      <td>Hydraulic Excavator, Track - 2.0 to 3.0 Metric...</td>\n",
              "    </tr>\n",
              "    <tr>\n",
              "      <th>state</th>\n",
              "      <td>Maryland</td>\n",
              "      <td>Maryland</td>\n",
              "      <td>Maryland</td>\n",
              "      <td>Florida</td>\n",
              "      <td>Florida</td>\n",
              "    </tr>\n",
              "    <tr>\n",
              "      <th>ProductGroup</th>\n",
              "      <td>TEX</td>\n",
              "      <td>TEX</td>\n",
              "      <td>TEX</td>\n",
              "      <td>TEX</td>\n",
              "      <td>TEX</td>\n",
              "    </tr>\n",
              "    <tr>\n",
              "      <th>ProductGroupDesc</th>\n",
              "      <td>Track Excavators</td>\n",
              "      <td>Track Excavators</td>\n",
              "      <td>Track Excavators</td>\n",
              "      <td>Track Excavators</td>\n",
              "      <td>Track Excavators</td>\n",
              "    </tr>\n",
              "    <tr>\n",
              "      <th>Drive_System</th>\n",
              "      <td>NaN</td>\n",
              "      <td>NaN</td>\n",
              "      <td>NaN</td>\n",
              "      <td>NaN</td>\n",
              "      <td>NaN</td>\n",
              "    </tr>\n",
              "    <tr>\n",
              "      <th>Enclosure</th>\n",
              "      <td>EROPS</td>\n",
              "      <td>EROPS</td>\n",
              "      <td>EROPS</td>\n",
              "      <td>EROPS</td>\n",
              "      <td>EROPS</td>\n",
              "    </tr>\n",
              "    <tr>\n",
              "      <th>Forks</th>\n",
              "      <td>NaN</td>\n",
              "      <td>NaN</td>\n",
              "      <td>NaN</td>\n",
              "      <td>NaN</td>\n",
              "      <td>NaN</td>\n",
              "    </tr>\n",
              "    <tr>\n",
              "      <th>Pad_Type</th>\n",
              "      <td>NaN</td>\n",
              "      <td>NaN</td>\n",
              "      <td>NaN</td>\n",
              "      <td>NaN</td>\n",
              "      <td>NaN</td>\n",
              "    </tr>\n",
              "    <tr>\n",
              "      <th>Ride_Control</th>\n",
              "      <td>NaN</td>\n",
              "      <td>NaN</td>\n",
              "      <td>NaN</td>\n",
              "      <td>NaN</td>\n",
              "      <td>NaN</td>\n",
              "    </tr>\n",
              "    <tr>\n",
              "      <th>Stick</th>\n",
              "      <td>NaN</td>\n",
              "      <td>NaN</td>\n",
              "      <td>NaN</td>\n",
              "      <td>NaN</td>\n",
              "      <td>NaN</td>\n",
              "    </tr>\n",
              "    <tr>\n",
              "      <th>Transmission</th>\n",
              "      <td>NaN</td>\n",
              "      <td>NaN</td>\n",
              "      <td>NaN</td>\n",
              "      <td>NaN</td>\n",
              "      <td>NaN</td>\n",
              "    </tr>\n",
              "    <tr>\n",
              "      <th>Turbocharged</th>\n",
              "      <td>NaN</td>\n",
              "      <td>NaN</td>\n",
              "      <td>NaN</td>\n",
              "      <td>NaN</td>\n",
              "      <td>NaN</td>\n",
              "    </tr>\n",
              "    <tr>\n",
              "      <th>Blade_Extension</th>\n",
              "      <td>NaN</td>\n",
              "      <td>NaN</td>\n",
              "      <td>NaN</td>\n",
              "      <td>NaN</td>\n",
              "      <td>NaN</td>\n",
              "    </tr>\n",
              "    <tr>\n",
              "      <th>Blade_Width</th>\n",
              "      <td>NaN</td>\n",
              "      <td>NaN</td>\n",
              "      <td>NaN</td>\n",
              "      <td>NaN</td>\n",
              "      <td>NaN</td>\n",
              "    </tr>\n",
              "    <tr>\n",
              "      <th>Enclosure_Type</th>\n",
              "      <td>NaN</td>\n",
              "      <td>NaN</td>\n",
              "      <td>NaN</td>\n",
              "      <td>NaN</td>\n",
              "      <td>NaN</td>\n",
              "    </tr>\n",
              "    <tr>\n",
              "      <th>Engine_Horsepower</th>\n",
              "      <td>NaN</td>\n",
              "      <td>NaN</td>\n",
              "      <td>NaN</td>\n",
              "      <td>NaN</td>\n",
              "      <td>NaN</td>\n",
              "    </tr>\n",
              "    <tr>\n",
              "      <th>Hydraulics</th>\n",
              "      <td>Auxiliary</td>\n",
              "      <td>Standard</td>\n",
              "      <td>Auxiliary</td>\n",
              "      <td>Standard</td>\n",
              "      <td>Standard</td>\n",
              "    </tr>\n",
              "    <tr>\n",
              "      <th>Pushblock</th>\n",
              "      <td>NaN</td>\n",
              "      <td>NaN</td>\n",
              "      <td>NaN</td>\n",
              "      <td>NaN</td>\n",
              "      <td>NaN</td>\n",
              "    </tr>\n",
              "    <tr>\n",
              "      <th>Ripper</th>\n",
              "      <td>NaN</td>\n",
              "      <td>NaN</td>\n",
              "      <td>NaN</td>\n",
              "      <td>NaN</td>\n",
              "      <td>NaN</td>\n",
              "    </tr>\n",
              "    <tr>\n",
              "      <th>Scarifier</th>\n",
              "      <td>NaN</td>\n",
              "      <td>NaN</td>\n",
              "      <td>NaN</td>\n",
              "      <td>NaN</td>\n",
              "      <td>NaN</td>\n",
              "    </tr>\n",
              "    <tr>\n",
              "      <th>Tip_Control</th>\n",
              "      <td>NaN</td>\n",
              "      <td>NaN</td>\n",
              "      <td>NaN</td>\n",
              "      <td>NaN</td>\n",
              "      <td>NaN</td>\n",
              "    </tr>\n",
              "    <tr>\n",
              "      <th>Tire_Size</th>\n",
              "      <td>NaN</td>\n",
              "      <td>NaN</td>\n",
              "      <td>NaN</td>\n",
              "      <td>NaN</td>\n",
              "      <td>NaN</td>\n",
              "    </tr>\n",
              "    <tr>\n",
              "      <th>Coupler</th>\n",
              "      <td>None or Unspecified</td>\n",
              "      <td>None or Unspecified</td>\n",
              "      <td>None or Unspecified</td>\n",
              "      <td>None or Unspecified</td>\n",
              "      <td>None or Unspecified</td>\n",
              "    </tr>\n",
              "    <tr>\n",
              "      <th>Coupler_System</th>\n",
              "      <td>NaN</td>\n",
              "      <td>NaN</td>\n",
              "      <td>NaN</td>\n",
              "      <td>NaN</td>\n",
              "      <td>NaN</td>\n",
              "    </tr>\n",
              "    <tr>\n",
              "      <th>Grouser_Tracks</th>\n",
              "      <td>NaN</td>\n",
              "      <td>NaN</td>\n",
              "      <td>NaN</td>\n",
              "      <td>NaN</td>\n",
              "      <td>NaN</td>\n",
              "    </tr>\n",
              "    <tr>\n",
              "      <th>Hydraulics_Flow</th>\n",
              "      <td>NaN</td>\n",
              "      <td>NaN</td>\n",
              "      <td>NaN</td>\n",
              "      <td>NaN</td>\n",
              "      <td>NaN</td>\n",
              "    </tr>\n",
              "    <tr>\n",
              "      <th>Track_Type</th>\n",
              "      <td>Steel</td>\n",
              "      <td>Steel</td>\n",
              "      <td>Steel</td>\n",
              "      <td>Steel</td>\n",
              "      <td>Steel</td>\n",
              "    </tr>\n",
              "    <tr>\n",
              "      <th>Undercarriage_Pad_Width</th>\n",
              "      <td>None or Unspecified</td>\n",
              "      <td>None or Unspecified</td>\n",
              "      <td>None or Unspecified</td>\n",
              "      <td>None or Unspecified</td>\n",
              "      <td>None or Unspecified</td>\n",
              "    </tr>\n",
              "    <tr>\n",
              "      <th>Stick_Length</th>\n",
              "      <td>None or Unspecified</td>\n",
              "      <td>None or Unspecified</td>\n",
              "      <td>None or Unspecified</td>\n",
              "      <td>None or Unspecified</td>\n",
              "      <td>None or Unspecified</td>\n",
              "    </tr>\n",
              "    <tr>\n",
              "      <th>Thumb</th>\n",
              "      <td>None or Unspecified</td>\n",
              "      <td>None or Unspecified</td>\n",
              "      <td>None or Unspecified</td>\n",
              "      <td>None or Unspecified</td>\n",
              "      <td>None or Unspecified</td>\n",
              "    </tr>\n",
              "    <tr>\n",
              "      <th>Pattern_Changer</th>\n",
              "      <td>None or Unspecified</td>\n",
              "      <td>None or Unspecified</td>\n",
              "      <td>None or Unspecified</td>\n",
              "      <td>None or Unspecified</td>\n",
              "      <td>None or Unspecified</td>\n",
              "    </tr>\n",
              "    <tr>\n",
              "      <th>Grouser_Type</th>\n",
              "      <td>Double</td>\n",
              "      <td>Double</td>\n",
              "      <td>Double</td>\n",
              "      <td>Double</td>\n",
              "      <td>Double</td>\n",
              "    </tr>\n",
              "    <tr>\n",
              "      <th>Backhoe_Mounting</th>\n",
              "      <td>NaN</td>\n",
              "      <td>NaN</td>\n",
              "      <td>NaN</td>\n",
              "      <td>NaN</td>\n",
              "      <td>NaN</td>\n",
              "    </tr>\n",
              "    <tr>\n",
              "      <th>Blade_Type</th>\n",
              "      <td>NaN</td>\n",
              "      <td>NaN</td>\n",
              "      <td>NaN</td>\n",
              "      <td>NaN</td>\n",
              "      <td>NaN</td>\n",
              "    </tr>\n",
              "    <tr>\n",
              "      <th>Travel_Controls</th>\n",
              "      <td>NaN</td>\n",
              "      <td>NaN</td>\n",
              "      <td>NaN</td>\n",
              "      <td>NaN</td>\n",
              "      <td>NaN</td>\n",
              "    </tr>\n",
              "    <tr>\n",
              "      <th>Differential_Type</th>\n",
              "      <td>NaN</td>\n",
              "      <td>NaN</td>\n",
              "      <td>NaN</td>\n",
              "      <td>NaN</td>\n",
              "      <td>NaN</td>\n",
              "    </tr>\n",
              "    <tr>\n",
              "      <th>Steering_Controls</th>\n",
              "      <td>NaN</td>\n",
              "      <td>NaN</td>\n",
              "      <td>NaN</td>\n",
              "      <td>NaN</td>\n",
              "      <td>NaN</td>\n",
              "    </tr>\n",
              "  </tbody>\n",
              "</table>\n",
              "</div>"
            ],
            "text/plain": [
              "                                                                     401120  \\\n",
              "SalesID                                                             6333336   \n",
              "SalePrice                                                             10500   \n",
              "MachineID                                                           1840702   \n",
              "ModelID                                                               21439   \n",
              "datasource                                                              149   \n",
              "auctioneerID                                                              1   \n",
              "YearMade                                                               2005   \n",
              "MachineHoursCurrentMeter                                                NaN   \n",
              "UsageBand                                                               NaN   \n",
              "saledate                                                     11/2/2011 0:00   \n",
              "fiModelDesc                                                           35NX2   \n",
              "fiBaseModel                                                              35   \n",
              "fiSecondaryDesc                                                          NX   \n",
              "fiModelSeries                                                             2   \n",
              "fiModelDescriptor                                                       NaN   \n",
              "ProductSize                                                            Mini   \n",
              "fiProductClassDesc        Hydraulic Excavator, Track - 3.0 to 4.0 Metric...   \n",
              "state                                                              Maryland   \n",
              "ProductGroup                                                            TEX   \n",
              "ProductGroupDesc                                           Track Excavators   \n",
              "Drive_System                                                            NaN   \n",
              "Enclosure                                                             EROPS   \n",
              "Forks                                                                   NaN   \n",
              "Pad_Type                                                                NaN   \n",
              "Ride_Control                                                            NaN   \n",
              "Stick                                                                   NaN   \n",
              "Transmission                                                            NaN   \n",
              "Turbocharged                                                            NaN   \n",
              "Blade_Extension                                                         NaN   \n",
              "Blade_Width                                                             NaN   \n",
              "Enclosure_Type                                                          NaN   \n",
              "Engine_Horsepower                                                       NaN   \n",
              "Hydraulics                                                        Auxiliary   \n",
              "Pushblock                                                               NaN   \n",
              "Ripper                                                                  NaN   \n",
              "Scarifier                                                               NaN   \n",
              "Tip_Control                                                             NaN   \n",
              "Tire_Size                                                               NaN   \n",
              "Coupler                                                 None or Unspecified   \n",
              "Coupler_System                                                          NaN   \n",
              "Grouser_Tracks                                                          NaN   \n",
              "Hydraulics_Flow                                                         NaN   \n",
              "Track_Type                                                            Steel   \n",
              "Undercarriage_Pad_Width                                 None or Unspecified   \n",
              "Stick_Length                                            None or Unspecified   \n",
              "Thumb                                                   None or Unspecified   \n",
              "Pattern_Changer                                         None or Unspecified   \n",
              "Grouser_Type                                                         Double   \n",
              "Backhoe_Mounting                                                        NaN   \n",
              "Blade_Type                                                              NaN   \n",
              "Travel_Controls                                                         NaN   \n",
              "Differential_Type                                                       NaN   \n",
              "Steering_Controls                                                       NaN   \n",
              "\n",
              "                                                                     401121  \\\n",
              "SalesID                                                             6333337   \n",
              "SalePrice                                                             11000   \n",
              "MachineID                                                           1830472   \n",
              "ModelID                                                               21439   \n",
              "datasource                                                              149   \n",
              "auctioneerID                                                              1   \n",
              "YearMade                                                               2005   \n",
              "MachineHoursCurrentMeter                                                NaN   \n",
              "UsageBand                                                               NaN   \n",
              "saledate                                                     11/2/2011 0:00   \n",
              "fiModelDesc                                                           35NX2   \n",
              "fiBaseModel                                                              35   \n",
              "fiSecondaryDesc                                                          NX   \n",
              "fiModelSeries                                                             2   \n",
              "fiModelDescriptor                                                       NaN   \n",
              "ProductSize                                                            Mini   \n",
              "fiProductClassDesc        Hydraulic Excavator, Track - 3.0 to 4.0 Metric...   \n",
              "state                                                              Maryland   \n",
              "ProductGroup                                                            TEX   \n",
              "ProductGroupDesc                                           Track Excavators   \n",
              "Drive_System                                                            NaN   \n",
              "Enclosure                                                             EROPS   \n",
              "Forks                                                                   NaN   \n",
              "Pad_Type                                                                NaN   \n",
              "Ride_Control                                                            NaN   \n",
              "Stick                                                                   NaN   \n",
              "Transmission                                                            NaN   \n",
              "Turbocharged                                                            NaN   \n",
              "Blade_Extension                                                         NaN   \n",
              "Blade_Width                                                             NaN   \n",
              "Enclosure_Type                                                          NaN   \n",
              "Engine_Horsepower                                                       NaN   \n",
              "Hydraulics                                                         Standard   \n",
              "Pushblock                                                               NaN   \n",
              "Ripper                                                                  NaN   \n",
              "Scarifier                                                               NaN   \n",
              "Tip_Control                                                             NaN   \n",
              "Tire_Size                                                               NaN   \n",
              "Coupler                                                 None or Unspecified   \n",
              "Coupler_System                                                          NaN   \n",
              "Grouser_Tracks                                                          NaN   \n",
              "Hydraulics_Flow                                                         NaN   \n",
              "Track_Type                                                            Steel   \n",
              "Undercarriage_Pad_Width                                 None or Unspecified   \n",
              "Stick_Length                                            None or Unspecified   \n",
              "Thumb                                                   None or Unspecified   \n",
              "Pattern_Changer                                         None or Unspecified   \n",
              "Grouser_Type                                                         Double   \n",
              "Backhoe_Mounting                                                        NaN   \n",
              "Blade_Type                                                              NaN   \n",
              "Travel_Controls                                                         NaN   \n",
              "Differential_Type                                                       NaN   \n",
              "Steering_Controls                                                       NaN   \n",
              "\n",
              "                                                                     401122  \\\n",
              "SalesID                                                             6333338   \n",
              "SalePrice                                                             11500   \n",
              "MachineID                                                           1887659   \n",
              "ModelID                                                               21439   \n",
              "datasource                                                              149   \n",
              "auctioneerID                                                              1   \n",
              "YearMade                                                               2005   \n",
              "MachineHoursCurrentMeter                                                NaN   \n",
              "UsageBand                                                               NaN   \n",
              "saledate                                                     11/2/2011 0:00   \n",
              "fiModelDesc                                                           35NX2   \n",
              "fiBaseModel                                                              35   \n",
              "fiSecondaryDesc                                                          NX   \n",
              "fiModelSeries                                                             2   \n",
              "fiModelDescriptor                                                       NaN   \n",
              "ProductSize                                                            Mini   \n",
              "fiProductClassDesc        Hydraulic Excavator, Track - 3.0 to 4.0 Metric...   \n",
              "state                                                              Maryland   \n",
              "ProductGroup                                                            TEX   \n",
              "ProductGroupDesc                                           Track Excavators   \n",
              "Drive_System                                                            NaN   \n",
              "Enclosure                                                             EROPS   \n",
              "Forks                                                                   NaN   \n",
              "Pad_Type                                                                NaN   \n",
              "Ride_Control                                                            NaN   \n",
              "Stick                                                                   NaN   \n",
              "Transmission                                                            NaN   \n",
              "Turbocharged                                                            NaN   \n",
              "Blade_Extension                                                         NaN   \n",
              "Blade_Width                                                             NaN   \n",
              "Enclosure_Type                                                          NaN   \n",
              "Engine_Horsepower                                                       NaN   \n",
              "Hydraulics                                                        Auxiliary   \n",
              "Pushblock                                                               NaN   \n",
              "Ripper                                                                  NaN   \n",
              "Scarifier                                                               NaN   \n",
              "Tip_Control                                                             NaN   \n",
              "Tire_Size                                                               NaN   \n",
              "Coupler                                                 None or Unspecified   \n",
              "Coupler_System                                                          NaN   \n",
              "Grouser_Tracks                                                          NaN   \n",
              "Hydraulics_Flow                                                         NaN   \n",
              "Track_Type                                                            Steel   \n",
              "Undercarriage_Pad_Width                                 None or Unspecified   \n",
              "Stick_Length                                            None or Unspecified   \n",
              "Thumb                                                   None or Unspecified   \n",
              "Pattern_Changer                                         None or Unspecified   \n",
              "Grouser_Type                                                         Double   \n",
              "Backhoe_Mounting                                                        NaN   \n",
              "Blade_Type                                                              NaN   \n",
              "Travel_Controls                                                         NaN   \n",
              "Differential_Type                                                       NaN   \n",
              "Steering_Controls                                                       NaN   \n",
              "\n",
              "                                                                     401123  \\\n",
              "SalesID                                                             6333341   \n",
              "SalePrice                                                              9000   \n",
              "MachineID                                                           1903570   \n",
              "ModelID                                                               21435   \n",
              "datasource                                                              149   \n",
              "auctioneerID                                                              2   \n",
              "YearMade                                                               2005   \n",
              "MachineHoursCurrentMeter                                                NaN   \n",
              "UsageBand                                                               NaN   \n",
              "saledate                                                    10/25/2011 0:00   \n",
              "fiModelDesc                                                            30NX   \n",
              "fiBaseModel                                                              30   \n",
              "fiSecondaryDesc                                                          NX   \n",
              "fiModelSeries                                                           NaN   \n",
              "fiModelDescriptor                                                       NaN   \n",
              "ProductSize                                                            Mini   \n",
              "fiProductClassDesc        Hydraulic Excavator, Track - 2.0 to 3.0 Metric...   \n",
              "state                                                               Florida   \n",
              "ProductGroup                                                            TEX   \n",
              "ProductGroupDesc                                           Track Excavators   \n",
              "Drive_System                                                            NaN   \n",
              "Enclosure                                                             EROPS   \n",
              "Forks                                                                   NaN   \n",
              "Pad_Type                                                                NaN   \n",
              "Ride_Control                                                            NaN   \n",
              "Stick                                                                   NaN   \n",
              "Transmission                                                            NaN   \n",
              "Turbocharged                                                            NaN   \n",
              "Blade_Extension                                                         NaN   \n",
              "Blade_Width                                                             NaN   \n",
              "Enclosure_Type                                                          NaN   \n",
              "Engine_Horsepower                                                       NaN   \n",
              "Hydraulics                                                         Standard   \n",
              "Pushblock                                                               NaN   \n",
              "Ripper                                                                  NaN   \n",
              "Scarifier                                                               NaN   \n",
              "Tip_Control                                                             NaN   \n",
              "Tire_Size                                                               NaN   \n",
              "Coupler                                                 None or Unspecified   \n",
              "Coupler_System                                                          NaN   \n",
              "Grouser_Tracks                                                          NaN   \n",
              "Hydraulics_Flow                                                         NaN   \n",
              "Track_Type                                                            Steel   \n",
              "Undercarriage_Pad_Width                                 None or Unspecified   \n",
              "Stick_Length                                            None or Unspecified   \n",
              "Thumb                                                   None or Unspecified   \n",
              "Pattern_Changer                                         None or Unspecified   \n",
              "Grouser_Type                                                         Double   \n",
              "Backhoe_Mounting                                                        NaN   \n",
              "Blade_Type                                                              NaN   \n",
              "Travel_Controls                                                         NaN   \n",
              "Differential_Type                                                       NaN   \n",
              "Steering_Controls                                                       NaN   \n",
              "\n",
              "                                                                     401124  \n",
              "SalesID                                                             6333342  \n",
              "SalePrice                                                              7750  \n",
              "MachineID                                                           1926965  \n",
              "ModelID                                                               21435  \n",
              "datasource                                                              149  \n",
              "auctioneerID                                                              2  \n",
              "YearMade                                                               2005  \n",
              "MachineHoursCurrentMeter                                                NaN  \n",
              "UsageBand                                                               NaN  \n",
              "saledate                                                    10/25/2011 0:00  \n",
              "fiModelDesc                                                            30NX  \n",
              "fiBaseModel                                                              30  \n",
              "fiSecondaryDesc                                                          NX  \n",
              "fiModelSeries                                                           NaN  \n",
              "fiModelDescriptor                                                       NaN  \n",
              "ProductSize                                                            Mini  \n",
              "fiProductClassDesc        Hydraulic Excavator, Track - 2.0 to 3.0 Metric...  \n",
              "state                                                               Florida  \n",
              "ProductGroup                                                            TEX  \n",
              "ProductGroupDesc                                           Track Excavators  \n",
              "Drive_System                                                            NaN  \n",
              "Enclosure                                                             EROPS  \n",
              "Forks                                                                   NaN  \n",
              "Pad_Type                                                                NaN  \n",
              "Ride_Control                                                            NaN  \n",
              "Stick                                                                   NaN  \n",
              "Transmission                                                            NaN  \n",
              "Turbocharged                                                            NaN  \n",
              "Blade_Extension                                                         NaN  \n",
              "Blade_Width                                                             NaN  \n",
              "Enclosure_Type                                                          NaN  \n",
              "Engine_Horsepower                                                       NaN  \n",
              "Hydraulics                                                         Standard  \n",
              "Pushblock                                                               NaN  \n",
              "Ripper                                                                  NaN  \n",
              "Scarifier                                                               NaN  \n",
              "Tip_Control                                                             NaN  \n",
              "Tire_Size                                                               NaN  \n",
              "Coupler                                                 None or Unspecified  \n",
              "Coupler_System                                                          NaN  \n",
              "Grouser_Tracks                                                          NaN  \n",
              "Hydraulics_Flow                                                         NaN  \n",
              "Track_Type                                                            Steel  \n",
              "Undercarriage_Pad_Width                                 None or Unspecified  \n",
              "Stick_Length                                            None or Unspecified  \n",
              "Thumb                                                   None or Unspecified  \n",
              "Pattern_Changer                                         None or Unspecified  \n",
              "Grouser_Type                                                         Double  \n",
              "Backhoe_Mounting                                                        NaN  \n",
              "Blade_Type                                                              NaN  \n",
              "Travel_Controls                                                         NaN  \n",
              "Differential_Type                                                       NaN  \n",
              "Steering_Controls                                                       NaN  "
            ]
          },
          "metadata": {
            "tags": []
          }
        }
      ]
    },
    {
      "cell_type": "code",
      "metadata": {
        "id": "M4eQ1NM5wr_g",
        "colab_type": "code",
        "outputId": "abc33a50-f068-4f98-b3ea-b5d3f124bb36",
        "colab": {
          "base_uri": "https://localhost:8080/",
          "height": 1000
        }
      },
      "source": [
        "display_all(df_raw.describe(include='all').T)"
      ],
      "execution_count": 0,
      "outputs": [
        {
          "output_type": "display_data",
          "data": {
            "text/html": [
              "<div>\n",
              "<style scoped>\n",
              "    .dataframe tbody tr th:only-of-type {\n",
              "        vertical-align: middle;\n",
              "    }\n",
              "\n",
              "    .dataframe tbody tr th {\n",
              "        vertical-align: top;\n",
              "    }\n",
              "\n",
              "    .dataframe thead th {\n",
              "        text-align: right;\n",
              "    }\n",
              "</style>\n",
              "<table border=\"1\" class=\"dataframe\">\n",
              "  <thead>\n",
              "    <tr style=\"text-align: right;\">\n",
              "      <th></th>\n",
              "      <th>count</th>\n",
              "      <th>unique</th>\n",
              "      <th>top</th>\n",
              "      <th>freq</th>\n",
              "      <th>mean</th>\n",
              "      <th>std</th>\n",
              "      <th>min</th>\n",
              "      <th>25%</th>\n",
              "      <th>50%</th>\n",
              "      <th>75%</th>\n",
              "      <th>max</th>\n",
              "    </tr>\n",
              "  </thead>\n",
              "  <tbody>\n",
              "    <tr>\n",
              "      <th>SalesID</th>\n",
              "      <td>401125</td>\n",
              "      <td>NaN</td>\n",
              "      <td>NaN</td>\n",
              "      <td>NaN</td>\n",
              "      <td>1.91971e+06</td>\n",
              "      <td>909021</td>\n",
              "      <td>1.13925e+06</td>\n",
              "      <td>1.41837e+06</td>\n",
              "      <td>1.63942e+06</td>\n",
              "      <td>2.24271e+06</td>\n",
              "      <td>6.33334e+06</td>\n",
              "    </tr>\n",
              "    <tr>\n",
              "      <th>SalePrice</th>\n",
              "      <td>401125</td>\n",
              "      <td>NaN</td>\n",
              "      <td>NaN</td>\n",
              "      <td>NaN</td>\n",
              "      <td>31099.7</td>\n",
              "      <td>23036.9</td>\n",
              "      <td>4750</td>\n",
              "      <td>14500</td>\n",
              "      <td>24000</td>\n",
              "      <td>40000</td>\n",
              "      <td>142000</td>\n",
              "    </tr>\n",
              "    <tr>\n",
              "      <th>MachineID</th>\n",
              "      <td>401125</td>\n",
              "      <td>NaN</td>\n",
              "      <td>NaN</td>\n",
              "      <td>NaN</td>\n",
              "      <td>1.2179e+06</td>\n",
              "      <td>440992</td>\n",
              "      <td>0</td>\n",
              "      <td>1.0887e+06</td>\n",
              "      <td>1.27949e+06</td>\n",
              "      <td>1.46807e+06</td>\n",
              "      <td>2.48633e+06</td>\n",
              "    </tr>\n",
              "    <tr>\n",
              "      <th>ModelID</th>\n",
              "      <td>401125</td>\n",
              "      <td>NaN</td>\n",
              "      <td>NaN</td>\n",
              "      <td>NaN</td>\n",
              "      <td>6889.7</td>\n",
              "      <td>6221.78</td>\n",
              "      <td>28</td>\n",
              "      <td>3259</td>\n",
              "      <td>4604</td>\n",
              "      <td>8724</td>\n",
              "      <td>37198</td>\n",
              "    </tr>\n",
              "    <tr>\n",
              "      <th>datasource</th>\n",
              "      <td>401125</td>\n",
              "      <td>NaN</td>\n",
              "      <td>NaN</td>\n",
              "      <td>NaN</td>\n",
              "      <td>134.666</td>\n",
              "      <td>8.96224</td>\n",
              "      <td>121</td>\n",
              "      <td>132</td>\n",
              "      <td>132</td>\n",
              "      <td>136</td>\n",
              "      <td>172</td>\n",
              "    </tr>\n",
              "    <tr>\n",
              "      <th>auctioneerID</th>\n",
              "      <td>380989</td>\n",
              "      <td>NaN</td>\n",
              "      <td>NaN</td>\n",
              "      <td>NaN</td>\n",
              "      <td>6.55604</td>\n",
              "      <td>16.9768</td>\n",
              "      <td>0</td>\n",
              "      <td>1</td>\n",
              "      <td>2</td>\n",
              "      <td>4</td>\n",
              "      <td>99</td>\n",
              "    </tr>\n",
              "    <tr>\n",
              "      <th>YearMade</th>\n",
              "      <td>401125</td>\n",
              "      <td>NaN</td>\n",
              "      <td>NaN</td>\n",
              "      <td>NaN</td>\n",
              "      <td>1899.16</td>\n",
              "      <td>291.797</td>\n",
              "      <td>1000</td>\n",
              "      <td>1985</td>\n",
              "      <td>1995</td>\n",
              "      <td>2000</td>\n",
              "      <td>2013</td>\n",
              "    </tr>\n",
              "    <tr>\n",
              "      <th>MachineHoursCurrentMeter</th>\n",
              "      <td>142765</td>\n",
              "      <td>NaN</td>\n",
              "      <td>NaN</td>\n",
              "      <td>NaN</td>\n",
              "      <td>3457.96</td>\n",
              "      <td>27590.3</td>\n",
              "      <td>0</td>\n",
              "      <td>0</td>\n",
              "      <td>0</td>\n",
              "      <td>3025</td>\n",
              "      <td>2.4833e+06</td>\n",
              "    </tr>\n",
              "    <tr>\n",
              "      <th>UsageBand</th>\n",
              "      <td>69639</td>\n",
              "      <td>3</td>\n",
              "      <td>Medium</td>\n",
              "      <td>33985</td>\n",
              "      <td>NaN</td>\n",
              "      <td>NaN</td>\n",
              "      <td>NaN</td>\n",
              "      <td>NaN</td>\n",
              "      <td>NaN</td>\n",
              "      <td>NaN</td>\n",
              "      <td>NaN</td>\n",
              "    </tr>\n",
              "    <tr>\n",
              "      <th>saledate</th>\n",
              "      <td>401125</td>\n",
              "      <td>3919</td>\n",
              "      <td>2/16/2009 0:00</td>\n",
              "      <td>1932</td>\n",
              "      <td>NaN</td>\n",
              "      <td>NaN</td>\n",
              "      <td>NaN</td>\n",
              "      <td>NaN</td>\n",
              "      <td>NaN</td>\n",
              "      <td>NaN</td>\n",
              "      <td>NaN</td>\n",
              "    </tr>\n",
              "    <tr>\n",
              "      <th>fiModelDesc</th>\n",
              "      <td>401125</td>\n",
              "      <td>4999</td>\n",
              "      <td>310G</td>\n",
              "      <td>5039</td>\n",
              "      <td>NaN</td>\n",
              "      <td>NaN</td>\n",
              "      <td>NaN</td>\n",
              "      <td>NaN</td>\n",
              "      <td>NaN</td>\n",
              "      <td>NaN</td>\n",
              "      <td>NaN</td>\n",
              "    </tr>\n",
              "    <tr>\n",
              "      <th>fiBaseModel</th>\n",
              "      <td>401125</td>\n",
              "      <td>1950</td>\n",
              "      <td>580</td>\n",
              "      <td>19798</td>\n",
              "      <td>NaN</td>\n",
              "      <td>NaN</td>\n",
              "      <td>NaN</td>\n",
              "      <td>NaN</td>\n",
              "      <td>NaN</td>\n",
              "      <td>NaN</td>\n",
              "      <td>NaN</td>\n",
              "    </tr>\n",
              "    <tr>\n",
              "      <th>fiSecondaryDesc</th>\n",
              "      <td>263934</td>\n",
              "      <td>175</td>\n",
              "      <td>C</td>\n",
              "      <td>43235</td>\n",
              "      <td>NaN</td>\n",
              "      <td>NaN</td>\n",
              "      <td>NaN</td>\n",
              "      <td>NaN</td>\n",
              "      <td>NaN</td>\n",
              "      <td>NaN</td>\n",
              "      <td>NaN</td>\n",
              "    </tr>\n",
              "    <tr>\n",
              "      <th>fiModelSeries</th>\n",
              "      <td>56908</td>\n",
              "      <td>128</td>\n",
              "      <td>II</td>\n",
              "      <td>13202</td>\n",
              "      <td>NaN</td>\n",
              "      <td>NaN</td>\n",
              "      <td>NaN</td>\n",
              "      <td>NaN</td>\n",
              "      <td>NaN</td>\n",
              "      <td>NaN</td>\n",
              "      <td>NaN</td>\n",
              "    </tr>\n",
              "    <tr>\n",
              "      <th>fiModelDescriptor</th>\n",
              "      <td>71919</td>\n",
              "      <td>139</td>\n",
              "      <td>L</td>\n",
              "      <td>15875</td>\n",
              "      <td>NaN</td>\n",
              "      <td>NaN</td>\n",
              "      <td>NaN</td>\n",
              "      <td>NaN</td>\n",
              "      <td>NaN</td>\n",
              "      <td>NaN</td>\n",
              "      <td>NaN</td>\n",
              "    </tr>\n",
              "    <tr>\n",
              "      <th>ProductSize</th>\n",
              "      <td>190350</td>\n",
              "      <td>6</td>\n",
              "      <td>Medium</td>\n",
              "      <td>62274</td>\n",
              "      <td>NaN</td>\n",
              "      <td>NaN</td>\n",
              "      <td>NaN</td>\n",
              "      <td>NaN</td>\n",
              "      <td>NaN</td>\n",
              "      <td>NaN</td>\n",
              "      <td>NaN</td>\n",
              "    </tr>\n",
              "    <tr>\n",
              "      <th>fiProductClassDesc</th>\n",
              "      <td>401125</td>\n",
              "      <td>74</td>\n",
              "      <td>Backhoe Loader - 14.0 to 15.0 Ft Standard Digg...</td>\n",
              "      <td>56166</td>\n",
              "      <td>NaN</td>\n",
              "      <td>NaN</td>\n",
              "      <td>NaN</td>\n",
              "      <td>NaN</td>\n",
              "      <td>NaN</td>\n",
              "      <td>NaN</td>\n",
              "      <td>NaN</td>\n",
              "    </tr>\n",
              "    <tr>\n",
              "      <th>state</th>\n",
              "      <td>401125</td>\n",
              "      <td>53</td>\n",
              "      <td>Florida</td>\n",
              "      <td>63944</td>\n",
              "      <td>NaN</td>\n",
              "      <td>NaN</td>\n",
              "      <td>NaN</td>\n",
              "      <td>NaN</td>\n",
              "      <td>NaN</td>\n",
              "      <td>NaN</td>\n",
              "      <td>NaN</td>\n",
              "    </tr>\n",
              "    <tr>\n",
              "      <th>ProductGroup</th>\n",
              "      <td>401125</td>\n",
              "      <td>6</td>\n",
              "      <td>TEX</td>\n",
              "      <td>101167</td>\n",
              "      <td>NaN</td>\n",
              "      <td>NaN</td>\n",
              "      <td>NaN</td>\n",
              "      <td>NaN</td>\n",
              "      <td>NaN</td>\n",
              "      <td>NaN</td>\n",
              "      <td>NaN</td>\n",
              "    </tr>\n",
              "    <tr>\n",
              "      <th>ProductGroupDesc</th>\n",
              "      <td>401125</td>\n",
              "      <td>6</td>\n",
              "      <td>Track Excavators</td>\n",
              "      <td>101167</td>\n",
              "      <td>NaN</td>\n",
              "      <td>NaN</td>\n",
              "      <td>NaN</td>\n",
              "      <td>NaN</td>\n",
              "      <td>NaN</td>\n",
              "      <td>NaN</td>\n",
              "      <td>NaN</td>\n",
              "    </tr>\n",
              "    <tr>\n",
              "      <th>Drive_System</th>\n",
              "      <td>104361</td>\n",
              "      <td>4</td>\n",
              "      <td>Two Wheel Drive</td>\n",
              "      <td>46139</td>\n",
              "      <td>NaN</td>\n",
              "      <td>NaN</td>\n",
              "      <td>NaN</td>\n",
              "      <td>NaN</td>\n",
              "      <td>NaN</td>\n",
              "      <td>NaN</td>\n",
              "      <td>NaN</td>\n",
              "    </tr>\n",
              "    <tr>\n",
              "      <th>Enclosure</th>\n",
              "      <td>400800</td>\n",
              "      <td>6</td>\n",
              "      <td>OROPS</td>\n",
              "      <td>173932</td>\n",
              "      <td>NaN</td>\n",
              "      <td>NaN</td>\n",
              "      <td>NaN</td>\n",
              "      <td>NaN</td>\n",
              "      <td>NaN</td>\n",
              "      <td>NaN</td>\n",
              "      <td>NaN</td>\n",
              "    </tr>\n",
              "    <tr>\n",
              "      <th>Forks</th>\n",
              "      <td>192077</td>\n",
              "      <td>2</td>\n",
              "      <td>None or Unspecified</td>\n",
              "      <td>178300</td>\n",
              "      <td>NaN</td>\n",
              "      <td>NaN</td>\n",
              "      <td>NaN</td>\n",
              "      <td>NaN</td>\n",
              "      <td>NaN</td>\n",
              "      <td>NaN</td>\n",
              "      <td>NaN</td>\n",
              "    </tr>\n",
              "    <tr>\n",
              "      <th>Pad_Type</th>\n",
              "      <td>79134</td>\n",
              "      <td>4</td>\n",
              "      <td>None or Unspecified</td>\n",
              "      <td>70614</td>\n",
              "      <td>NaN</td>\n",
              "      <td>NaN</td>\n",
              "      <td>NaN</td>\n",
              "      <td>NaN</td>\n",
              "      <td>NaN</td>\n",
              "      <td>NaN</td>\n",
              "      <td>NaN</td>\n",
              "    </tr>\n",
              "    <tr>\n",
              "      <th>Ride_Control</th>\n",
              "      <td>148606</td>\n",
              "      <td>3</td>\n",
              "      <td>No</td>\n",
              "      <td>77685</td>\n",
              "      <td>NaN</td>\n",
              "      <td>NaN</td>\n",
              "      <td>NaN</td>\n",
              "      <td>NaN</td>\n",
              "      <td>NaN</td>\n",
              "      <td>NaN</td>\n",
              "      <td>NaN</td>\n",
              "    </tr>\n",
              "    <tr>\n",
              "      <th>Stick</th>\n",
              "      <td>79134</td>\n",
              "      <td>2</td>\n",
              "      <td>Standard</td>\n",
              "      <td>48829</td>\n",
              "      <td>NaN</td>\n",
              "      <td>NaN</td>\n",
              "      <td>NaN</td>\n",
              "      <td>NaN</td>\n",
              "      <td>NaN</td>\n",
              "      <td>NaN</td>\n",
              "      <td>NaN</td>\n",
              "    </tr>\n",
              "    <tr>\n",
              "      <th>Transmission</th>\n",
              "      <td>183230</td>\n",
              "      <td>8</td>\n",
              "      <td>Standard</td>\n",
              "      <td>140328</td>\n",
              "      <td>NaN</td>\n",
              "      <td>NaN</td>\n",
              "      <td>NaN</td>\n",
              "      <td>NaN</td>\n",
              "      <td>NaN</td>\n",
              "      <td>NaN</td>\n",
              "      <td>NaN</td>\n",
              "    </tr>\n",
              "    <tr>\n",
              "      <th>Turbocharged</th>\n",
              "      <td>79134</td>\n",
              "      <td>2</td>\n",
              "      <td>None or Unspecified</td>\n",
              "      <td>75211</td>\n",
              "      <td>NaN</td>\n",
              "      <td>NaN</td>\n",
              "      <td>NaN</td>\n",
              "      <td>NaN</td>\n",
              "      <td>NaN</td>\n",
              "      <td>NaN</td>\n",
              "      <td>NaN</td>\n",
              "    </tr>\n",
              "    <tr>\n",
              "      <th>Blade_Extension</th>\n",
              "      <td>25219</td>\n",
              "      <td>2</td>\n",
              "      <td>None or Unspecified</td>\n",
              "      <td>24692</td>\n",
              "      <td>NaN</td>\n",
              "      <td>NaN</td>\n",
              "      <td>NaN</td>\n",
              "      <td>NaN</td>\n",
              "      <td>NaN</td>\n",
              "      <td>NaN</td>\n",
              "      <td>NaN</td>\n",
              "    </tr>\n",
              "    <tr>\n",
              "      <th>Blade_Width</th>\n",
              "      <td>25219</td>\n",
              "      <td>6</td>\n",
              "      <td>14'</td>\n",
              "      <td>9615</td>\n",
              "      <td>NaN</td>\n",
              "      <td>NaN</td>\n",
              "      <td>NaN</td>\n",
              "      <td>NaN</td>\n",
              "      <td>NaN</td>\n",
              "      <td>NaN</td>\n",
              "      <td>NaN</td>\n",
              "    </tr>\n",
              "    <tr>\n",
              "      <th>Enclosure_Type</th>\n",
              "      <td>25219</td>\n",
              "      <td>3</td>\n",
              "      <td>None or Unspecified</td>\n",
              "      <td>21923</td>\n",
              "      <td>NaN</td>\n",
              "      <td>NaN</td>\n",
              "      <td>NaN</td>\n",
              "      <td>NaN</td>\n",
              "      <td>NaN</td>\n",
              "      <td>NaN</td>\n",
              "      <td>NaN</td>\n",
              "    </tr>\n",
              "    <tr>\n",
              "      <th>Engine_Horsepower</th>\n",
              "      <td>25219</td>\n",
              "      <td>2</td>\n",
              "      <td>No</td>\n",
              "      <td>23937</td>\n",
              "      <td>NaN</td>\n",
              "      <td>NaN</td>\n",
              "      <td>NaN</td>\n",
              "      <td>NaN</td>\n",
              "      <td>NaN</td>\n",
              "      <td>NaN</td>\n",
              "      <td>NaN</td>\n",
              "    </tr>\n",
              "    <tr>\n",
              "      <th>Hydraulics</th>\n",
              "      <td>320570</td>\n",
              "      <td>12</td>\n",
              "      <td>2 Valve</td>\n",
              "      <td>141404</td>\n",
              "      <td>NaN</td>\n",
              "      <td>NaN</td>\n",
              "      <td>NaN</td>\n",
              "      <td>NaN</td>\n",
              "      <td>NaN</td>\n",
              "      <td>NaN</td>\n",
              "      <td>NaN</td>\n",
              "    </tr>\n",
              "    <tr>\n",
              "      <th>Pushblock</th>\n",
              "      <td>25219</td>\n",
              "      <td>2</td>\n",
              "      <td>None or Unspecified</td>\n",
              "      <td>19463</td>\n",
              "      <td>NaN</td>\n",
              "      <td>NaN</td>\n",
              "      <td>NaN</td>\n",
              "      <td>NaN</td>\n",
              "      <td>NaN</td>\n",
              "      <td>NaN</td>\n",
              "      <td>NaN</td>\n",
              "    </tr>\n",
              "    <tr>\n",
              "      <th>Ripper</th>\n",
              "      <td>104137</td>\n",
              "      <td>4</td>\n",
              "      <td>None or Unspecified</td>\n",
              "      <td>83452</td>\n",
              "      <td>NaN</td>\n",
              "      <td>NaN</td>\n",
              "      <td>NaN</td>\n",
              "      <td>NaN</td>\n",
              "      <td>NaN</td>\n",
              "      <td>NaN</td>\n",
              "      <td>NaN</td>\n",
              "    </tr>\n",
              "    <tr>\n",
              "      <th>Scarifier</th>\n",
              "      <td>25230</td>\n",
              "      <td>2</td>\n",
              "      <td>None or Unspecified</td>\n",
              "      <td>12719</td>\n",
              "      <td>NaN</td>\n",
              "      <td>NaN</td>\n",
              "      <td>NaN</td>\n",
              "      <td>NaN</td>\n",
              "      <td>NaN</td>\n",
              "      <td>NaN</td>\n",
              "      <td>NaN</td>\n",
              "    </tr>\n",
              "    <tr>\n",
              "      <th>Tip_Control</th>\n",
              "      <td>25219</td>\n",
              "      <td>3</td>\n",
              "      <td>None or Unspecified</td>\n",
              "      <td>16207</td>\n",
              "      <td>NaN</td>\n",
              "      <td>NaN</td>\n",
              "      <td>NaN</td>\n",
              "      <td>NaN</td>\n",
              "      <td>NaN</td>\n",
              "      <td>NaN</td>\n",
              "      <td>NaN</td>\n",
              "    </tr>\n",
              "    <tr>\n",
              "      <th>Tire_Size</th>\n",
              "      <td>94718</td>\n",
              "      <td>17</td>\n",
              "      <td>None or Unspecified</td>\n",
              "      <td>46339</td>\n",
              "      <td>NaN</td>\n",
              "      <td>NaN</td>\n",
              "      <td>NaN</td>\n",
              "      <td>NaN</td>\n",
              "      <td>NaN</td>\n",
              "      <td>NaN</td>\n",
              "      <td>NaN</td>\n",
              "    </tr>\n",
              "    <tr>\n",
              "      <th>Coupler</th>\n",
              "      <td>213952</td>\n",
              "      <td>3</td>\n",
              "      <td>None or Unspecified</td>\n",
              "      <td>184582</td>\n",
              "      <td>NaN</td>\n",
              "      <td>NaN</td>\n",
              "      <td>NaN</td>\n",
              "      <td>NaN</td>\n",
              "      <td>NaN</td>\n",
              "      <td>NaN</td>\n",
              "      <td>NaN</td>\n",
              "    </tr>\n",
              "    <tr>\n",
              "      <th>Coupler_System</th>\n",
              "      <td>43458</td>\n",
              "      <td>2</td>\n",
              "      <td>None or Unspecified</td>\n",
              "      <td>40430</td>\n",
              "      <td>NaN</td>\n",
              "      <td>NaN</td>\n",
              "      <td>NaN</td>\n",
              "      <td>NaN</td>\n",
              "      <td>NaN</td>\n",
              "      <td>NaN</td>\n",
              "      <td>NaN</td>\n",
              "    </tr>\n",
              "    <tr>\n",
              "      <th>Grouser_Tracks</th>\n",
              "      <td>43362</td>\n",
              "      <td>2</td>\n",
              "      <td>None or Unspecified</td>\n",
              "      <td>40515</td>\n",
              "      <td>NaN</td>\n",
              "      <td>NaN</td>\n",
              "      <td>NaN</td>\n",
              "      <td>NaN</td>\n",
              "      <td>NaN</td>\n",
              "      <td>NaN</td>\n",
              "      <td>NaN</td>\n",
              "    </tr>\n",
              "    <tr>\n",
              "      <th>Hydraulics_Flow</th>\n",
              "      <td>43362</td>\n",
              "      <td>3</td>\n",
              "      <td>Standard</td>\n",
              "      <td>42784</td>\n",
              "      <td>NaN</td>\n",
              "      <td>NaN</td>\n",
              "      <td>NaN</td>\n",
              "      <td>NaN</td>\n",
              "      <td>NaN</td>\n",
              "      <td>NaN</td>\n",
              "      <td>NaN</td>\n",
              "    </tr>\n",
              "    <tr>\n",
              "      <th>Track_Type</th>\n",
              "      <td>99153</td>\n",
              "      <td>2</td>\n",
              "      <td>Steel</td>\n",
              "      <td>84880</td>\n",
              "      <td>NaN</td>\n",
              "      <td>NaN</td>\n",
              "      <td>NaN</td>\n",
              "      <td>NaN</td>\n",
              "      <td>NaN</td>\n",
              "      <td>NaN</td>\n",
              "      <td>NaN</td>\n",
              "    </tr>\n",
              "    <tr>\n",
              "      <th>Undercarriage_Pad_Width</th>\n",
              "      <td>99872</td>\n",
              "      <td>19</td>\n",
              "      <td>None or Unspecified</td>\n",
              "      <td>79651</td>\n",
              "      <td>NaN</td>\n",
              "      <td>NaN</td>\n",
              "      <td>NaN</td>\n",
              "      <td>NaN</td>\n",
              "      <td>NaN</td>\n",
              "      <td>NaN</td>\n",
              "      <td>NaN</td>\n",
              "    </tr>\n",
              "    <tr>\n",
              "      <th>Stick_Length</th>\n",
              "      <td>99218</td>\n",
              "      <td>29</td>\n",
              "      <td>None or Unspecified</td>\n",
              "      <td>78820</td>\n",
              "      <td>NaN</td>\n",
              "      <td>NaN</td>\n",
              "      <td>NaN</td>\n",
              "      <td>NaN</td>\n",
              "      <td>NaN</td>\n",
              "      <td>NaN</td>\n",
              "      <td>NaN</td>\n",
              "    </tr>\n",
              "    <tr>\n",
              "      <th>Thumb</th>\n",
              "      <td>99288</td>\n",
              "      <td>3</td>\n",
              "      <td>None or Unspecified</td>\n",
              "      <td>83093</td>\n",
              "      <td>NaN</td>\n",
              "      <td>NaN</td>\n",
              "      <td>NaN</td>\n",
              "      <td>NaN</td>\n",
              "      <td>NaN</td>\n",
              "      <td>NaN</td>\n",
              "      <td>NaN</td>\n",
              "    </tr>\n",
              "    <tr>\n",
              "      <th>Pattern_Changer</th>\n",
              "      <td>99218</td>\n",
              "      <td>3</td>\n",
              "      <td>None or Unspecified</td>\n",
              "      <td>90255</td>\n",
              "      <td>NaN</td>\n",
              "      <td>NaN</td>\n",
              "      <td>NaN</td>\n",
              "      <td>NaN</td>\n",
              "      <td>NaN</td>\n",
              "      <td>NaN</td>\n",
              "      <td>NaN</td>\n",
              "    </tr>\n",
              "    <tr>\n",
              "      <th>Grouser_Type</th>\n",
              "      <td>99153</td>\n",
              "      <td>3</td>\n",
              "      <td>Double</td>\n",
              "      <td>84653</td>\n",
              "      <td>NaN</td>\n",
              "      <td>NaN</td>\n",
              "      <td>NaN</td>\n",
              "      <td>NaN</td>\n",
              "      <td>NaN</td>\n",
              "      <td>NaN</td>\n",
              "      <td>NaN</td>\n",
              "    </tr>\n",
              "    <tr>\n",
              "      <th>Backhoe_Mounting</th>\n",
              "      <td>78672</td>\n",
              "      <td>2</td>\n",
              "      <td>None or Unspecified</td>\n",
              "      <td>78652</td>\n",
              "      <td>NaN</td>\n",
              "      <td>NaN</td>\n",
              "      <td>NaN</td>\n",
              "      <td>NaN</td>\n",
              "      <td>NaN</td>\n",
              "      <td>NaN</td>\n",
              "      <td>NaN</td>\n",
              "    </tr>\n",
              "    <tr>\n",
              "      <th>Blade_Type</th>\n",
              "      <td>79833</td>\n",
              "      <td>10</td>\n",
              "      <td>PAT</td>\n",
              "      <td>38612</td>\n",
              "      <td>NaN</td>\n",
              "      <td>NaN</td>\n",
              "      <td>NaN</td>\n",
              "      <td>NaN</td>\n",
              "      <td>NaN</td>\n",
              "      <td>NaN</td>\n",
              "      <td>NaN</td>\n",
              "    </tr>\n",
              "    <tr>\n",
              "      <th>Travel_Controls</th>\n",
              "      <td>79834</td>\n",
              "      <td>7</td>\n",
              "      <td>None or Unspecified</td>\n",
              "      <td>69923</td>\n",
              "      <td>NaN</td>\n",
              "      <td>NaN</td>\n",
              "      <td>NaN</td>\n",
              "      <td>NaN</td>\n",
              "      <td>NaN</td>\n",
              "      <td>NaN</td>\n",
              "      <td>NaN</td>\n",
              "    </tr>\n",
              "    <tr>\n",
              "      <th>Differential_Type</th>\n",
              "      <td>69411</td>\n",
              "      <td>4</td>\n",
              "      <td>Standard</td>\n",
              "      <td>68073</td>\n",
              "      <td>NaN</td>\n",
              "      <td>NaN</td>\n",
              "      <td>NaN</td>\n",
              "      <td>NaN</td>\n",
              "      <td>NaN</td>\n",
              "      <td>NaN</td>\n",
              "      <td>NaN</td>\n",
              "    </tr>\n",
              "    <tr>\n",
              "      <th>Steering_Controls</th>\n",
              "      <td>69369</td>\n",
              "      <td>5</td>\n",
              "      <td>Conventional</td>\n",
              "      <td>68679</td>\n",
              "      <td>NaN</td>\n",
              "      <td>NaN</td>\n",
              "      <td>NaN</td>\n",
              "      <td>NaN</td>\n",
              "      <td>NaN</td>\n",
              "      <td>NaN</td>\n",
              "      <td>NaN</td>\n",
              "    </tr>\n",
              "  </tbody>\n",
              "</table>\n",
              "</div>"
            ],
            "text/plain": [
              "                           count unique  \\\n",
              "SalesID                   401125    NaN   \n",
              "SalePrice                 401125    NaN   \n",
              "MachineID                 401125    NaN   \n",
              "ModelID                   401125    NaN   \n",
              "datasource                401125    NaN   \n",
              "auctioneerID              380989    NaN   \n",
              "YearMade                  401125    NaN   \n",
              "MachineHoursCurrentMeter  142765    NaN   \n",
              "UsageBand                  69639      3   \n",
              "saledate                  401125   3919   \n",
              "fiModelDesc               401125   4999   \n",
              "fiBaseModel               401125   1950   \n",
              "fiSecondaryDesc           263934    175   \n",
              "fiModelSeries              56908    128   \n",
              "fiModelDescriptor          71919    139   \n",
              "ProductSize               190350      6   \n",
              "fiProductClassDesc        401125     74   \n",
              "state                     401125     53   \n",
              "ProductGroup              401125      6   \n",
              "ProductGroupDesc          401125      6   \n",
              "Drive_System              104361      4   \n",
              "Enclosure                 400800      6   \n",
              "Forks                     192077      2   \n",
              "Pad_Type                   79134      4   \n",
              "Ride_Control              148606      3   \n",
              "Stick                      79134      2   \n",
              "Transmission              183230      8   \n",
              "Turbocharged               79134      2   \n",
              "Blade_Extension            25219      2   \n",
              "Blade_Width                25219      6   \n",
              "Enclosure_Type             25219      3   \n",
              "Engine_Horsepower          25219      2   \n",
              "Hydraulics                320570     12   \n",
              "Pushblock                  25219      2   \n",
              "Ripper                    104137      4   \n",
              "Scarifier                  25230      2   \n",
              "Tip_Control                25219      3   \n",
              "Tire_Size                  94718     17   \n",
              "Coupler                   213952      3   \n",
              "Coupler_System             43458      2   \n",
              "Grouser_Tracks             43362      2   \n",
              "Hydraulics_Flow            43362      3   \n",
              "Track_Type                 99153      2   \n",
              "Undercarriage_Pad_Width    99872     19   \n",
              "Stick_Length               99218     29   \n",
              "Thumb                      99288      3   \n",
              "Pattern_Changer            99218      3   \n",
              "Grouser_Type               99153      3   \n",
              "Backhoe_Mounting           78672      2   \n",
              "Blade_Type                 79833     10   \n",
              "Travel_Controls            79834      7   \n",
              "Differential_Type          69411      4   \n",
              "Steering_Controls          69369      5   \n",
              "\n",
              "                                                                        top  \\\n",
              "SalesID                                                                 NaN   \n",
              "SalePrice                                                               NaN   \n",
              "MachineID                                                               NaN   \n",
              "ModelID                                                                 NaN   \n",
              "datasource                                                              NaN   \n",
              "auctioneerID                                                            NaN   \n",
              "YearMade                                                                NaN   \n",
              "MachineHoursCurrentMeter                                                NaN   \n",
              "UsageBand                                                            Medium   \n",
              "saledate                                                     2/16/2009 0:00   \n",
              "fiModelDesc                                                            310G   \n",
              "fiBaseModel                                                             580   \n",
              "fiSecondaryDesc                                                           C   \n",
              "fiModelSeries                                                            II   \n",
              "fiModelDescriptor                                                         L   \n",
              "ProductSize                                                          Medium   \n",
              "fiProductClassDesc        Backhoe Loader - 14.0 to 15.0 Ft Standard Digg...   \n",
              "state                                                               Florida   \n",
              "ProductGroup                                                            TEX   \n",
              "ProductGroupDesc                                           Track Excavators   \n",
              "Drive_System                                                Two Wheel Drive   \n",
              "Enclosure                                                             OROPS   \n",
              "Forks                                                   None or Unspecified   \n",
              "Pad_Type                                                None or Unspecified   \n",
              "Ride_Control                                                             No   \n",
              "Stick                                                              Standard   \n",
              "Transmission                                                       Standard   \n",
              "Turbocharged                                            None or Unspecified   \n",
              "Blade_Extension                                         None or Unspecified   \n",
              "Blade_Width                                                             14'   \n",
              "Enclosure_Type                                          None or Unspecified   \n",
              "Engine_Horsepower                                                        No   \n",
              "Hydraulics                                                          2 Valve   \n",
              "Pushblock                                               None or Unspecified   \n",
              "Ripper                                                  None or Unspecified   \n",
              "Scarifier                                               None or Unspecified   \n",
              "Tip_Control                                             None or Unspecified   \n",
              "Tire_Size                                               None or Unspecified   \n",
              "Coupler                                                 None or Unspecified   \n",
              "Coupler_System                                          None or Unspecified   \n",
              "Grouser_Tracks                                          None or Unspecified   \n",
              "Hydraulics_Flow                                                    Standard   \n",
              "Track_Type                                                            Steel   \n",
              "Undercarriage_Pad_Width                                 None or Unspecified   \n",
              "Stick_Length                                            None or Unspecified   \n",
              "Thumb                                                   None or Unspecified   \n",
              "Pattern_Changer                                         None or Unspecified   \n",
              "Grouser_Type                                                         Double   \n",
              "Backhoe_Mounting                                        None or Unspecified   \n",
              "Blade_Type                                                              PAT   \n",
              "Travel_Controls                                         None or Unspecified   \n",
              "Differential_Type                                                  Standard   \n",
              "Steering_Controls                                              Conventional   \n",
              "\n",
              "                            freq         mean      std          min  \\\n",
              "SalesID                      NaN  1.91971e+06   909021  1.13925e+06   \n",
              "SalePrice                    NaN      31099.7  23036.9         4750   \n",
              "MachineID                    NaN   1.2179e+06   440992            0   \n",
              "ModelID                      NaN       6889.7  6221.78           28   \n",
              "datasource                   NaN      134.666  8.96224          121   \n",
              "auctioneerID                 NaN      6.55604  16.9768            0   \n",
              "YearMade                     NaN      1899.16  291.797         1000   \n",
              "MachineHoursCurrentMeter     NaN      3457.96  27590.3            0   \n",
              "UsageBand                  33985          NaN      NaN          NaN   \n",
              "saledate                    1932          NaN      NaN          NaN   \n",
              "fiModelDesc                 5039          NaN      NaN          NaN   \n",
              "fiBaseModel                19798          NaN      NaN          NaN   \n",
              "fiSecondaryDesc            43235          NaN      NaN          NaN   \n",
              "fiModelSeries              13202          NaN      NaN          NaN   \n",
              "fiModelDescriptor          15875          NaN      NaN          NaN   \n",
              "ProductSize                62274          NaN      NaN          NaN   \n",
              "fiProductClassDesc         56166          NaN      NaN          NaN   \n",
              "state                      63944          NaN      NaN          NaN   \n",
              "ProductGroup              101167          NaN      NaN          NaN   \n",
              "ProductGroupDesc          101167          NaN      NaN          NaN   \n",
              "Drive_System               46139          NaN      NaN          NaN   \n",
              "Enclosure                 173932          NaN      NaN          NaN   \n",
              "Forks                     178300          NaN      NaN          NaN   \n",
              "Pad_Type                   70614          NaN      NaN          NaN   \n",
              "Ride_Control               77685          NaN      NaN          NaN   \n",
              "Stick                      48829          NaN      NaN          NaN   \n",
              "Transmission              140328          NaN      NaN          NaN   \n",
              "Turbocharged               75211          NaN      NaN          NaN   \n",
              "Blade_Extension            24692          NaN      NaN          NaN   \n",
              "Blade_Width                 9615          NaN      NaN          NaN   \n",
              "Enclosure_Type             21923          NaN      NaN          NaN   \n",
              "Engine_Horsepower          23937          NaN      NaN          NaN   \n",
              "Hydraulics                141404          NaN      NaN          NaN   \n",
              "Pushblock                  19463          NaN      NaN          NaN   \n",
              "Ripper                     83452          NaN      NaN          NaN   \n",
              "Scarifier                  12719          NaN      NaN          NaN   \n",
              "Tip_Control                16207          NaN      NaN          NaN   \n",
              "Tire_Size                  46339          NaN      NaN          NaN   \n",
              "Coupler                   184582          NaN      NaN          NaN   \n",
              "Coupler_System             40430          NaN      NaN          NaN   \n",
              "Grouser_Tracks             40515          NaN      NaN          NaN   \n",
              "Hydraulics_Flow            42784          NaN      NaN          NaN   \n",
              "Track_Type                 84880          NaN      NaN          NaN   \n",
              "Undercarriage_Pad_Width    79651          NaN      NaN          NaN   \n",
              "Stick_Length               78820          NaN      NaN          NaN   \n",
              "Thumb                      83093          NaN      NaN          NaN   \n",
              "Pattern_Changer            90255          NaN      NaN          NaN   \n",
              "Grouser_Type               84653          NaN      NaN          NaN   \n",
              "Backhoe_Mounting           78652          NaN      NaN          NaN   \n",
              "Blade_Type                 38612          NaN      NaN          NaN   \n",
              "Travel_Controls            69923          NaN      NaN          NaN   \n",
              "Differential_Type          68073          NaN      NaN          NaN   \n",
              "Steering_Controls          68679          NaN      NaN          NaN   \n",
              "\n",
              "                                  25%          50%          75%          max  \n",
              "SalesID                   1.41837e+06  1.63942e+06  2.24271e+06  6.33334e+06  \n",
              "SalePrice                       14500        24000        40000       142000  \n",
              "MachineID                  1.0887e+06  1.27949e+06  1.46807e+06  2.48633e+06  \n",
              "ModelID                          3259         4604         8724        37198  \n",
              "datasource                        132          132          136          172  \n",
              "auctioneerID                        1            2            4           99  \n",
              "YearMade                         1985         1995         2000         2013  \n",
              "MachineHoursCurrentMeter            0            0         3025   2.4833e+06  \n",
              "UsageBand                         NaN          NaN          NaN          NaN  \n",
              "saledate                          NaN          NaN          NaN          NaN  \n",
              "fiModelDesc                       NaN          NaN          NaN          NaN  \n",
              "fiBaseModel                       NaN          NaN          NaN          NaN  \n",
              "fiSecondaryDesc                   NaN          NaN          NaN          NaN  \n",
              "fiModelSeries                     NaN          NaN          NaN          NaN  \n",
              "fiModelDescriptor                 NaN          NaN          NaN          NaN  \n",
              "ProductSize                       NaN          NaN          NaN          NaN  \n",
              "fiProductClassDesc                NaN          NaN          NaN          NaN  \n",
              "state                             NaN          NaN          NaN          NaN  \n",
              "ProductGroup                      NaN          NaN          NaN          NaN  \n",
              "ProductGroupDesc                  NaN          NaN          NaN          NaN  \n",
              "Drive_System                      NaN          NaN          NaN          NaN  \n",
              "Enclosure                         NaN          NaN          NaN          NaN  \n",
              "Forks                             NaN          NaN          NaN          NaN  \n",
              "Pad_Type                          NaN          NaN          NaN          NaN  \n",
              "Ride_Control                      NaN          NaN          NaN          NaN  \n",
              "Stick                             NaN          NaN          NaN          NaN  \n",
              "Transmission                      NaN          NaN          NaN          NaN  \n",
              "Turbocharged                      NaN          NaN          NaN          NaN  \n",
              "Blade_Extension                   NaN          NaN          NaN          NaN  \n",
              "Blade_Width                       NaN          NaN          NaN          NaN  \n",
              "Enclosure_Type                    NaN          NaN          NaN          NaN  \n",
              "Engine_Horsepower                 NaN          NaN          NaN          NaN  \n",
              "Hydraulics                        NaN          NaN          NaN          NaN  \n",
              "Pushblock                         NaN          NaN          NaN          NaN  \n",
              "Ripper                            NaN          NaN          NaN          NaN  \n",
              "Scarifier                         NaN          NaN          NaN          NaN  \n",
              "Tip_Control                       NaN          NaN          NaN          NaN  \n",
              "Tire_Size                         NaN          NaN          NaN          NaN  \n",
              "Coupler                           NaN          NaN          NaN          NaN  \n",
              "Coupler_System                    NaN          NaN          NaN          NaN  \n",
              "Grouser_Tracks                    NaN          NaN          NaN          NaN  \n",
              "Hydraulics_Flow                   NaN          NaN          NaN          NaN  \n",
              "Track_Type                        NaN          NaN          NaN          NaN  \n",
              "Undercarriage_Pad_Width           NaN          NaN          NaN          NaN  \n",
              "Stick_Length                      NaN          NaN          NaN          NaN  \n",
              "Thumb                             NaN          NaN          NaN          NaN  \n",
              "Pattern_Changer                   NaN          NaN          NaN          NaN  \n",
              "Grouser_Type                      NaN          NaN          NaN          NaN  \n",
              "Backhoe_Mounting                  NaN          NaN          NaN          NaN  \n",
              "Blade_Type                        NaN          NaN          NaN          NaN  \n",
              "Travel_Controls                   NaN          NaN          NaN          NaN  \n",
              "Differential_Type                 NaN          NaN          NaN          NaN  \n",
              "Steering_Controls                 NaN          NaN          NaN          NaN  "
            ]
          },
          "metadata": {
            "tags": []
          }
        }
      ]
    },
    {
      "cell_type": "markdown",
      "metadata": {
        "id": "xuOZtjhEwr_i",
        "colab_type": "text"
      },
      "source": [
        "It's important to note what metric is being used for a project. Generally, selecting the metric(s) is an important part of the project setup. However, in this case Kaggle tells us what metric to use: RMSLE (root mean squared log error) between the actual and predicted auction prices. Therefore we take the log of the prices, so that RMSE will give us what we need."
      ]
    },
    {
      "cell_type": "code",
      "metadata": {
        "id": "x2c7zUmiwr_i",
        "colab_type": "code",
        "outputId": "239042de-24df-478b-ab75-cc8a75f9bae0",
        "colab": {
          "base_uri": "https://localhost:8080/",
          "height": 221
        }
      },
      "source": [
        "import numpy as np\n",
        "df_raw.SalePrice = np.log(df_raw.SalePrice)\n",
        "df_raw.SalePrice"
      ],
      "execution_count": 0,
      "outputs": [
        {
          "output_type": "execute_result",
          "data": {
            "text/plain": [
              "0         11.097410\n",
              "1         10.950807\n",
              "2          9.210340\n",
              "3         10.558414\n",
              "4          9.305651\n",
              "            ...    \n",
              "401120     9.259131\n",
              "401121     9.305651\n",
              "401122     9.350102\n",
              "401123     9.104980\n",
              "401124     8.955448\n",
              "Name: SalePrice, Length: 401125, dtype: float64"
            ]
          },
          "metadata": {
            "tags": []
          },
          "execution_count": 27
        }
      ]
    },
    {
      "cell_type": "markdown",
      "metadata": {
        "id": "uw0thrZywr_k",
        "colab_type": "text"
      },
      "source": [
        "### Initial processing"
      ]
    },
    {
      "cell_type": "markdown",
      "metadata": {
        "id": "3FvnLpsUijTE",
        "colab_type": "text"
      },
      "source": [
        "## It is important to note here that the sale date column is not an numeric object rather a datetime object and as a result of which directly applying machine learning wont work and therefore can cause issue. As a result of which all the objectst that are string have to be convertied to numeric notations that can be unerstood by the regression model\n"
      ]
    },
    {
      "cell_type": "code",
      "metadata": {
        "id": "dICJBVR5gDbM",
        "colab_type": "code",
        "colab": {}
      },
      "source": [
        "??add_datepart"
      ],
      "execution_count": 0,
      "outputs": []
    },
    {
      "cell_type": "code",
      "metadata": {
        "id": "LVo6nVnkfayh",
        "colab_type": "code",
        "outputId": "916d134c-366c-482c-9dfd-1c1b6a5beca5",
        "colab": {
          "base_uri": "https://localhost:8080/",
          "height": 221
        }
      },
      "source": [
        "\n",
        "df_raw.saledate"
      ],
      "execution_count": 0,
      "outputs": [
        {
          "output_type": "execute_result",
          "data": {
            "text/plain": [
              "0         11/16/2006 0:00\n",
              "1          3/26/2004 0:00\n",
              "2          2/26/2004 0:00\n",
              "3          5/19/2011 0:00\n",
              "4          7/23/2009 0:00\n",
              "               ...       \n",
              "401120     11/2/2011 0:00\n",
              "401121     11/2/2011 0:00\n",
              "401122     11/2/2011 0:00\n",
              "401123    10/25/2011 0:00\n",
              "401124    10/25/2011 0:00\n",
              "Name: saledate, Length: 401125, dtype: object"
            ]
          },
          "metadata": {
            "tags": []
          },
          "execution_count": 28
        }
      ]
    },
    {
      "cell_type": "markdown",
      "metadata": {
        "id": "6YQTfm1ji1-3",
        "colab_type": "text"
      },
      "source": [
        "Here we use add_datepart modeul that is a part of fastai library and that would essentially add columns the dataframe(like year,month,day and year end,weekends). The function has already been designed and all we have to do is to get the output correctly\n"
      ]
    },
    {
      "cell_type": "code",
      "metadata": {
        "id": "DAxch_lyhvRq",
        "colab_type": "code",
        "outputId": "cbeee335-9440-4c83-9dec-cd2a542afe30",
        "colab": {
          "base_uri": "https://localhost:8080/",
          "height": 119
        }
      },
      "source": [
        "add_datepart(df_raw,'saledate')\n",
        "df_raw.saleYear.head()"
      ],
      "execution_count": 0,
      "outputs": [
        {
          "output_type": "execute_result",
          "data": {
            "text/plain": [
              "0    2006\n",
              "1    2004\n",
              "2    2004\n",
              "3    2011\n",
              "4    2009\n",
              "Name: saleYear, dtype: int64"
            ]
          },
          "metadata": {
            "tags": []
          },
          "execution_count": 29
        }
      ]
    },
    {
      "cell_type": "code",
      "metadata": {
        "id": "AtI9Jxs5jWv0",
        "colab_type": "code",
        "outputId": "83fca391-7874-4d4e-c41f-358de87b7f0d",
        "colab": {
          "base_uri": "https://localhost:8080/",
          "height": 323
        }
      },
      "source": [
        "df_raw.columns"
      ],
      "execution_count": 0,
      "outputs": [
        {
          "output_type": "execute_result",
          "data": {
            "text/plain": [
              "Index(['SalesID', 'SalePrice', 'MachineID', 'ModelID', 'datasource',\n",
              "       'auctioneerID', 'YearMade', 'MachineHoursCurrentMeter', 'UsageBand',\n",
              "       'fiModelDesc', 'fiBaseModel', 'fiSecondaryDesc', 'fiModelSeries',\n",
              "       'fiModelDescriptor', 'ProductSize', 'fiProductClassDesc', 'state',\n",
              "       'ProductGroup', 'ProductGroupDesc', 'Drive_System', 'Enclosure',\n",
              "       'Forks', 'Pad_Type', 'Ride_Control', 'Stick', 'Transmission',\n",
              "       'Turbocharged', 'Blade_Extension', 'Blade_Width', 'Enclosure_Type',\n",
              "       'Engine_Horsepower', 'Hydraulics', 'Pushblock', 'Ripper', 'Scarifier',\n",
              "       'Tip_Control', 'Tire_Size', 'Coupler', 'Coupler_System',\n",
              "       'Grouser_Tracks', 'Hydraulics_Flow', 'Track_Type',\n",
              "       'Undercarriage_Pad_Width', 'Stick_Length', 'Thumb', 'Pattern_Changer',\n",
              "       'Grouser_Type', 'Backhoe_Mounting', 'Blade_Type', 'Travel_Controls',\n",
              "       'Differential_Type', 'Steering_Controls', 'saleYear', 'saleMonth',\n",
              "       'saleWeek', 'saleDay', 'saleDayofweek', 'saleDayofyear',\n",
              "       'saleIs_month_end', 'saleIs_month_start', 'saleIs_quarter_end',\n",
              "       'saleIs_quarter_start', 'saleIs_year_end', 'saleIs_year_start',\n",
              "       'saleElapsed'],\n",
              "      dtype='object')"
            ]
          },
          "metadata": {
            "tags": []
          },
          "execution_count": 30
        }
      ]
    },
    {
      "cell_type": "code",
      "metadata": {
        "id": "7tnnXzU4j4TA",
        "colab_type": "code",
        "outputId": "76cefd17-8731-4db9-e707-be4d960c3526",
        "colab": {
          "base_uri": "https://localhost:8080/",
          "height": 360
        }
      },
      "source": [
        "df_raw.head()"
      ],
      "execution_count": 0,
      "outputs": [
        {
          "output_type": "execute_result",
          "data": {
            "text/html": [
              "<div>\n",
              "<style scoped>\n",
              "    .dataframe tbody tr th:only-of-type {\n",
              "        vertical-align: middle;\n",
              "    }\n",
              "\n",
              "    .dataframe tbody tr th {\n",
              "        vertical-align: top;\n",
              "    }\n",
              "\n",
              "    .dataframe thead th {\n",
              "        text-align: right;\n",
              "    }\n",
              "</style>\n",
              "<table border=\"1\" class=\"dataframe\">\n",
              "  <thead>\n",
              "    <tr style=\"text-align: right;\">\n",
              "      <th></th>\n",
              "      <th>SalesID</th>\n",
              "      <th>SalePrice</th>\n",
              "      <th>MachineID</th>\n",
              "      <th>ModelID</th>\n",
              "      <th>datasource</th>\n",
              "      <th>auctioneerID</th>\n",
              "      <th>YearMade</th>\n",
              "      <th>MachineHoursCurrentMeter</th>\n",
              "      <th>UsageBand</th>\n",
              "      <th>fiModelDesc</th>\n",
              "      <th>fiBaseModel</th>\n",
              "      <th>fiSecondaryDesc</th>\n",
              "      <th>fiModelSeries</th>\n",
              "      <th>fiModelDescriptor</th>\n",
              "      <th>ProductSize</th>\n",
              "      <th>fiProductClassDesc</th>\n",
              "      <th>state</th>\n",
              "      <th>ProductGroup</th>\n",
              "      <th>ProductGroupDesc</th>\n",
              "      <th>Drive_System</th>\n",
              "      <th>Enclosure</th>\n",
              "      <th>Forks</th>\n",
              "      <th>Pad_Type</th>\n",
              "      <th>Ride_Control</th>\n",
              "      <th>Stick</th>\n",
              "      <th>Transmission</th>\n",
              "      <th>Turbocharged</th>\n",
              "      <th>Blade_Extension</th>\n",
              "      <th>Blade_Width</th>\n",
              "      <th>Enclosure_Type</th>\n",
              "      <th>Engine_Horsepower</th>\n",
              "      <th>Hydraulics</th>\n",
              "      <th>Pushblock</th>\n",
              "      <th>Ripper</th>\n",
              "      <th>Scarifier</th>\n",
              "      <th>Tip_Control</th>\n",
              "      <th>Tire_Size</th>\n",
              "      <th>Coupler</th>\n",
              "      <th>Coupler_System</th>\n",
              "      <th>Grouser_Tracks</th>\n",
              "      <th>Hydraulics_Flow</th>\n",
              "      <th>Track_Type</th>\n",
              "      <th>Undercarriage_Pad_Width</th>\n",
              "      <th>Stick_Length</th>\n",
              "      <th>Thumb</th>\n",
              "      <th>Pattern_Changer</th>\n",
              "      <th>Grouser_Type</th>\n",
              "      <th>Backhoe_Mounting</th>\n",
              "      <th>Blade_Type</th>\n",
              "      <th>Travel_Controls</th>\n",
              "      <th>Differential_Type</th>\n",
              "      <th>Steering_Controls</th>\n",
              "      <th>saleYear</th>\n",
              "      <th>saleMonth</th>\n",
              "      <th>saleWeek</th>\n",
              "      <th>saleDay</th>\n",
              "      <th>saleDayofweek</th>\n",
              "      <th>saleDayofyear</th>\n",
              "      <th>saleIs_month_end</th>\n",
              "      <th>saleIs_month_start</th>\n",
              "      <th>saleIs_quarter_end</th>\n",
              "      <th>saleIs_quarter_start</th>\n",
              "      <th>saleIs_year_end</th>\n",
              "      <th>saleIs_year_start</th>\n",
              "      <th>saleElapsed</th>\n",
              "    </tr>\n",
              "  </thead>\n",
              "  <tbody>\n",
              "    <tr>\n",
              "      <th>0</th>\n",
              "      <td>1139246</td>\n",
              "      <td>11.097410</td>\n",
              "      <td>999089</td>\n",
              "      <td>3157</td>\n",
              "      <td>121</td>\n",
              "      <td>3.0</td>\n",
              "      <td>2004</td>\n",
              "      <td>68.0</td>\n",
              "      <td>Low</td>\n",
              "      <td>521D</td>\n",
              "      <td>521</td>\n",
              "      <td>D</td>\n",
              "      <td>NaN</td>\n",
              "      <td>NaN</td>\n",
              "      <td>NaN</td>\n",
              "      <td>Wheel Loader - 110.0 to 120.0 Horsepower</td>\n",
              "      <td>Alabama</td>\n",
              "      <td>WL</td>\n",
              "      <td>Wheel Loader</td>\n",
              "      <td>NaN</td>\n",
              "      <td>EROPS w AC</td>\n",
              "      <td>None or Unspecified</td>\n",
              "      <td>NaN</td>\n",
              "      <td>None or Unspecified</td>\n",
              "      <td>NaN</td>\n",
              "      <td>NaN</td>\n",
              "      <td>NaN</td>\n",
              "      <td>NaN</td>\n",
              "      <td>NaN</td>\n",
              "      <td>NaN</td>\n",
              "      <td>NaN</td>\n",
              "      <td>2 Valve</td>\n",
              "      <td>NaN</td>\n",
              "      <td>NaN</td>\n",
              "      <td>NaN</td>\n",
              "      <td>NaN</td>\n",
              "      <td>None or Unspecified</td>\n",
              "      <td>None or Unspecified</td>\n",
              "      <td>NaN</td>\n",
              "      <td>NaN</td>\n",
              "      <td>NaN</td>\n",
              "      <td>NaN</td>\n",
              "      <td>NaN</td>\n",
              "      <td>NaN</td>\n",
              "      <td>NaN</td>\n",
              "      <td>NaN</td>\n",
              "      <td>NaN</td>\n",
              "      <td>NaN</td>\n",
              "      <td>NaN</td>\n",
              "      <td>NaN</td>\n",
              "      <td>Standard</td>\n",
              "      <td>Conventional</td>\n",
              "      <td>2006</td>\n",
              "      <td>11</td>\n",
              "      <td>46</td>\n",
              "      <td>16</td>\n",
              "      <td>3</td>\n",
              "      <td>320</td>\n",
              "      <td>False</td>\n",
              "      <td>False</td>\n",
              "      <td>False</td>\n",
              "      <td>False</td>\n",
              "      <td>False</td>\n",
              "      <td>False</td>\n",
              "      <td>1163635200</td>\n",
              "    </tr>\n",
              "    <tr>\n",
              "      <th>1</th>\n",
              "      <td>1139248</td>\n",
              "      <td>10.950807</td>\n",
              "      <td>117657</td>\n",
              "      <td>77</td>\n",
              "      <td>121</td>\n",
              "      <td>3.0</td>\n",
              "      <td>1996</td>\n",
              "      <td>4640.0</td>\n",
              "      <td>Low</td>\n",
              "      <td>950FII</td>\n",
              "      <td>950</td>\n",
              "      <td>F</td>\n",
              "      <td>II</td>\n",
              "      <td>NaN</td>\n",
              "      <td>Medium</td>\n",
              "      <td>Wheel Loader - 150.0 to 175.0 Horsepower</td>\n",
              "      <td>North Carolina</td>\n",
              "      <td>WL</td>\n",
              "      <td>Wheel Loader</td>\n",
              "      <td>NaN</td>\n",
              "      <td>EROPS w AC</td>\n",
              "      <td>None or Unspecified</td>\n",
              "      <td>NaN</td>\n",
              "      <td>None or Unspecified</td>\n",
              "      <td>NaN</td>\n",
              "      <td>NaN</td>\n",
              "      <td>NaN</td>\n",
              "      <td>NaN</td>\n",
              "      <td>NaN</td>\n",
              "      <td>NaN</td>\n",
              "      <td>NaN</td>\n",
              "      <td>2 Valve</td>\n",
              "      <td>NaN</td>\n",
              "      <td>NaN</td>\n",
              "      <td>NaN</td>\n",
              "      <td>NaN</td>\n",
              "      <td>23.5</td>\n",
              "      <td>None or Unspecified</td>\n",
              "      <td>NaN</td>\n",
              "      <td>NaN</td>\n",
              "      <td>NaN</td>\n",
              "      <td>NaN</td>\n",
              "      <td>NaN</td>\n",
              "      <td>NaN</td>\n",
              "      <td>NaN</td>\n",
              "      <td>NaN</td>\n",
              "      <td>NaN</td>\n",
              "      <td>NaN</td>\n",
              "      <td>NaN</td>\n",
              "      <td>NaN</td>\n",
              "      <td>Standard</td>\n",
              "      <td>Conventional</td>\n",
              "      <td>2004</td>\n",
              "      <td>3</td>\n",
              "      <td>13</td>\n",
              "      <td>26</td>\n",
              "      <td>4</td>\n",
              "      <td>86</td>\n",
              "      <td>False</td>\n",
              "      <td>False</td>\n",
              "      <td>False</td>\n",
              "      <td>False</td>\n",
              "      <td>False</td>\n",
              "      <td>False</td>\n",
              "      <td>1080259200</td>\n",
              "    </tr>\n",
              "    <tr>\n",
              "      <th>2</th>\n",
              "      <td>1139249</td>\n",
              "      <td>9.210340</td>\n",
              "      <td>434808</td>\n",
              "      <td>7009</td>\n",
              "      <td>121</td>\n",
              "      <td>3.0</td>\n",
              "      <td>2001</td>\n",
              "      <td>2838.0</td>\n",
              "      <td>High</td>\n",
              "      <td>226</td>\n",
              "      <td>226</td>\n",
              "      <td>NaN</td>\n",
              "      <td>NaN</td>\n",
              "      <td>NaN</td>\n",
              "      <td>NaN</td>\n",
              "      <td>Skid Steer Loader - 1351.0 to 1601.0 Lb Operat...</td>\n",
              "      <td>New York</td>\n",
              "      <td>SSL</td>\n",
              "      <td>Skid Steer Loaders</td>\n",
              "      <td>NaN</td>\n",
              "      <td>OROPS</td>\n",
              "      <td>None or Unspecified</td>\n",
              "      <td>NaN</td>\n",
              "      <td>NaN</td>\n",
              "      <td>NaN</td>\n",
              "      <td>NaN</td>\n",
              "      <td>NaN</td>\n",
              "      <td>NaN</td>\n",
              "      <td>NaN</td>\n",
              "      <td>NaN</td>\n",
              "      <td>NaN</td>\n",
              "      <td>Auxiliary</td>\n",
              "      <td>NaN</td>\n",
              "      <td>NaN</td>\n",
              "      <td>NaN</td>\n",
              "      <td>NaN</td>\n",
              "      <td>NaN</td>\n",
              "      <td>None or Unspecified</td>\n",
              "      <td>None or Unspecified</td>\n",
              "      <td>None or Unspecified</td>\n",
              "      <td>Standard</td>\n",
              "      <td>NaN</td>\n",
              "      <td>NaN</td>\n",
              "      <td>NaN</td>\n",
              "      <td>NaN</td>\n",
              "      <td>NaN</td>\n",
              "      <td>NaN</td>\n",
              "      <td>NaN</td>\n",
              "      <td>NaN</td>\n",
              "      <td>NaN</td>\n",
              "      <td>NaN</td>\n",
              "      <td>NaN</td>\n",
              "      <td>2004</td>\n",
              "      <td>2</td>\n",
              "      <td>9</td>\n",
              "      <td>26</td>\n",
              "      <td>3</td>\n",
              "      <td>57</td>\n",
              "      <td>False</td>\n",
              "      <td>False</td>\n",
              "      <td>False</td>\n",
              "      <td>False</td>\n",
              "      <td>False</td>\n",
              "      <td>False</td>\n",
              "      <td>1077753600</td>\n",
              "    </tr>\n",
              "    <tr>\n",
              "      <th>3</th>\n",
              "      <td>1139251</td>\n",
              "      <td>10.558414</td>\n",
              "      <td>1026470</td>\n",
              "      <td>332</td>\n",
              "      <td>121</td>\n",
              "      <td>3.0</td>\n",
              "      <td>2001</td>\n",
              "      <td>3486.0</td>\n",
              "      <td>High</td>\n",
              "      <td>PC120-6E</td>\n",
              "      <td>PC120</td>\n",
              "      <td>NaN</td>\n",
              "      <td>-6E</td>\n",
              "      <td>NaN</td>\n",
              "      <td>Small</td>\n",
              "      <td>Hydraulic Excavator, Track - 12.0 to 14.0 Metr...</td>\n",
              "      <td>Texas</td>\n",
              "      <td>TEX</td>\n",
              "      <td>Track Excavators</td>\n",
              "      <td>NaN</td>\n",
              "      <td>EROPS w AC</td>\n",
              "      <td>NaN</td>\n",
              "      <td>NaN</td>\n",
              "      <td>NaN</td>\n",
              "      <td>NaN</td>\n",
              "      <td>NaN</td>\n",
              "      <td>NaN</td>\n",
              "      <td>NaN</td>\n",
              "      <td>NaN</td>\n",
              "      <td>NaN</td>\n",
              "      <td>NaN</td>\n",
              "      <td>2 Valve</td>\n",
              "      <td>NaN</td>\n",
              "      <td>NaN</td>\n",
              "      <td>NaN</td>\n",
              "      <td>NaN</td>\n",
              "      <td>NaN</td>\n",
              "      <td>None or Unspecified</td>\n",
              "      <td>NaN</td>\n",
              "      <td>NaN</td>\n",
              "      <td>NaN</td>\n",
              "      <td>NaN</td>\n",
              "      <td>NaN</td>\n",
              "      <td>NaN</td>\n",
              "      <td>NaN</td>\n",
              "      <td>NaN</td>\n",
              "      <td>NaN</td>\n",
              "      <td>NaN</td>\n",
              "      <td>NaN</td>\n",
              "      <td>NaN</td>\n",
              "      <td>NaN</td>\n",
              "      <td>NaN</td>\n",
              "      <td>2011</td>\n",
              "      <td>5</td>\n",
              "      <td>20</td>\n",
              "      <td>19</td>\n",
              "      <td>3</td>\n",
              "      <td>139</td>\n",
              "      <td>False</td>\n",
              "      <td>False</td>\n",
              "      <td>False</td>\n",
              "      <td>False</td>\n",
              "      <td>False</td>\n",
              "      <td>False</td>\n",
              "      <td>1305763200</td>\n",
              "    </tr>\n",
              "    <tr>\n",
              "      <th>4</th>\n",
              "      <td>1139253</td>\n",
              "      <td>9.305651</td>\n",
              "      <td>1057373</td>\n",
              "      <td>17311</td>\n",
              "      <td>121</td>\n",
              "      <td>3.0</td>\n",
              "      <td>2007</td>\n",
              "      <td>722.0</td>\n",
              "      <td>Medium</td>\n",
              "      <td>S175</td>\n",
              "      <td>S175</td>\n",
              "      <td>NaN</td>\n",
              "      <td>NaN</td>\n",
              "      <td>NaN</td>\n",
              "      <td>NaN</td>\n",
              "      <td>Skid Steer Loader - 1601.0 to 1751.0 Lb Operat...</td>\n",
              "      <td>New York</td>\n",
              "      <td>SSL</td>\n",
              "      <td>Skid Steer Loaders</td>\n",
              "      <td>NaN</td>\n",
              "      <td>EROPS</td>\n",
              "      <td>None or Unspecified</td>\n",
              "      <td>NaN</td>\n",
              "      <td>NaN</td>\n",
              "      <td>NaN</td>\n",
              "      <td>NaN</td>\n",
              "      <td>NaN</td>\n",
              "      <td>NaN</td>\n",
              "      <td>NaN</td>\n",
              "      <td>NaN</td>\n",
              "      <td>NaN</td>\n",
              "      <td>Auxiliary</td>\n",
              "      <td>NaN</td>\n",
              "      <td>NaN</td>\n",
              "      <td>NaN</td>\n",
              "      <td>NaN</td>\n",
              "      <td>NaN</td>\n",
              "      <td>None or Unspecified</td>\n",
              "      <td>None or Unspecified</td>\n",
              "      <td>None or Unspecified</td>\n",
              "      <td>Standard</td>\n",
              "      <td>NaN</td>\n",
              "      <td>NaN</td>\n",
              "      <td>NaN</td>\n",
              "      <td>NaN</td>\n",
              "      <td>NaN</td>\n",
              "      <td>NaN</td>\n",
              "      <td>NaN</td>\n",
              "      <td>NaN</td>\n",
              "      <td>NaN</td>\n",
              "      <td>NaN</td>\n",
              "      <td>NaN</td>\n",
              "      <td>2009</td>\n",
              "      <td>7</td>\n",
              "      <td>30</td>\n",
              "      <td>23</td>\n",
              "      <td>3</td>\n",
              "      <td>204</td>\n",
              "      <td>False</td>\n",
              "      <td>False</td>\n",
              "      <td>False</td>\n",
              "      <td>False</td>\n",
              "      <td>False</td>\n",
              "      <td>False</td>\n",
              "      <td>1248307200</td>\n",
              "    </tr>\n",
              "  </tbody>\n",
              "</table>\n",
              "</div>"
            ],
            "text/plain": [
              "   SalesID  SalePrice  ...  saleIs_year_start  saleElapsed\n",
              "0  1139246  11.097410  ...              False   1163635200\n",
              "1  1139248  10.950807  ...              False   1080259200\n",
              "2  1139249   9.210340  ...              False   1077753600\n",
              "3  1139251  10.558414  ...              False   1305763200\n",
              "4  1139253   9.305651  ...              False   1248307200\n",
              "\n",
              "[5 rows x 65 columns]"
            ]
          },
          "metadata": {
            "tags": []
          },
          "execution_count": 31
        }
      ]
    },
    {
      "cell_type": "markdown",
      "metadata": {
        "id": "iJMHf9Awjd0p",
        "colab_type": "text"
      },
      "source": [
        "As we can see in the above dataframe df_raw, a large number of other columns have been added and this took place becasue of saleYear. Also we are not done, as there are other columns that require to be  processsed suhh as the Usageband\n"
      ]
    },
    {
      "cell_type": "markdown",
      "metadata": {
        "id": "g1HaNY1ywr_m",
        "colab_type": "text"
      },
      "source": [
        "This dataset contains a mix of **continuous** and **categorical** variables.\n",
        "\n",
        "The following method extracts particular date fields from a complete datetime for the purpose of constructing categoricals.  You should always consider this feature extraction step when working with date-time. Without expanding your date-time into these additional fields, you can't capture any trend/cyclical behavior as a function of time at any of these granularities."
      ]
    },
    {
      "cell_type": "markdown",
      "metadata": {
        "id": "8RnrXH3Lwr_p",
        "colab_type": "text"
      },
      "source": [
        "The categorical variables are currently stored as strings, which is inefficient, and doesn't provide the numeric coding required for a random forest. Therefore we call `train_cats` to convert strings to pandas categories."
      ]
    },
    {
      "cell_type": "code",
      "metadata": {
        "id": "rp0SCeCdwr_q",
        "colab_type": "code",
        "colab": {}
      },
      "source": [
        "train_cats(df_raw)"
      ],
      "execution_count": 0,
      "outputs": []
    },
    {
      "cell_type": "markdown",
      "metadata": {
        "id": "gbBeujf7wr_r",
        "colab_type": "text"
      },
      "source": [
        "We can specify the order to use for categorical variables if we wish: that is when the decision tree splits, it would split first on the basis of High in one category and then Medium and Low in second. Secondly it would split on the basis of Medium in one and High and Low in the secondary category. This doesnt really make sense but the decision tree isnt really sensitive to this. It's okat if we dont change it otherwise we can change it. "
      ]
    },
    {
      "cell_type": "code",
      "metadata": {
        "id": "UcKq_R92wr_s",
        "colab_type": "code",
        "outputId": "0cdf86aa-a8c1-4ce0-92cb-bbcb5c91f865",
        "colab": {
          "base_uri": "https://localhost:8080/",
          "height": 34
        }
      },
      "source": [
        "df_raw.UsageBand.cat.categories"
      ],
      "execution_count": 0,
      "outputs": [
        {
          "output_type": "execute_result",
          "data": {
            "text/plain": [
              "Index(['High', 'Low', 'Medium'], dtype='object')"
            ]
          },
          "metadata": {
            "tags": []
          },
          "execution_count": 33
        }
      ]
    },
    {
      "cell_type": "code",
      "metadata": {
        "id": "lXLOIUmfwr_t",
        "colab_type": "code",
        "colab": {}
      },
      "source": [
        "df_raw.UsageBand.cat.set_categories(['High', 'Medium', 'Low'], ordered=True, inplace=True)"
      ],
      "execution_count": 0,
      "outputs": []
    },
    {
      "cell_type": "markdown",
      "metadata": {
        "id": "kWz--e7lwr_v",
        "colab_type": "text"
      },
      "source": [
        "Normally, pandas will continue displaying the text categories, while treating them as numerical data internally. Optionally, we can replace the text categories with numbers, which will make this variable non-categorical, like so:. inplace = True: this means the changes made will be made on the same dataframe itself"
      ]
    },
    {
      "cell_type": "code",
      "metadata": {
        "id": "eyBx44Okwr_v",
        "colab_type": "code",
        "colab": {}
      },
      "source": [
        "df_raw.UsageBand = df_raw.UsageBand.cat.codes"
      ],
      "execution_count": 0,
      "outputs": []
    },
    {
      "cell_type": "markdown",
      "metadata": {
        "id": "2Kt3rLKIwr_w",
        "colab_type": "text"
      },
      "source": [
        "We're still not quite done - for instance we have lots of missing values, which we can't pass directly to a random forest. In the below code we sort the number of rows and find out how many number of rows that have a null value with respect to that of the total number of rows"
      ]
    },
    {
      "cell_type": "code",
      "metadata": {
        "id": "zv2hvUDGwr_x",
        "colab_type": "code",
        "outputId": "218b8562-996c-4e12-eb89-0be80b799e7c",
        "colab": {
          "base_uri": "https://localhost:8080/",
          "height": 1000
        }
      },
      "source": [
        "\n",
        "display_all(df_raw.isnull().sum().sort_index()/len(df_raw))"
      ],
      "execution_count": 0,
      "outputs": [
        {
          "output_type": "display_data",
          "data": {
            "text/plain": [
              "Backhoe_Mounting            0.803872\n",
              "Blade_Extension             0.937129\n",
              "Blade_Type                  0.800977\n",
              "Blade_Width                 0.937129\n",
              "Coupler                     0.466620\n",
              "Coupler_System              0.891660\n",
              "Differential_Type           0.826959\n",
              "Drive_System                0.739829\n",
              "Enclosure                   0.000810\n",
              "Enclosure_Type              0.937129\n",
              "Engine_Horsepower           0.937129\n",
              "Forks                       0.521154\n",
              "Grouser_Tracks              0.891899\n",
              "Grouser_Type                0.752813\n",
              "Hydraulics                  0.200823\n",
              "Hydraulics_Flow             0.891899\n",
              "MachineHoursCurrentMeter    0.644089\n",
              "MachineID                   0.000000\n",
              "ModelID                     0.000000\n",
              "Pad_Type                    0.802720\n",
              "Pattern_Changer             0.752651\n",
              "ProductGroup                0.000000\n",
              "ProductGroupDesc            0.000000\n",
              "ProductSize                 0.525460\n",
              "Pushblock                   0.937129\n",
              "Ride_Control                0.629527\n",
              "Ripper                      0.740388\n",
              "SalePrice                   0.000000\n",
              "SalesID                     0.000000\n",
              "Scarifier                   0.937102\n",
              "Steering_Controls           0.827064\n",
              "Stick                       0.802720\n",
              "Stick_Length                0.752651\n",
              "Thumb                       0.752476\n",
              "Tip_Control                 0.937129\n",
              "Tire_Size                   0.763869\n",
              "Track_Type                  0.752813\n",
              "Transmission                0.543210\n",
              "Travel_Controls             0.800975\n",
              "Turbocharged                0.802720\n",
              "Undercarriage_Pad_Width     0.751020\n",
              "UsageBand                   0.000000\n",
              "YearMade                    0.000000\n",
              "auctioneerID                0.050199\n",
              "datasource                  0.000000\n",
              "fiBaseModel                 0.000000\n",
              "fiModelDesc                 0.000000\n",
              "fiModelDescriptor           0.820707\n",
              "fiModelSeries               0.858129\n",
              "fiProductClassDesc          0.000000\n",
              "fiSecondaryDesc             0.342016\n",
              "saleDay                     0.000000\n",
              "saleDayofweek               0.000000\n",
              "saleDayofyear               0.000000\n",
              "saleElapsed                 0.000000\n",
              "saleIs_month_end            0.000000\n",
              "saleIs_month_start          0.000000\n",
              "saleIs_quarter_end          0.000000\n",
              "saleIs_quarter_start        0.000000\n",
              "saleIs_year_end             0.000000\n",
              "saleIs_year_start           0.000000\n",
              "saleMonth                   0.000000\n",
              "saleWeek                    0.000000\n",
              "saleYear                    0.000000\n",
              "state                       0.000000\n",
              "dtype: float64"
            ]
          },
          "metadata": {
            "tags": []
          }
        }
      ]
    },
    {
      "cell_type": "markdown",
      "metadata": {
        "id": "pAN6DYOewr_y",
        "colab_type": "text"
      },
      "source": [
        "But let's save this file for now, since it's already in format can we be stored and accessed efficiently."
      ]
    },
    {
      "cell_type": "markdown",
      "metadata": {
        "id": "low5W_Xswr_0",
        "colab_type": "text"
      },
      "source": [
        "### Pre-processing"
      ]
    },
    {
      "cell_type": "markdown",
      "metadata": {
        "id": "Q1u4Z5KRwr_0",
        "colab_type": "text"
      },
      "source": [
        "In the future we can simply read it from this fast format."
      ]
    },
    {
      "cell_type": "markdown",
      "metadata": {
        "id": "xe6OjNnMwr_3",
        "colab_type": "text"
      },
      "source": [
        "We'll replace categories with their numeric codes, handle missing continuous values, and split the dependent variable into a separate variable."
      ]
    },
    {
      "cell_type": "markdown",
      "metadata": {
        "id": "Db812w1AqLe4",
        "colab_type": "text"
      },
      "source": [
        ""
      ]
    },
    {
      "cell_type": "code",
      "metadata": {
        "id": "v9bvX6AutQJm",
        "colab_type": "code",
        "colab": {}
      },
      "source": [
        "?proc_df"
      ],
      "execution_count": 0,
      "outputs": []
    },
    {
      "cell_type": "code",
      "metadata": {
        "id": "zloCaakmwr_4",
        "colab_type": "code",
        "colab": {}
      },
      "source": [
        "df, y, nas = proc_df(df_raw, 'SalePrice')"
      ],
      "execution_count": 0,
      "outputs": []
    },
    {
      "cell_type": "code",
      "metadata": {
        "id": "GQ8Y4mSatmnq",
        "colab_type": "code",
        "outputId": "63024c83-62d8-4141-ecaf-dcf31b6d9a21",
        "colab": {
          "base_uri": "https://localhost:8080/",
          "height": 224
        }
      },
      "source": [
        "df.columns\n",
        "df.head(5)"
      ],
      "execution_count": 0,
      "outputs": [
        {
          "output_type": "execute_result",
          "data": {
            "text/html": [
              "<div>\n",
              "<style scoped>\n",
              "    .dataframe tbody tr th:only-of-type {\n",
              "        vertical-align: middle;\n",
              "    }\n",
              "\n",
              "    .dataframe tbody tr th {\n",
              "        vertical-align: top;\n",
              "    }\n",
              "\n",
              "    .dataframe thead th {\n",
              "        text-align: right;\n",
              "    }\n",
              "</style>\n",
              "<table border=\"1\" class=\"dataframe\">\n",
              "  <thead>\n",
              "    <tr style=\"text-align: right;\">\n",
              "      <th></th>\n",
              "      <th>SalesID</th>\n",
              "      <th>MachineID</th>\n",
              "      <th>ModelID</th>\n",
              "      <th>datasource</th>\n",
              "      <th>auctioneerID</th>\n",
              "      <th>YearMade</th>\n",
              "      <th>MachineHoursCurrentMeter</th>\n",
              "      <th>UsageBand</th>\n",
              "      <th>fiModelDesc</th>\n",
              "      <th>fiBaseModel</th>\n",
              "      <th>fiSecondaryDesc</th>\n",
              "      <th>fiModelSeries</th>\n",
              "      <th>fiModelDescriptor</th>\n",
              "      <th>ProductSize</th>\n",
              "      <th>fiProductClassDesc</th>\n",
              "      <th>state</th>\n",
              "      <th>ProductGroup</th>\n",
              "      <th>ProductGroupDesc</th>\n",
              "      <th>Drive_System</th>\n",
              "      <th>Enclosure</th>\n",
              "      <th>Forks</th>\n",
              "      <th>Pad_Type</th>\n",
              "      <th>Ride_Control</th>\n",
              "      <th>Stick</th>\n",
              "      <th>Transmission</th>\n",
              "      <th>Turbocharged</th>\n",
              "      <th>Blade_Extension</th>\n",
              "      <th>Blade_Width</th>\n",
              "      <th>Enclosure_Type</th>\n",
              "      <th>Engine_Horsepower</th>\n",
              "      <th>Hydraulics</th>\n",
              "      <th>Pushblock</th>\n",
              "      <th>Ripper</th>\n",
              "      <th>Scarifier</th>\n",
              "      <th>Tip_Control</th>\n",
              "      <th>Tire_Size</th>\n",
              "      <th>Coupler</th>\n",
              "      <th>Coupler_System</th>\n",
              "      <th>Grouser_Tracks</th>\n",
              "      <th>Hydraulics_Flow</th>\n",
              "      <th>Track_Type</th>\n",
              "      <th>Undercarriage_Pad_Width</th>\n",
              "      <th>Stick_Length</th>\n",
              "      <th>Thumb</th>\n",
              "      <th>Pattern_Changer</th>\n",
              "      <th>Grouser_Type</th>\n",
              "      <th>Backhoe_Mounting</th>\n",
              "      <th>Blade_Type</th>\n",
              "      <th>Travel_Controls</th>\n",
              "      <th>Differential_Type</th>\n",
              "      <th>Steering_Controls</th>\n",
              "      <th>saleYear</th>\n",
              "      <th>saleMonth</th>\n",
              "      <th>saleWeek</th>\n",
              "      <th>saleDay</th>\n",
              "      <th>saleDayofweek</th>\n",
              "      <th>saleDayofyear</th>\n",
              "      <th>saleIs_month_end</th>\n",
              "      <th>saleIs_month_start</th>\n",
              "      <th>saleIs_quarter_end</th>\n",
              "      <th>saleIs_quarter_start</th>\n",
              "      <th>saleIs_year_end</th>\n",
              "      <th>saleIs_year_start</th>\n",
              "      <th>saleElapsed</th>\n",
              "      <th>auctioneerID_na</th>\n",
              "      <th>MachineHoursCurrentMeter_na</th>\n",
              "    </tr>\n",
              "  </thead>\n",
              "  <tbody>\n",
              "    <tr>\n",
              "      <th>0</th>\n",
              "      <td>1139246</td>\n",
              "      <td>999089</td>\n",
              "      <td>3157</td>\n",
              "      <td>121</td>\n",
              "      <td>3.0</td>\n",
              "      <td>2004</td>\n",
              "      <td>68.0</td>\n",
              "      <td>2</td>\n",
              "      <td>950</td>\n",
              "      <td>296</td>\n",
              "      <td>41</td>\n",
              "      <td>0</td>\n",
              "      <td>0</td>\n",
              "      <td>0</td>\n",
              "      <td>59</td>\n",
              "      <td>1</td>\n",
              "      <td>6</td>\n",
              "      <td>6</td>\n",
              "      <td>0</td>\n",
              "      <td>3</td>\n",
              "      <td>1</td>\n",
              "      <td>0</td>\n",
              "      <td>2</td>\n",
              "      <td>0</td>\n",
              "      <td>0</td>\n",
              "      <td>0</td>\n",
              "      <td>0</td>\n",
              "      <td>0</td>\n",
              "      <td>0</td>\n",
              "      <td>0</td>\n",
              "      <td>1</td>\n",
              "      <td>0</td>\n",
              "      <td>0</td>\n",
              "      <td>0</td>\n",
              "      <td>0</td>\n",
              "      <td>17</td>\n",
              "      <td>3</td>\n",
              "      <td>0</td>\n",
              "      <td>0</td>\n",
              "      <td>0</td>\n",
              "      <td>0</td>\n",
              "      <td>0</td>\n",
              "      <td>0</td>\n",
              "      <td>0</td>\n",
              "      <td>0</td>\n",
              "      <td>0</td>\n",
              "      <td>0</td>\n",
              "      <td>0</td>\n",
              "      <td>0</td>\n",
              "      <td>4</td>\n",
              "      <td>2</td>\n",
              "      <td>2006</td>\n",
              "      <td>11</td>\n",
              "      <td>46</td>\n",
              "      <td>16</td>\n",
              "      <td>3</td>\n",
              "      <td>320</td>\n",
              "      <td>False</td>\n",
              "      <td>False</td>\n",
              "      <td>False</td>\n",
              "      <td>False</td>\n",
              "      <td>False</td>\n",
              "      <td>False</td>\n",
              "      <td>1163635200</td>\n",
              "      <td>False</td>\n",
              "      <td>False</td>\n",
              "    </tr>\n",
              "    <tr>\n",
              "      <th>1</th>\n",
              "      <td>1139248</td>\n",
              "      <td>117657</td>\n",
              "      <td>77</td>\n",
              "      <td>121</td>\n",
              "      <td>3.0</td>\n",
              "      <td>1996</td>\n",
              "      <td>4640.0</td>\n",
              "      <td>2</td>\n",
              "      <td>1725</td>\n",
              "      <td>527</td>\n",
              "      <td>55</td>\n",
              "      <td>104</td>\n",
              "      <td>0</td>\n",
              "      <td>4</td>\n",
              "      <td>62</td>\n",
              "      <td>33</td>\n",
              "      <td>6</td>\n",
              "      <td>6</td>\n",
              "      <td>0</td>\n",
              "      <td>3</td>\n",
              "      <td>1</td>\n",
              "      <td>0</td>\n",
              "      <td>2</td>\n",
              "      <td>0</td>\n",
              "      <td>0</td>\n",
              "      <td>0</td>\n",
              "      <td>0</td>\n",
              "      <td>0</td>\n",
              "      <td>0</td>\n",
              "      <td>0</td>\n",
              "      <td>1</td>\n",
              "      <td>0</td>\n",
              "      <td>0</td>\n",
              "      <td>0</td>\n",
              "      <td>0</td>\n",
              "      <td>12</td>\n",
              "      <td>3</td>\n",
              "      <td>0</td>\n",
              "      <td>0</td>\n",
              "      <td>0</td>\n",
              "      <td>0</td>\n",
              "      <td>0</td>\n",
              "      <td>0</td>\n",
              "      <td>0</td>\n",
              "      <td>0</td>\n",
              "      <td>0</td>\n",
              "      <td>0</td>\n",
              "      <td>0</td>\n",
              "      <td>0</td>\n",
              "      <td>4</td>\n",
              "      <td>2</td>\n",
              "      <td>2004</td>\n",
              "      <td>3</td>\n",
              "      <td>13</td>\n",
              "      <td>26</td>\n",
              "      <td>4</td>\n",
              "      <td>86</td>\n",
              "      <td>False</td>\n",
              "      <td>False</td>\n",
              "      <td>False</td>\n",
              "      <td>False</td>\n",
              "      <td>False</td>\n",
              "      <td>False</td>\n",
              "      <td>1080259200</td>\n",
              "      <td>False</td>\n",
              "      <td>False</td>\n",
              "    </tr>\n",
              "    <tr>\n",
              "      <th>2</th>\n",
              "      <td>1139249</td>\n",
              "      <td>434808</td>\n",
              "      <td>7009</td>\n",
              "      <td>121</td>\n",
              "      <td>3.0</td>\n",
              "      <td>2001</td>\n",
              "      <td>2838.0</td>\n",
              "      <td>0</td>\n",
              "      <td>331</td>\n",
              "      <td>110</td>\n",
              "      <td>0</td>\n",
              "      <td>0</td>\n",
              "      <td>0</td>\n",
              "      <td>0</td>\n",
              "      <td>39</td>\n",
              "      <td>32</td>\n",
              "      <td>3</td>\n",
              "      <td>3</td>\n",
              "      <td>0</td>\n",
              "      <td>6</td>\n",
              "      <td>1</td>\n",
              "      <td>0</td>\n",
              "      <td>0</td>\n",
              "      <td>0</td>\n",
              "      <td>0</td>\n",
              "      <td>0</td>\n",
              "      <td>0</td>\n",
              "      <td>0</td>\n",
              "      <td>0</td>\n",
              "      <td>0</td>\n",
              "      <td>4</td>\n",
              "      <td>0</td>\n",
              "      <td>0</td>\n",
              "      <td>0</td>\n",
              "      <td>0</td>\n",
              "      <td>0</td>\n",
              "      <td>3</td>\n",
              "      <td>1</td>\n",
              "      <td>1</td>\n",
              "      <td>3</td>\n",
              "      <td>0</td>\n",
              "      <td>0</td>\n",
              "      <td>0</td>\n",
              "      <td>0</td>\n",
              "      <td>0</td>\n",
              "      <td>0</td>\n",
              "      <td>0</td>\n",
              "      <td>0</td>\n",
              "      <td>0</td>\n",
              "      <td>0</td>\n",
              "      <td>0</td>\n",
              "      <td>2004</td>\n",
              "      <td>2</td>\n",
              "      <td>9</td>\n",
              "      <td>26</td>\n",
              "      <td>3</td>\n",
              "      <td>57</td>\n",
              "      <td>False</td>\n",
              "      <td>False</td>\n",
              "      <td>False</td>\n",
              "      <td>False</td>\n",
              "      <td>False</td>\n",
              "      <td>False</td>\n",
              "      <td>1077753600</td>\n",
              "      <td>False</td>\n",
              "      <td>False</td>\n",
              "    </tr>\n",
              "    <tr>\n",
              "      <th>3</th>\n",
              "      <td>1139251</td>\n",
              "      <td>1026470</td>\n",
              "      <td>332</td>\n",
              "      <td>121</td>\n",
              "      <td>3.0</td>\n",
              "      <td>2001</td>\n",
              "      <td>3486.0</td>\n",
              "      <td>0</td>\n",
              "      <td>3674</td>\n",
              "      <td>1375</td>\n",
              "      <td>0</td>\n",
              "      <td>51</td>\n",
              "      <td>0</td>\n",
              "      <td>6</td>\n",
              "      <td>8</td>\n",
              "      <td>44</td>\n",
              "      <td>4</td>\n",
              "      <td>4</td>\n",
              "      <td>0</td>\n",
              "      <td>3</td>\n",
              "      <td>0</td>\n",
              "      <td>0</td>\n",
              "      <td>0</td>\n",
              "      <td>0</td>\n",
              "      <td>0</td>\n",
              "      <td>0</td>\n",
              "      <td>0</td>\n",
              "      <td>0</td>\n",
              "      <td>0</td>\n",
              "      <td>0</td>\n",
              "      <td>1</td>\n",
              "      <td>0</td>\n",
              "      <td>0</td>\n",
              "      <td>0</td>\n",
              "      <td>0</td>\n",
              "      <td>0</td>\n",
              "      <td>3</td>\n",
              "      <td>0</td>\n",
              "      <td>0</td>\n",
              "      <td>0</td>\n",
              "      <td>0</td>\n",
              "      <td>0</td>\n",
              "      <td>0</td>\n",
              "      <td>0</td>\n",
              "      <td>0</td>\n",
              "      <td>0</td>\n",
              "      <td>0</td>\n",
              "      <td>0</td>\n",
              "      <td>0</td>\n",
              "      <td>0</td>\n",
              "      <td>0</td>\n",
              "      <td>2011</td>\n",
              "      <td>5</td>\n",
              "      <td>20</td>\n",
              "      <td>19</td>\n",
              "      <td>3</td>\n",
              "      <td>139</td>\n",
              "      <td>False</td>\n",
              "      <td>False</td>\n",
              "      <td>False</td>\n",
              "      <td>False</td>\n",
              "      <td>False</td>\n",
              "      <td>False</td>\n",
              "      <td>1305763200</td>\n",
              "      <td>False</td>\n",
              "      <td>False</td>\n",
              "    </tr>\n",
              "    <tr>\n",
              "      <th>4</th>\n",
              "      <td>1139253</td>\n",
              "      <td>1057373</td>\n",
              "      <td>17311</td>\n",
              "      <td>121</td>\n",
              "      <td>3.0</td>\n",
              "      <td>2007</td>\n",
              "      <td>722.0</td>\n",
              "      <td>1</td>\n",
              "      <td>4208</td>\n",
              "      <td>1529</td>\n",
              "      <td>0</td>\n",
              "      <td>0</td>\n",
              "      <td>0</td>\n",
              "      <td>0</td>\n",
              "      <td>40</td>\n",
              "      <td>32</td>\n",
              "      <td>3</td>\n",
              "      <td>3</td>\n",
              "      <td>0</td>\n",
              "      <td>1</td>\n",
              "      <td>1</td>\n",
              "      <td>0</td>\n",
              "      <td>0</td>\n",
              "      <td>0</td>\n",
              "      <td>0</td>\n",
              "      <td>0</td>\n",
              "      <td>0</td>\n",
              "      <td>0</td>\n",
              "      <td>0</td>\n",
              "      <td>0</td>\n",
              "      <td>4</td>\n",
              "      <td>0</td>\n",
              "      <td>0</td>\n",
              "      <td>0</td>\n",
              "      <td>0</td>\n",
              "      <td>0</td>\n",
              "      <td>3</td>\n",
              "      <td>1</td>\n",
              "      <td>1</td>\n",
              "      <td>3</td>\n",
              "      <td>0</td>\n",
              "      <td>0</td>\n",
              "      <td>0</td>\n",
              "      <td>0</td>\n",
              "      <td>0</td>\n",
              "      <td>0</td>\n",
              "      <td>0</td>\n",
              "      <td>0</td>\n",
              "      <td>0</td>\n",
              "      <td>0</td>\n",
              "      <td>0</td>\n",
              "      <td>2009</td>\n",
              "      <td>7</td>\n",
              "      <td>30</td>\n",
              "      <td>23</td>\n",
              "      <td>3</td>\n",
              "      <td>204</td>\n",
              "      <td>False</td>\n",
              "      <td>False</td>\n",
              "      <td>False</td>\n",
              "      <td>False</td>\n",
              "      <td>False</td>\n",
              "      <td>False</td>\n",
              "      <td>1248307200</td>\n",
              "      <td>False</td>\n",
              "      <td>False</td>\n",
              "    </tr>\n",
              "  </tbody>\n",
              "</table>\n",
              "</div>"
            ],
            "text/plain": [
              "   SalesID  MachineID  ...  auctioneerID_na  MachineHoursCurrentMeter_na\n",
              "0  1139246     999089  ...            False                        False\n",
              "1  1139248     117657  ...            False                        False\n",
              "2  1139249     434808  ...            False                        False\n",
              "3  1139251    1026470  ...            False                        False\n",
              "4  1139253    1057373  ...            False                        False\n",
              "\n",
              "[5 rows x 66 columns]"
            ]
          },
          "metadata": {
            "tags": []
          },
          "execution_count": 21
        }
      ]
    },
    {
      "cell_type": "markdown",
      "metadata": {
        "id": "vlYTPsvlt0fX",
        "colab_type": "text"
      },
      "source": [
        "Therefore proc_df what it does is that all of null columns whereever there is a null value it will be replaced with the median of that column and a new column shall also be created called for example auctioneerID and this will be assigned if this value was a null initally or not.\n",
        "For categorical variables these columns wil be assigned a 0 value and the rest such as High,Medium and Low shall be assigned 1,2,3 and so on depending upon the number of categories"
      ]
    },
    {
      "cell_type": "markdown",
      "metadata": {
        "id": "nhZUdYtRwr_5",
        "colab_type": "text"
      },
      "source": [
        "We now have something we can pass to a random forest!"
      ]
    },
    {
      "cell_type": "code",
      "metadata": {
        "id": "0cgO7S_wwr_5",
        "colab_type": "code",
        "outputId": "7a73b1a5-2e21-4a28-9e4f-0d7970c704e6",
        "colab": {
          "base_uri": "https://localhost:8080/",
          "height": 68
        }
      },
      "source": [
        "m = RandomForestRegressor(n_jobs=-1)\n",
        "m.fit(df, y)\n",
        "m.score(df,y)"
      ],
      "execution_count": 0,
      "outputs": [
        {
          "output_type": "stream",
          "text": [
            "/usr/local/lib/python3.6/dist-packages/sklearn/ensemble/forest.py:245: FutureWarning: The default value of n_estimators will change from 10 in version 0.20 to 100 in 0.22.\n",
            "  \"10 in version 0.20 to 100 in 0.22.\", FutureWarning)\n"
          ],
          "name": "stderr"
        },
        {
          "output_type": "execute_result",
          "data": {
            "text/plain": [
              "0.9830872752776664"
            ]
          },
          "metadata": {
            "tags": []
          },
          "execution_count": 40
        }
      ]
    },
    {
      "cell_type": "markdown",
      "metadata": {
        "id": "fBvlaGqewa02",
        "colab_type": "text"
      },
      "source": [
        "In this we can see that a value of 0.98 is such that it shows very good estimation. The predictor is such that 0 shows bad and 1 shows good"
      ]
    },
    {
      "cell_type": "markdown",
      "metadata": {
        "id": "-6cnlRP2wr_7",
        "colab_type": "text"
      },
      "source": [
        "In statistics, the coefficient of determination, denoted R2 or r2 and pronounced \"R squared\", is the proportion of the variance in the dependent variable that is predictable from the independent variable(s). https://en.wikipedia.org/wiki/Coefficient_of_determination"
      ]
    },
    {
      "cell_type": "markdown",
      "metadata": {
        "id": "-owGAgj4wr_7",
        "colab_type": "text"
      },
      "source": [
        "Wow, an r^2 of 0.98 - that's great, right? Well, perhaps not...\n",
        "\n",
        "Possibly **the most important idea** in machine learning is that of having separate training & validation data sets. As motivation, suppose you don't divide up your data, but instead use all of it.  And suppose you have lots of parameters:\n",
        "\n",
        "<img src=\"https://github.com/fastai/fastai/blob/master/courses/ml1/images/overfitting2.png?raw=1\" alt=\"\" style=\"width: 70%\"/>\n",
        "<center>\n",
        "[Underfitting and Overfitting](https://datascience.stackexchange.com/questions/361/when-is-a-model-underfitted)\n",
        "</center>\n",
        "\n",
        "The error for the pictured data points is lowest for the model on the far right (the blue curve passes through the red points almost perfectly), yet it's not the best choice.  Why is that?  If you were to gather some new data points, they most likely would not be on that curve in the graph on the right, but would be closer to the curve in the middle graph.\n",
        "\n",
        "This illustrates how using all our data can lead to **overfitting**. A validation set helps diagnose this problem."
      ]
    },
    {
      "cell_type": "code",
      "metadata": {
        "id": "0V8sL7qmwr_7",
        "colab_type": "code",
        "outputId": "f87c5b93-b605-4e55-c88e-04b5666eec10",
        "colab": {
          "base_uri": "https://localhost:8080/",
          "height": 34
        }
      },
      "source": [
        "def split_vals(a,n): return a[:n].copy(), a[n:].copy()\n",
        "\n",
        "n_valid = 12000  \n",
        "n_trn = len(df)-n_valid\n",
        "raw_train, raw_valid = split_vals(df_raw, n_trn)\n",
        "X_train, X_valid = split_vals(df, n_trn)\n",
        "y_train, y_valid = split_vals(y, n_trn)\n",
        "\n",
        "X_train.shape, y_train.shape, X_valid.shape"
      ],
      "execution_count": 0,
      "outputs": [
        {
          "output_type": "execute_result",
          "data": {
            "text/plain": [
              "((389125, 66), (389125,), (12000, 66))"
            ]
          },
          "metadata": {
            "tags": []
          },
          "execution_count": 23
        }
      ]
    },
    {
      "cell_type": "code",
      "metadata": {
        "id": "fCoiUknHT4hl",
        "colab_type": "code",
        "outputId": "159dfca6-5ebe-48a5-e559-10ca092274f9",
        "colab": {
          "base_uri": "https://localhost:8080/",
          "height": 34
        }
      },
      "source": [
        "len(df)"
      ],
      "execution_count": 0,
      "outputs": [
        {
          "output_type": "execute_result",
          "data": {
            "text/plain": [
              "401125"
            ]
          },
          "metadata": {
            "tags": []
          },
          "execution_count": 24
        }
      ]
    },
    {
      "cell_type": "markdown",
      "metadata": {
        "id": "ExH2y_V8SfWA",
        "colab_type": "text"
      },
      "source": [
        "Here we can see in the above code that the data is split into validation and training.  There is df_raw and df data. The df has no null values. "
      ]
    },
    {
      "cell_type": "markdown",
      "metadata": {
        "id": "1kR-6EMSwr_-",
        "colab_type": "text"
      },
      "source": [
        "# Random Forests"
      ]
    },
    {
      "cell_type": "markdown",
      "metadata": {
        "id": "62CnQ2z5wr__",
        "colab_type": "text"
      },
      "source": [
        "## Base model"
      ]
    },
    {
      "cell_type": "markdown",
      "metadata": {
        "id": "YLhcUlkZwr__",
        "colab_type": "text"
      },
      "source": [
        "Let's try our model again, this time with separate training and validation sets."
      ]
    },
    {
      "cell_type": "code",
      "metadata": {
        "id": "BwnhVLpiwr__",
        "colab_type": "code",
        "colab": {}
      },
      "source": [
        "def rmse(x,y): return math.sqrt(((x-y)**2).mean())\n",
        "\n",
        "def print_score(m):\n",
        "    res = [rmse(m.predict(X_train), y_train), rmse(m.predict(X_valid), y_valid),\n",
        "                m.score(X_train, y_train), m.score(X_valid, y_valid)]\n",
        "    if hasattr(m, 'oob_score_'): res.append(m.oob_score_)\n",
        "    print(res)"
      ],
      "execution_count": 0,
      "outputs": []
    },
    {
      "cell_type": "code",
      "metadata": {
        "id": "LGMUgflOwsAB",
        "colab_type": "code",
        "outputId": "579dc840-52dd-4bb9-c26f-158308cc7fff",
        "colab": {
          "base_uri": "https://localhost:8080/",
          "height": 102
        }
      },
      "source": [
        "m = RandomForestRegressor(n_jobs=-1)\n",
        "%time m.fit(X_train, y_train)\n",
        "print_score(m)"
      ],
      "execution_count": 0,
      "outputs": [
        {
          "output_type": "stream",
          "text": [
            "/usr/local/lib/python3.6/dist-packages/sklearn/ensemble/forest.py:245: FutureWarning: The default value of n_estimators will change from 10 in version 0.20 to 100 in 0.22.\n",
            "  \"10 in version 0.20 to 100 in 0.22.\", FutureWarning)\n"
          ],
          "name": "stderr"
        },
        {
          "output_type": "stream",
          "text": [
            "CPU times: user 1min 25s, sys: 91.7 ms, total: 1min 25s\n",
            "Wall time: 43.9 s\n",
            "[0.09067013589462138, 0.2472433697533234, 0.9828184096830925, 0.890831515302747]\n"
          ],
          "name": "stdout"
        }
      ]
    },
    {
      "cell_type": "markdown",
      "metadata": {
        "id": "KcwU7RygwsAD",
        "colab_type": "text"
      },
      "source": [
        "An r^2 in the high-80's isn't bad at all (and the RMSLE puts us around rank 100 of 470 on the Kaggle leaderboard), but we can see from the validation set score that we're over-fitting badly. To understand this issue, let's simplify things down to a single small tree."
      ]
    },
    {
      "cell_type": "markdown",
      "metadata": {
        "id": "mDKgz22LwsAE",
        "colab_type": "text"
      },
      "source": [
        "## Speeding things up\n",
        "Here what we wee the below code snippet is that inorder to speed up things, we can see that the runtime for the execution of the code is 48.6s and that is a lot of time. Therefore what we first take the first 30000 rows from the df data set and out of which we only take 20000 to be used for training. That is the validation set would be the latest set of 10000 values."
      ]
    },
    {
      "cell_type": "code",
      "metadata": {
        "id": "u8LaLIwzwsAE",
        "colab_type": "code",
        "colab": {}
      },
      "source": [
        "df_trn, y_trn, nas = proc_df(df_raw, 'SalePrice', subset=30000, na_dict=nas)\n",
        "X_train, _ = split_vals(df_trn, 20000)\n",
        "y_train, _ = split_vals(y_trn, 20000)"
      ],
      "execution_count": 0,
      "outputs": []
    },
    {
      "cell_type": "code",
      "metadata": {
        "id": "GMpd0QGSwsAF",
        "colab_type": "code",
        "outputId": "6a80c0d4-363c-4dc0-a7d8-5a184f47b4d4",
        "colab": {
          "base_uri": "https://localhost:8080/",
          "height": 102
        }
      },
      "source": [
        "m = RandomForestRegressor(n_jobs=-1)\n",
        "%time m.fit(X_train, y_train)\n",
        "print_score(m)"
      ],
      "execution_count": 0,
      "outputs": [
        {
          "output_type": "stream",
          "text": [
            "/usr/local/lib/python3.6/dist-packages/sklearn/ensemble/forest.py:245: FutureWarning: The default value of n_estimators will change from 10 in version 0.20 to 100 in 0.22.\n",
            "  \"10 in version 0.20 to 100 in 0.22.\", FutureWarning)\n"
          ],
          "name": "stderr"
        },
        {
          "output_type": "stream",
          "text": [
            "CPU times: user 3.65 s, sys: 6.96 ms, total: 3.66 s\n",
            "Wall time: 1.97 s\n",
            "[0.11087723668051291, 0.35625231898414156, 0.9735065104812475, 0.773346007249317]\n"
          ],
          "name": "stdout"
        }
      ]
    },
    {
      "cell_type": "markdown",
      "metadata": {
        "id": "waCFWldSUNFi",
        "colab_type": "text"
      },
      "source": [
        "Therfore we can see that reducing the umber of code snippets greatly increased in the speed in which we can train the model"
      ]
    },
    {
      "cell_type": "markdown",
      "metadata": {
        "id": "1myC2L33wsAH",
        "colab_type": "text"
      },
      "source": [
        "## Single tree"
      ]
    },
    {
      "cell_type": "markdown",
      "metadata": {
        "id": "BoFtKFwlahck",
        "colab_type": "text"
      },
      "source": [
        "Here we try to train the data with respect to a single tree and see the score. We can see that the mscore is very less and poor for the validation dataset and therefore we shall try for mulitple tree."
      ]
    },
    {
      "cell_type": "code",
      "metadata": {
        "id": "yNYjM_UbwsAH",
        "colab_type": "code",
        "outputId": "5e995524-cbe7-45eb-9bb5-836acc2d2866",
        "colab": {
          "base_uri": "https://localhost:8080/",
          "height": 34
        }
      },
      "source": [
        "m = RandomForestRegressor(n_estimators=1, max_depth=3, bootstrap=False, n_jobs=-1)\n",
        "m.fit(X_train, y_train)\n",
        "print_score(m)"
      ],
      "execution_count": 0,
      "outputs": [
        {
          "output_type": "stream",
          "text": [
            "[0.5262796685807831, 0.5808002656514355, 0.4031192653676552, 0.3975769415331639]\n"
          ],
          "name": "stdout"
        }
      ]
    },
    {
      "cell_type": "markdown",
      "metadata": {
        "id": "P18xsQ-1VD3I",
        "colab_type": "text"
      },
      "source": [
        "So in this case what we do is we are making a random forest object m with a single tree (n_estrimators = 1) how big will the tree be = 3, bootstrap = False meaning we are not going to randomize anything in it. "
      ]
    },
    {
      "cell_type": "code",
      "metadata": {
        "id": "MyDWLF7JwsAI",
        "colab_type": "code",
        "outputId": "1a6d6c0b-73b6-46af-c9cf-5718d0e6a3e2",
        "colab": {
          "base_uri": "https://localhost:8080/",
          "height": 600
        }
      },
      "source": [
        "draw_tree(m.estimators_[0], df_trn, precision=3)"
      ],
      "execution_count": 0,
      "outputs": [
        {
          "output_type": "display_data",
          "data": {
            "text/plain": [
              "<graphviz.files.Source at 0x7fa796dae940>"
            ],
            "image/svg+xml": "<?xml version=\"1.0\" encoding=\"UTF-8\" standalone=\"no\"?>\n<!DOCTYPE svg PUBLIC \"-//W3C//DTD SVG 1.1//EN\"\n \"http://www.w3.org/Graphics/SVG/1.1/DTD/svg11.dtd\">\n<!-- Generated by graphviz version 2.40.1 (20161225.0304)\n -->\n<!-- Title: Tree Pages: 1 -->\n<svg width=\"720pt\" height=\"434pt\"\n viewBox=\"0.00 0.00 720.00 434.49\" xmlns=\"http://www.w3.org/2000/svg\" xmlns:xlink=\"http://www.w3.org/1999/xlink\">\n<g id=\"graph0\" class=\"graph\" transform=\"scale(.7787 .7787) rotate(0) translate(4 554)\">\n<title>Tree</title>\n<polygon fill=\"#ffffff\" stroke=\"transparent\" points=\"-4,4 -4,-554 920.6667,-554 920.6667,4 -4,4\"/>\n<!-- 0 -->\n<g id=\"node1\" class=\"node\">\n<title>0</title>\n<polygon fill=\"#eca36f\" stroke=\"#000000\" points=\"174.6667,-336.5 28.6667,-336.5 28.6667,-268.5 174.6667,-268.5 174.6667,-336.5\"/>\n<text text-anchor=\"start\" x=\"36.6667\" y=\"-321.3\" font-family=\"Times,serif\" font-size=\"14.00\" fill=\"#000000\">Coupler_System ≤ 0.5</text>\n<text text-anchor=\"start\" x=\"65.1667\" y=\"-306.3\" font-family=\"Times,serif\" font-size=\"14.00\" fill=\"#000000\">mse = 0.464</text>\n<text text-anchor=\"start\" x=\"52.1667\" y=\"-291.3\" font-family=\"Times,serif\" font-size=\"14.00\" fill=\"#000000\">samples = 20000</text>\n<text text-anchor=\"start\" x=\"57.6667\" y=\"-276.3\" font-family=\"Times,serif\" font-size=\"14.00\" fill=\"#000000\">value = 10.116</text>\n</g>\n<!-- 1 -->\n<g id=\"node2\" class=\"node\">\n<title>1</title>\n<polygon fill=\"#ea9c63\" stroke=\"#000000\" points=\"409.1667,-372.5 278.1667,-372.5 278.1667,-304.5 409.1667,-304.5 409.1667,-372.5\"/>\n<text text-anchor=\"start\" x=\"286.1667\" y=\"-357.3\" font-family=\"Times,serif\" font-size=\"14.00\" fill=\"#000000\">YearMade ≤ 1987.5</text>\n<text text-anchor=\"start\" x=\"307.1667\" y=\"-342.3\" font-family=\"Times,serif\" font-size=\"14.00\" fill=\"#000000\">mse = 0.401</text>\n<text text-anchor=\"start\" x=\"294.1667\" y=\"-327.3\" font-family=\"Times,serif\" font-size=\"14.00\" fill=\"#000000\">samples = 18144</text>\n<text text-anchor=\"start\" x=\"299.6667\" y=\"-312.3\" font-family=\"Times,serif\" font-size=\"14.00\" fill=\"#000000\">value = 10.212</text>\n</g>\n<!-- 0&#45;&gt;1 -->\n<g id=\"edge1\" class=\"edge\">\n<title>0&#45;&gt;1</title>\n<path fill=\"none\" stroke=\"#000000\" d=\"M174.9314,-313.3989C204.4281,-317.7868 238.4321,-322.8453 268.1515,-327.2663\"/>\n<polygon fill=\"#000000\" stroke=\"#000000\" points=\"267.6472,-330.7297 278.0533,-328.7393 268.6772,-323.8059 267.6472,-330.7297\"/>\n<text text-anchor=\"middle\" x=\"257.967\" y=\"-339.9235\" font-family=\"Times,serif\" font-size=\"14.00\" fill=\"#000000\">True</text>\n</g>\n<!-- 8 -->\n<g id=\"node9\" class=\"node\">\n<title>8</title>\n<polygon fill=\"#fcf0e7\" stroke=\"#000000\" points=\"409.1667,-245.5 278.1667,-245.5 278.1667,-177.5 409.1667,-177.5 409.1667,-245.5\"/>\n<text text-anchor=\"start\" x=\"286.1667\" y=\"-230.3\" font-family=\"Times,serif\" font-size=\"14.00\" fill=\"#000000\">YearMade ≤ 1998.5</text>\n<text text-anchor=\"start\" x=\"307.1667\" y=\"-215.3\" font-family=\"Times,serif\" font-size=\"14.00\" fill=\"#000000\">mse = 0.109</text>\n<text text-anchor=\"start\" x=\"298.1667\" y=\"-200.3\" font-family=\"Times,serif\" font-size=\"14.00\" fill=\"#000000\">samples = 1856</text>\n<text text-anchor=\"start\" x=\"303.1667\" y=\"-185.3\" font-family=\"Times,serif\" font-size=\"14.00\" fill=\"#000000\">value = 9.179</text>\n</g>\n<!-- 0&#45;&gt;8 -->\n<g id=\"edge8\" class=\"edge\">\n<title>0&#45;&gt;8</title>\n<path fill=\"none\" stroke=\"#000000\" d=\"M174.9314,-274.95C204.5563,-263.8101 238.7278,-250.9605 268.5389,-239.7505\"/>\n<polygon fill=\"#000000\" stroke=\"#000000\" points=\"269.9251,-242.9686 278.0533,-236.1728 267.4613,-236.4165 269.9251,-242.9686\"/>\n<text text-anchor=\"middle\" x=\"255.2848\" y=\"-222.1483\" font-family=\"Times,serif\" font-size=\"14.00\" fill=\"#000000\">False</text>\n</g>\n<!-- 2 -->\n<g id=\"node3\" class=\"node\">\n<title>2</title>\n<polygon fill=\"#efb285\" stroke=\"#000000\" points=\"664.1667,-486.5 539.1667,-486.5 539.1667,-418.5 664.1667,-418.5 664.1667,-486.5\"/>\n<text text-anchor=\"start\" x=\"547.1667\" y=\"-471.3\" font-family=\"Times,serif\" font-size=\"14.00\" fill=\"#000000\">ModelID ≤ 4506.5</text>\n<text text-anchor=\"start\" x=\"565.1667\" y=\"-456.3\" font-family=\"Times,serif\" font-size=\"14.00\" fill=\"#000000\">mse = 0.352</text>\n<text text-anchor=\"start\" x=\"556.1667\" y=\"-441.3\" font-family=\"Times,serif\" font-size=\"14.00\" fill=\"#000000\">samples = 6847</text>\n<text text-anchor=\"start\" x=\"561.1667\" y=\"-426.3\" font-family=\"Times,serif\" font-size=\"14.00\" fill=\"#000000\">value = 9.941</text>\n</g>\n<!-- 1&#45;&gt;2 -->\n<g id=\"edge2\" class=\"edge\">\n<title>1&#45;&gt;2</title>\n<path fill=\"none\" stroke=\"#000000\" d=\"M409.4385,-367.562C446.186,-383.7993 492.028,-404.055 529.7273,-420.7128\"/>\n<polygon fill=\"#000000\" stroke=\"#000000\" points=\"528.5644,-424.0254 539.1259,-424.8657 531.3936,-417.6226 528.5644,-424.0254\"/>\n</g>\n<!-- 5 -->\n<g id=\"node6\" class=\"node\">\n<title>5</title>\n<polygon fill=\"#e88e4e\" stroke=\"#000000\" points=\"682.1667,-372.5 521.1667,-372.5 521.1667,-304.5 682.1667,-304.5 682.1667,-372.5\"/>\n<text text-anchor=\"start\" x=\"529.1667\" y=\"-357.3\" font-family=\"Times,serif\" font-size=\"14.00\" fill=\"#000000\">fiProductClassDesc ≤ 7.5</text>\n<text text-anchor=\"start\" x=\"569.1667\" y=\"-342.3\" font-family=\"Times,serif\" font-size=\"14.00\" fill=\"#000000\">mse = 0.36</text>\n<text text-anchor=\"start\" x=\"552.6667\" y=\"-327.3\" font-family=\"Times,serif\" font-size=\"14.00\" fill=\"#000000\">samples = 11297</text>\n<text text-anchor=\"start\" x=\"557.6667\" y=\"-312.3\" font-family=\"Times,serif\" font-size=\"14.00\" fill=\"#000000\">value = 10.377</text>\n</g>\n<!-- 1&#45;&gt;5 -->\n<g id=\"edge5\" class=\"edge\">\n<title>1&#45;&gt;5</title>\n<path fill=\"none\" stroke=\"#000000\" d=\"M409.4385,-338.5C440.1513,-338.5 477.2167,-338.5 510.5716,-338.5\"/>\n<polygon fill=\"#000000\" stroke=\"#000000\" points=\"510.7929,-342.0001 520.7928,-338.5 510.7928,-335.0001 510.7929,-342.0001\"/>\n</g>\n<!-- 3 -->\n<g id=\"node4\" class=\"node\">\n<title>3</title>\n<polygon fill=\"#eb9f68\" stroke=\"#000000\" points=\"896.1667,-550 789.1667,-550 789.1667,-497 896.1667,-497 896.1667,-550\"/>\n<text text-anchor=\"start\" x=\"806.1667\" y=\"-534.8\" font-family=\"Times,serif\" font-size=\"14.00\" fill=\"#000000\">mse = 0.366</text>\n<text text-anchor=\"start\" x=\"797.1667\" y=\"-519.8\" font-family=\"Times,serif\" font-size=\"14.00\" fill=\"#000000\">samples = 3391</text>\n<text text-anchor=\"start\" x=\"798.6667\" y=\"-504.8\" font-family=\"Times,serif\" font-size=\"14.00\" fill=\"#000000\">value = 10.169</text>\n</g>\n<!-- 2&#45;&gt;3 -->\n<g id=\"edge3\" class=\"edge\">\n<title>2&#45;&gt;3</title>\n<path fill=\"none\" stroke=\"#000000\" d=\"M664.3575,-470.9691C699.6699,-481.3723 743.6627,-494.3328 779.1148,-504.7773\"/>\n<polygon fill=\"#000000\" stroke=\"#000000\" points=\"778.2918,-508.1835 788.8733,-507.6522 780.2701,-501.4688 778.2918,-508.1835\"/>\n</g>\n<!-- 4 -->\n<g id=\"node5\" class=\"node\">\n<title>4</title>\n<polygon fill=\"#f3c4a2\" stroke=\"#000000\" points=\"896.1667,-479 789.1667,-479 789.1667,-426 896.1667,-426 896.1667,-479\"/>\n<text text-anchor=\"start\" x=\"806.1667\" y=\"-463.8\" font-family=\"Times,serif\" font-size=\"14.00\" fill=\"#000000\">mse = 0.237</text>\n<text text-anchor=\"start\" x=\"797.1667\" y=\"-448.8\" font-family=\"Times,serif\" font-size=\"14.00\" fill=\"#000000\">samples = 3456</text>\n<text text-anchor=\"start\" x=\"802.1667\" y=\"-433.8\" font-family=\"Times,serif\" font-size=\"14.00\" fill=\"#000000\">value = 9.718</text>\n</g>\n<!-- 2&#45;&gt;4 -->\n<g id=\"edge4\" class=\"edge\">\n<title>2&#45;&gt;4</title>\n<path fill=\"none\" stroke=\"#000000\" d=\"M664.3575,-452.5C699.519,-452.5 743.2868,-452.5 778.6598,-452.5\"/>\n<polygon fill=\"#000000\" stroke=\"#000000\" points=\"778.8734,-456.0001 788.8733,-452.5 778.8733,-449.0001 778.8734,-456.0001\"/>\n</g>\n<!-- 6 -->\n<g id=\"node7\" class=\"node\">\n<title>6</title>\n<polygon fill=\"#eeaf81\" stroke=\"#000000\" points=\"896.1667,-408 789.1667,-408 789.1667,-355 896.1667,-355 896.1667,-408\"/>\n<text text-anchor=\"start\" x=\"806.6667\" y=\"-392.8\" font-family=\"Times,serif\" font-size=\"14.00\" fill=\"#000000\">mse = 0.116</text>\n<text text-anchor=\"start\" x=\"797.1667\" y=\"-377.8\" font-family=\"Times,serif\" font-size=\"14.00\" fill=\"#000000\">samples = 3269</text>\n<text text-anchor=\"start\" x=\"802.1667\" y=\"-362.8\" font-family=\"Times,serif\" font-size=\"14.00\" fill=\"#000000\">value = 9.978</text>\n</g>\n<!-- 5&#45;&gt;6 -->\n<g id=\"edge6\" class=\"edge\">\n<title>5&#45;&gt;6</title>\n<path fill=\"none\" stroke=\"#000000\" d=\"M682.2512,-352.8782C713.7093,-358.491 749.2589,-364.8339 778.8835,-370.1196\"/>\n<polygon fill=\"#000000\" stroke=\"#000000\" points=\"778.6392,-373.6312 789.0985,-371.9422 779.8688,-366.74 778.6392,-373.6312\"/>\n</g>\n<!-- 7 -->\n<g id=\"node8\" class=\"node\">\n<title>7</title>\n<polygon fill=\"#e58139\" stroke=\"#000000\" points=\"896.1667,-337 789.1667,-337 789.1667,-284 896.1667,-284 896.1667,-337\"/>\n<text text-anchor=\"start\" x=\"806.1667\" y=\"-321.8\" font-family=\"Times,serif\" font-size=\"14.00\" fill=\"#000000\">mse = 0.368</text>\n<text text-anchor=\"start\" x=\"797.1667\" y=\"-306.8\" font-family=\"Times,serif\" font-size=\"14.00\" fill=\"#000000\">samples = 8028</text>\n<text text-anchor=\"start\" x=\"798.6667\" y=\"-291.8\" font-family=\"Times,serif\" font-size=\"14.00\" fill=\"#000000\">value = 10.539</text>\n</g>\n<!-- 5&#45;&gt;7 -->\n<g id=\"edge7\" class=\"edge\">\n<title>5&#45;&gt;7</title>\n<path fill=\"none\" stroke=\"#000000\" d=\"M682.2512,-329.1375C713.7093,-325.4826 749.2589,-321.3524 778.8835,-317.9105\"/>\n<polygon fill=\"#000000\" stroke=\"#000000\" points=\"779.5693,-321.3544 789.0985,-316.7237 778.7614,-314.4012 779.5693,-321.3544\"/>\n</g>\n<!-- 9 -->\n<g id=\"node10\" class=\"node\">\n<title>9</title>\n<polygon fill=\"#fefbf9\" stroke=\"#000000\" points=\"686.1667,-245.5 517.1667,-245.5 517.1667,-177.5 686.1667,-177.5 686.1667,-245.5\"/>\n<text text-anchor=\"start\" x=\"525.1667\" y=\"-230.3\" font-family=\"Times,serif\" font-size=\"14.00\" fill=\"#000000\">fiProductClassDesc ≤ 40.5</text>\n<text text-anchor=\"start\" x=\"565.1667\" y=\"-215.3\" font-family=\"Times,serif\" font-size=\"14.00\" fill=\"#000000\">mse = 0.084</text>\n<text text-anchor=\"start\" x=\"556.1667\" y=\"-200.3\" font-family=\"Times,serif\" font-size=\"14.00\" fill=\"#000000\">samples = 1012</text>\n<text text-anchor=\"start\" x=\"561.1667\" y=\"-185.3\" font-family=\"Times,serif\" font-size=\"14.00\" fill=\"#000000\">value = 9.039</text>\n</g>\n<!-- 8&#45;&gt;9 -->\n<g id=\"edge9\" class=\"edge\">\n<title>8&#45;&gt;9</title>\n<path fill=\"none\" stroke=\"#000000\" d=\"M409.4385,-211.5C438.9412,-211.5 474.3057,-211.5 506.6123,-211.5\"/>\n<polygon fill=\"#000000\" stroke=\"#000000\" points=\"506.9827,-215.0001 516.9827,-211.5 506.9826,-208.0001 506.9827,-215.0001\"/>\n</g>\n<!-- 12 -->\n<g id=\"node13\" class=\"node\">\n<title>12</title>\n<polygon fill=\"#f9e2d1\" stroke=\"#000000\" points=\"686.1667,-131.5 517.1667,-131.5 517.1667,-63.5 686.1667,-63.5 686.1667,-131.5\"/>\n<text text-anchor=\"start\" x=\"525.1667\" y=\"-116.3\" font-family=\"Times,serif\" font-size=\"14.00\" fill=\"#000000\">fiProductClassDesc ≤ 40.5</text>\n<text text-anchor=\"start\" x=\"565.1667\" y=\"-101.3\" font-family=\"Times,serif\" font-size=\"14.00\" fill=\"#000000\">mse = 0.087</text>\n<text text-anchor=\"start\" x=\"559.6667\" y=\"-86.3\" font-family=\"Times,serif\" font-size=\"14.00\" fill=\"#000000\">samples = 844</text>\n<text text-anchor=\"start\" x=\"561.1667\" y=\"-71.3\" font-family=\"Times,serif\" font-size=\"14.00\" fill=\"#000000\">value = 9.348</text>\n</g>\n<!-- 8&#45;&gt;12 -->\n<g id=\"edge12\" class=\"edge\">\n<title>8&#45;&gt;12</title>\n<path fill=\"none\" stroke=\"#000000\" d=\"M409.4385,-182.438C441.6448,-168.2073 480.8366,-150.89 515.4101,-135.6133\"/>\n<polygon fill=\"#000000\" stroke=\"#000000\" points=\"516.8276,-138.8135 524.5599,-131.5704 513.9984,-132.4107 516.8276,-138.8135\"/>\n</g>\n<!-- 10 -->\n<g id=\"node11\" class=\"node\">\n<title>10</title>\n<polygon fill=\"#ffffff\" stroke=\"#000000\" points=\"892.6667,-266 792.6667,-266 792.6667,-213 892.6667,-213 892.6667,-266\"/>\n<text text-anchor=\"start\" x=\"806.1667\" y=\"-250.8\" font-family=\"Times,serif\" font-size=\"14.00\" fill=\"#000000\">mse = 0.069</text>\n<text text-anchor=\"start\" x=\"800.6667\" y=\"-235.8\" font-family=\"Times,serif\" font-size=\"14.00\" fill=\"#000000\">samples = 787</text>\n<text text-anchor=\"start\" x=\"806.1667\" y=\"-220.8\" font-family=\"Times,serif\" font-size=\"14.00\" fill=\"#000000\">value = 8.99</text>\n</g>\n<!-- 9&#45;&gt;10 -->\n<g id=\"edge10\" class=\"edge\">\n<title>9&#45;&gt;10</title>\n<path fill=\"none\" stroke=\"#000000\" d=\"M686.2954,-221.3324C718.0822,-225.0255 753.5334,-229.1443 782.6337,-232.5252\"/>\n<polygon fill=\"#000000\" stroke=\"#000000\" points=\"782.3085,-236.0109 792.6456,-233.6884 783.1164,-229.0577 782.3085,-236.0109\"/>\n</g>\n<!-- 11 -->\n<g id=\"node12\" class=\"node\">\n<title>11</title>\n<polygon fill=\"#fbede3\" stroke=\"#000000\" points=\"892.6667,-195 792.6667,-195 792.6667,-142 892.6667,-142 892.6667,-195\"/>\n<text text-anchor=\"start\" x=\"806.1667\" y=\"-179.8\" font-family=\"Times,serif\" font-size=\"14.00\" fill=\"#000000\">mse = 0.102</text>\n<text text-anchor=\"start\" x=\"800.6667\" y=\"-164.8\" font-family=\"Times,serif\" font-size=\"14.00\" fill=\"#000000\">samples = 225</text>\n<text text-anchor=\"start\" x=\"802.1667\" y=\"-149.8\" font-family=\"Times,serif\" font-size=\"14.00\" fill=\"#000000\">value = 9.208</text>\n</g>\n<!-- 9&#45;&gt;11 -->\n<g id=\"edge11\" class=\"edge\">\n<title>9&#45;&gt;11</title>\n<path fill=\"none\" stroke=\"#000000\" d=\"M686.2954,-196.4003C718.0822,-190.7288 753.5334,-184.4035 782.6337,-179.2113\"/>\n<polygon fill=\"#000000\" stroke=\"#000000\" points=\"783.4159,-182.6271 792.6456,-177.4249 782.1863,-175.7359 783.4159,-182.6271\"/>\n</g>\n<!-- 13 -->\n<g id=\"node14\" class=\"node\">\n<title>13</title>\n<polygon fill=\"#fae8db\" stroke=\"#000000\" points=\"892.6667,-124 792.6667,-124 792.6667,-71 892.6667,-71 892.6667,-124\"/>\n<text text-anchor=\"start\" x=\"806.1667\" y=\"-108.8\" font-family=\"Times,serif\" font-size=\"14.00\" fill=\"#000000\">mse = 0.085</text>\n<text text-anchor=\"start\" x=\"800.6667\" y=\"-93.8\" font-family=\"Times,serif\" font-size=\"14.00\" fill=\"#000000\">samples = 462</text>\n<text text-anchor=\"start\" x=\"802.1667\" y=\"-78.8\" font-family=\"Times,serif\" font-size=\"14.00\" fill=\"#000000\">value = 9.269</text>\n</g>\n<!-- 12&#45;&gt;13 -->\n<g id=\"edge13\" class=\"edge\">\n<title>12&#45;&gt;13</title>\n<path fill=\"none\" stroke=\"#000000\" d=\"M686.2954,-97.5C718.0822,-97.5 753.5334,-97.5 782.6337,-97.5\"/>\n<polygon fill=\"#000000\" stroke=\"#000000\" points=\"782.6456,-101.0001 792.6456,-97.5 782.6456,-94.0001 782.6456,-101.0001\"/>\n</g>\n<!-- 14 -->\n<g id=\"node15\" class=\"node\">\n<title>14</title>\n<polygon fill=\"#f7dac5\" stroke=\"#000000\" points=\"892.6667,-53 792.6667,-53 792.6667,0 892.6667,0 892.6667,-53\"/>\n<text text-anchor=\"start\" x=\"806.1667\" y=\"-37.8\" font-family=\"Times,serif\" font-size=\"14.00\" fill=\"#000000\">mse = 0.073</text>\n<text text-anchor=\"start\" x=\"800.6667\" y=\"-22.8\" font-family=\"Times,serif\" font-size=\"14.00\" fill=\"#000000\">samples = 382</text>\n<text text-anchor=\"start\" x=\"802.1667\" y=\"-7.8\" font-family=\"Times,serif\" font-size=\"14.00\" fill=\"#000000\">value = 9.443</text>\n</g>\n<!-- 12&#45;&gt;14 -->\n<g id=\"edge14\" class=\"edge\">\n<title>12&#45;&gt;14</title>\n<path fill=\"none\" stroke=\"#000000\" d=\"M686.2954,-72.5679C718.221,-63.1624 753.843,-52.668 783.0146,-44.0739\"/>\n<polygon fill=\"#000000\" stroke=\"#000000\" points=\"784.0423,-47.4199 792.6456,-41.2365 782.0641,-40.7052 784.0423,-47.4199\"/>\n</g>\n</g>\n</svg>\n"
          },
          "metadata": {
            "tags": []
          }
        }
      ]
    },
    {
      "cell_type": "markdown",
      "metadata": {
        "id": "7Fi_HnpSe7Mk",
        "colab_type": "text"
      },
      "source": [
        "##TREES\n",
        "So in the above trees Coupler Systems is the first criteria under which data woul be split. In the is case mse would the mean square error when compared to the value. The value is the average of the complete dataset.i.e: When the next split is done this average is compared witht he predicted value and the mse is noted and wherever the mse is higher or the data makes far apart distances then its split accordingly."
      ]
    },
    {
      "cell_type": "markdown",
      "metadata": {
        "id": "Q4qnmo2dwsAK",
        "colab_type": "text"
      },
      "source": [
        "Let's see what happens if we create a bigger tree. `"
      ]
    },
    {
      "cell_type": "code",
      "metadata": {
        "id": "3W4CYidWwsAM",
        "colab_type": "code",
        "outputId": "76e3a1e2-ef0c-4996-f5bc-fbccee6d13ae",
        "colab": {
          "base_uri": "https://localhost:8080/",
          "height": 34
        }
      },
      "source": [
        "m = RandomForestRegressor(n_estimators=1, bootstrap=False, n_jobs=-1)\n",
        "m.fit(X_train, y_train)\n",
        "print_score(m)"
      ],
      "execution_count": 0,
      "outputs": [
        {
          "output_type": "stream",
          "text": [
            "[2.175583928816829e-17, 0.4833426454322039, 1.0, 0.5827866433618324]\n"
          ],
          "name": "stdout"
        }
      ]
    },
    {
      "cell_type": "markdown",
      "metadata": {
        "id": "a9Wk-fx7wsAN",
        "colab_type": "text"
      },
      "source": [
        "The training set result looks great! But the validation set is worse than our original model. This is why we need to use *bagging* of multiple trees to get more generalizable results. Here we do not give a limit to splitting the data and therefore the training data will fit perfectly and give us a score of 1. but the validation shows that score is only 0.73. This is because the tree has split to such a maximum that all of the training data has been accomodated and that therefore the training set can be predicted properly but validation cannot be predicted properly"
      ]
    },
    {
      "cell_type": "markdown",
      "metadata": {
        "id": "mbktgu_pwsAN",
        "colab_type": "text"
      },
      "source": [
        "## Bagging"
      ]
    },
    {
      "cell_type": "markdown",
      "metadata": {
        "id": "n-AEvcnbwsAO",
        "colab_type": "text"
      },
      "source": [
        "### Intro to bagging"
      ]
    },
    {
      "cell_type": "markdown",
      "metadata": {
        "id": "rmokCb5nwsAO",
        "colab_type": "text"
      },
      "source": [
        "To learn about bagging in random forests, let's start with our basic model again.\n",
        "\n",
        "Now what is bagging? In this case we randmly take 10 datasets from the training data set and try to make a prediction with one set of decision tree. Next we take another bunch of 10 data sets and then use this to make another decision tree and this would go on till we have say 10 different decision trees with 10 different insights. \n",
        "\n",
        "We would then average these 10 trees and  that erroe would be less(I am not sure what would happen when we average the results of these 10 decision trees. But this is the rough idea behind the baggin setup"
      ]
    },
    {
      "cell_type": "code",
      "metadata": {
        "id": "TAgntlD2wsAP",
        "colab_type": "code",
        "outputId": "e2160a66-b54b-4c95-e52b-5ebcef39fa72",
        "colab": {
          "base_uri": "https://localhost:8080/",
          "height": 68
        }
      },
      "source": [
        "m = RandomForestRegressor(n_jobs=-1)\n",
        "m.fit(X_train, y_train)\n",
        "print_score(m)"
      ],
      "execution_count": 0,
      "outputs": [
        {
          "output_type": "stream",
          "text": [
            "/usr/local/lib/python3.6/dist-packages/sklearn/ensemble/forest.py:245: FutureWarning: The default value of n_estimators will change from 10 in version 0.20 to 100 in 0.22.\n",
            "  \"10 in version 0.20 to 100 in 0.22.\", FutureWarning)\n"
          ],
          "name": "stderr"
        },
        {
          "output_type": "stream",
          "text": [
            "[0.11216229404450608, 0.35969953154399914, 0.9728888373160977, 0.7689384308050888]\n"
          ],
          "name": "stdout"
        }
      ]
    },
    {
      "cell_type": "markdown",
      "metadata": {
        "id": "tgLGW2K5wsAQ",
        "colab_type": "text"
      },
      "source": [
        "We'll grab the predictions for each individual tree, and look at one example.\n",
        "In the below code we can see that prediction has been done for each value of the validation set for all the 10 estimators and the next line of code (10,12000) has 10 predicted values for the all the 12000 validation set values. It can also be observed that the each indiual value for a validation row has 10 different mean values and when the average of them is taken they are very close to the predicted value"
      ]
    },
    {
      "cell_type": "code",
      "metadata": {
        "id": "nbdE6ixuwsAQ",
        "colab_type": "code",
        "outputId": "11cc39c5-b9db-403e-95b1-6e4ff63d4da6",
        "colab": {
          "base_uri": "https://localhost:8080/",
          "height": 68
        }
      },
      "source": [
        "preds = np.stack([t.predict(X_valid) for t in m.estimators_])\n",
        "preds[:,0], np.mean(preds[:,0]), y_valid[0]"
      ],
      "execution_count": 0,
      "outputs": [
        {
          "output_type": "execute_result",
          "data": {
            "text/plain": [
              "(array([9.15905, 9.68034, 8.9872 , 8.95545, 9.23503, 8.9872 , 8.9872 , 8.9872 , 8.9872 , 8.95545]),\n",
              " 9.092130441138178,\n",
              " 9.104979856318357)"
            ]
          },
          "metadata": {
            "tags": []
          },
          "execution_count": 33
        }
      ]
    },
    {
      "cell_type": "code",
      "metadata": {
        "id": "n9wSrArhwsAS",
        "colab_type": "code",
        "outputId": "26d15abc-c957-443f-82b8-c25504d900a8",
        "colab": {
          "base_uri": "https://localhost:8080/",
          "height": 34
        }
      },
      "source": [
        "preds.shape"
      ],
      "execution_count": 0,
      "outputs": [
        {
          "output_type": "execute_result",
          "data": {
            "text/plain": [
              "(10, 12000)"
            ]
          },
          "metadata": {
            "tags": []
          },
          "execution_count": 34
        }
      ]
    },
    {
      "cell_type": "markdown",
      "metadata": {
        "id": "KwKq3V4hn1rS",
        "colab_type": "text"
      },
      "source": [
        "In the below code, it can be see that the validaiton set mean value has been taken with respect one tree,twot ree and till all the 10 trees and the rmse error has been plotted and it can be seen that the grpah value is increasing."
      ]
    },
    {
      "cell_type": "code",
      "metadata": {
        "id": "Ghw_R31mwsAT",
        "colab_type": "code",
        "outputId": "44867dc3-abfd-4313-ca87-13f8a76657cf",
        "colab": {
          "base_uri": "https://localhost:8080/",
          "height": 265
        }
      },
      "source": [
        "plt.plot([metrics.r2_score(y_valid, np.mean(preds[:i+1], axis=0)) for i in range(10)]);"
      ],
      "execution_count": 0,
      "outputs": [
        {
          "output_type": "display_data",
          "data": {
            "image/png": "[encoded data removed]",
            "text/plain": [
              "<Figure size 432x288 with 1 Axes>"
            ]
          },
          "metadata": {
            "tags": []
          }
        }
      ]
    },
    {
      "cell_type": "markdown",
      "metadata": {
        "id": "6sob2guVwsAU",
        "colab_type": "text"
      },
      "source": [
        "The shape of this curve suggests that adding more trees isn't going to help us much. Let's check. (Compare this to our original model on a sample)\n",
        "In the below code they try increasing the number of trees to 20 and see what happens, these tree numbers are called **hyper parameters**,when we fine tune the hyper parameters we can see increment in value"
      ]
    },
    {
      "cell_type": "code",
      "metadata": {
        "id": "pAGhvja6wsAV",
        "colab_type": "code",
        "outputId": "b155097a-751b-436a-d2b0-fed6a781dce1",
        "colab": {
          "base_uri": "https://localhost:8080/",
          "height": 34
        }
      },
      "source": [
        "m = RandomForestRegressor(n_estimators=20, n_jobs=-1)\n",
        "m.fit(X_train, y_train)\n",
        "print_score(m)"
      ],
      "execution_count": 0,
      "outputs": [
        {
          "output_type": "stream",
          "text": [
            "[0.10063602769794644, 0.35123550171951673, 0.978174643393295, 0.7796846346585299]\n"
          ],
          "name": "stdout"
        }
      ]
    },
    {
      "cell_type": "code",
      "metadata": {
        "id": "tcafyM1GwsAX",
        "colab_type": "code",
        "outputId": "79810cdb-576e-4419-9ca1-69da1599c81a",
        "colab": {
          "base_uri": "https://localhost:8080/",
          "height": 34
        }
      },
      "source": [
        "m = RandomForestRegressor(n_estimators=40, n_jobs=-1)\n",
        "m.fit(X_train, y_train)\n",
        "print_score(m)"
      ],
      "execution_count": 0,
      "outputs": [
        {
          "output_type": "stream",
          "text": [
            "[0.09875544684341411, 0.3628293799398499, 0.9787148291657832, 0.764899871122278]\n"
          ],
          "name": "stdout"
        }
      ]
    },
    {
      "cell_type": "code",
      "metadata": {
        "id": "7Y3JsjRywsAZ",
        "colab_type": "code",
        "outputId": "7d3eb9f9-d927-4f4a-fbe6-44cc2f74407a",
        "colab": {
          "base_uri": "https://localhost:8080/",
          "height": 34
        }
      },
      "source": [
        "m = RandomForestRegressor(n_estimators=80, n_jobs=-1)\n",
        "m.fit(X_train, y_train)\n",
        "print_score(m)"
      ],
      "execution_count": 0,
      "outputs": [
        {
          "output_type": "stream",
          "text": [
            "[0.09332103042064856, 0.33820806964475486, 0.9812321973763066, 0.7957246772757582]\n"
          ],
          "name": "stdout"
        }
      ]
    },
    {
      "cell_type": "markdown",
      "metadata": {
        "id": "nqFuyoebwsAa",
        "colab_type": "text"
      },
      "source": [
        "### Out-of-bag (OOB) score"
      ]
    },
    {
      "cell_type": "markdown",
      "metadata": {
        "id": "QMRK50WMwsAa",
        "colab_type": "text"
      },
      "source": [
        "Is our validation set worse than our training set because we're over-fitting, or because the validation set is for a different time period, or a bit of both? With the existing information we've shown, we can't tell. However, random forests have a very clever trick called *out-of-bag (OOB) error* which can handle this (and more!)\n",
        "\n",
        "The idea is to calculate error on the training set, but only include the trees in the calculation of a row's error where that row was *not* included in training that tree. This allows us to see whether the model is over-fitting, without needing a separate validation set.\n",
        "\n",
        "This also has the benefit of allowing us to see whether our model generalizes, even if we only have a small amount of data so want to avoid separating some out to create a validation set.\n",
        "\n",
        "This is as simple as adding one more parameter to our model constructor. We print the OOB error last in our `print_score` function below.\n",
        "\n",
        "The above idea is that we use roughly only 63% of the total rows for training for each decision tree cause we do replacement as well ,i.e: use a row and then replace and use it again in another tree, therefore the rest of the data is left idel and as a result of which we can use that data to get see if we are overfitting."
      ]
    },
    {
      "cell_type": "code",
      "metadata": {
        "id": "kyKemRunwsAb",
        "colab_type": "code",
        "outputId": "93c9d33a-3211-4542-c141-c6f75674093d",
        "colab": {
          "base_uri": "https://localhost:8080/",
          "height": 34
        }
      },
      "source": [
        "m = RandomForestRegressor(n_estimators=40, n_jobs=-1, oob_score=True)\n",
        "m.fit(X_train, y_train)\n",
        "print_score(m)"
      ],
      "execution_count": 0,
      "outputs": [
        {
          "output_type": "stream",
          "text": [
            "[0.07834913369899411, 0.2381470315156078, 0.9871706922297334, 0.8987165890317587, 0.9082572705861006]\n"
          ],
          "name": "stdout"
        }
      ]
    },
    {
      "cell_type": "code",
      "metadata": {
        "id": "-_pzA3U_KxiI",
        "colab_type": "code",
        "outputId": "0cb9a060-4fe6-4267-9ccf-19a2cbcf8df6",
        "colab": {
          "base_uri": "https://localhost:8080/",
          "height": 88
        }
      },
      "source": [
        "set_rf_samples(50000)\n",
        "m = RandomForestRegressor(n_estimators=40, min_samples_leaf=2, \n",
        "                        max_features=0.5, n_jobs=-1, oob_score=True)\n",
        "m.fit(X_train, y_train)\n",
        "print_score(m)"
      ],
      "execution_count": 0,
      "outputs": [
        {
          "output_type": "stream",
          "text": [
            "/usr/local/lib/python3.6/dist-packages/sklearn/ensemble/forest.py:737: UserWarning: Some inputs do not have OOB scores. This probably means too few trees were used to compute any reliable oob estimates.\n",
            "  warn(\"Some inputs do not have OOB scores. \"\n"
          ],
          "name": "stderr"
        },
        {
          "output_type": "stream",
          "text": [
            "[0.06316947010741239, 0.33949711075299427, 0.9914005862660219, 0.7941645661037273, -6.116365999391113]\n"
          ],
          "name": "stdout"
        }
      ]
    },
    {
      "cell_type": "code",
      "metadata": {
        "id": "_cN9QkSdKxxb",
        "colab_type": "code",
        "outputId": "9ba51bfa-216d-4354-be31-20a93033be83",
        "colab": {
          "base_uri": "https://localhost:8080/",
          "height": 68
        }
      },
      "source": [
        "%time preds = np.stack([t.predict(X_valid) for t in m.estimators_])\n",
        "np.mean(preds[:,0]), np.std(preds[:,0])"
      ],
      "execution_count": 0,
      "outputs": [
        {
          "output_type": "stream",
          "text": [
            "CPU times: user 1.19 s, sys: 41 ms, total: 1.23 s\n",
            "Wall time: 1.24 s\n"
          ],
          "name": "stdout"
        },
        {
          "output_type": "execute_result",
          "data": {
            "text/plain": [
              "(9.569112492381477, 0.553421222820228)"
            ]
          },
          "metadata": {
            "tags": []
          },
          "execution_count": 40
        }
      ]
    },
    {
      "cell_type": "markdown",
      "metadata": {
        "id": "tf3CBsxsPaQJ",
        "colab_type": "text"
      },
      "source": [
        "## **Confidence Interval and understanding**"
      ]
    },
    {
      "cell_type": "code",
      "metadata": {
        "id": "CMYURn1VP7zy",
        "colab_type": "code",
        "colab": {}
      },
      "source": [
        "set_rf_samples(50000)"
      ],
      "execution_count": 0,
      "outputs": []
    },
    {
      "cell_type": "code",
      "metadata": {
        "id": "YWU4RaRhPrE5",
        "colab_type": "code",
        "outputId": "1bef5c58-d77e-4286-becd-67a5adb4291e",
        "colab": {
          "base_uri": "https://localhost:8080/",
          "height": 197
        }
      },
      "source": [
        "m = RandomForestRegressor(n_estimators=40, min_samples_leaf=3, max_features=0.5, n_jobs=-1, oob_score=True)\n",
        "m.fit(X_train, y_train)\n",
        "print_score(m)"
      ],
      "execution_count": 0,
      "outputs": [
        {
          "output_type": "error",
          "ename": "NameError",
          "evalue": "ignored",
          "traceback": [
            "\u001b[0;31m---------------------------------------------------------------------------\u001b[0m",
            "\u001b[0;31mNameError\u001b[0m                                 Traceback (most recent call last)",
            "\u001b[0;32m<ipython-input-20-755204d711e1>\u001b[0m in \u001b[0;36m<module>\u001b[0;34m()\u001b[0m\n\u001b[1;32m      1\u001b[0m \u001b[0mm\u001b[0m \u001b[0;34m=\u001b[0m \u001b[0mRandomForestRegressor\u001b[0m\u001b[0;34m(\u001b[0m\u001b[0mn_estimators\u001b[0m\u001b[0;34m=\u001b[0m\u001b[0;36m40\u001b[0m\u001b[0;34m,\u001b[0m \u001b[0mmin_samples_leaf\u001b[0m\u001b[0;34m=\u001b[0m\u001b[0;36m3\u001b[0m\u001b[0;34m,\u001b[0m \u001b[0mmax_features\u001b[0m\u001b[0;34m=\u001b[0m\u001b[0;36m0.5\u001b[0m\u001b[0;34m,\u001b[0m \u001b[0mn_jobs\u001b[0m\u001b[0;34m=\u001b[0m\u001b[0;34m-\u001b[0m\u001b[0;36m1\u001b[0m\u001b[0;34m,\u001b[0m \u001b[0moob_score\u001b[0m\u001b[0;34m=\u001b[0m\u001b[0;32mTrue\u001b[0m\u001b[0;34m)\u001b[0m\u001b[0;34m\u001b[0m\u001b[0;34m\u001b[0m\u001b[0m\n\u001b[1;32m      2\u001b[0m \u001b[0mm\u001b[0m\u001b[0;34m.\u001b[0m\u001b[0mfit\u001b[0m\u001b[0;34m(\u001b[0m\u001b[0mX_train\u001b[0m\u001b[0;34m,\u001b[0m \u001b[0my_train\u001b[0m\u001b[0;34m)\u001b[0m\u001b[0;34m\u001b[0m\u001b[0;34m\u001b[0m\u001b[0m\n\u001b[0;32m----> 3\u001b[0;31m \u001b[0mprint_score\u001b[0m\u001b[0;34m(\u001b[0m\u001b[0mm\u001b[0m\u001b[0;34m)\u001b[0m\u001b[0;34m\u001b[0m\u001b[0;34m\u001b[0m\u001b[0m\n\u001b[0m",
            "\u001b[0;31mNameError\u001b[0m: name 'print_score' is not defined"
          ]
        }
      ]
    },
    {
      "cell_type": "markdown",
      "metadata": {
        "id": "ClRWdhzNtFRy",
        "colab_type": "text"
      },
      "source": [
        "In the below code we predict the sale value from each estimator and then take the average for all of them. Similary we also do the standard deviation as well and see the output for the first row"
      ]
    },
    {
      "cell_type": "code",
      "metadata": {
        "id": "-V8rsltOP3vo",
        "colab_type": "code",
        "outputId": "ddea6d4d-6304-44c3-e762-88d9299f8a0d",
        "colab": {
          "base_uri": "https://localhost:8080/",
          "height": 68
        }
      },
      "source": [
        "%time preds = np.stack([t.predict(X_valid) for t in m.estimators_])\n",
        "np.mean(preds[:,0]), np.std(preds[:,0])"
      ],
      "execution_count": 0,
      "outputs": [
        {
          "output_type": "stream",
          "text": [
            "CPU times: user 1.27 s, sys: 32 ms, total: 1.3 s\n",
            "Wall time: 1.31 s\n"
          ],
          "name": "stdout"
        },
        {
          "output_type": "execute_result",
          "data": {
            "text/plain": [
              "(9.168782546795887, 0.17465047780961285)"
            ]
          },
          "metadata": {
            "tags": []
          },
          "execution_count": 44
        }
      ]
    },
    {
      "cell_type": "markdown",
      "metadata": {
        "id": "jEGzXtUf8Emw",
        "colab_type": "text"
      },
      "source": [
        "Here we make a copy of the validation dataframe and we add the prediction and mean for each row and also plot just the histogram for just the three sets of bar graphs"
      ]
    },
    {
      "cell_type": "code",
      "metadata": {
        "id": "sWrRagiszd5u",
        "colab_type": "code",
        "outputId": "ee46e08e-5e53-417c-cd2c-1fa320b9dd1c",
        "colab": {
          "base_uri": "https://localhost:8080/",
          "height": 68
        }
      },
      "source": [
        "def get_preds(t): return t.predict(X_valid)\n",
        "%time preds = np.stack(parallel_trees(m, get_preds))\n",
        "np.mean(preds[:,0]), np.std(preds[:,0])"
      ],
      "execution_count": 0,
      "outputs": [
        {
          "output_type": "stream",
          "text": [
            "CPU times: user 783 ms, sys: 458 ms, total: 1.24 s\n",
            "Wall time: 3.38 s\n"
          ],
          "name": "stdout"
        },
        {
          "output_type": "execute_result",
          "data": {
            "text/plain": [
              "(9.168782546795887, 0.17465047780961285)"
            ]
          },
          "metadata": {
            "tags": []
          },
          "execution_count": 45
        }
      ]
    },
    {
      "cell_type": "markdown",
      "metadata": {
        "id": "hv1PSbSRznLc",
        "colab_type": "text"
      },
      "source": [
        "In the above code, we run parallel trees which makes use of all of our computer cores by simentaneously running the multiple trees on different cores. For parralled trees to work we need the Random Forest model(m) and the fucntion that we are trying to obatin the value for in this case it get_preds"
      ]
    },
    {
      "cell_type": "code",
      "metadata": {
        "id": "O1uNpmZcP3y6",
        "colab_type": "code",
        "outputId": "b9b04b16-efad-43b5-ef9d-e10aa2c5fbf9",
        "colab": {
          "base_uri": "https://localhost:8080/",
          "height": 265
        }
      },
      "source": [
        "x = raw_valid.copy()\n",
        "x['pred_std'] = np.std(preds, axis=0)\n",
        "x['pred'] = np.mean(preds, axis=0)\n",
        "x.Enclosure.value_counts().plot.barh();"
      ],
      "execution_count": 0,
      "outputs": [
        {
          "output_type": "display_data",
          "data": {
            "image/png": "[encoded data removed]",
            "text/plain": [
              "<Figure size 432x288 with 1 Axes>"
            ]
          },
          "metadata": {
            "tags": []
          }
        }
      ]
    },
    {
      "cell_type": "code",
      "metadata": {
        "id": "Qk7rGeqFP32N",
        "colab_type": "code",
        "outputId": "32f93869-0c25-483b-d256-d36204aaeb83",
        "colab": {
          "base_uri": "https://localhost:8080/",
          "height": 235
        }
      },
      "source": [
        "flds = ['Enclosure', 'SalePrice', 'pred', 'pred_std']\n",
        "enc_summ = x[flds].groupby('Enclosure', as_index=False).mean()\n",
        "enc_summ"
      ],
      "execution_count": 0,
      "outputs": [
        {
          "output_type": "execute_result",
          "data": {
            "text/html": [
              "<div>\n",
              "<style scoped>\n",
              "    .dataframe tbody tr th:only-of-type {\n",
              "        vertical-align: middle;\n",
              "    }\n",
              "\n",
              "    .dataframe tbody tr th {\n",
              "        vertical-align: top;\n",
              "    }\n",
              "\n",
              "    .dataframe thead th {\n",
              "        text-align: right;\n",
              "    }\n",
              "</style>\n",
              "<table border=\"1\" class=\"dataframe\">\n",
              "  <thead>\n",
              "    <tr style=\"text-align: right;\">\n",
              "      <th></th>\n",
              "      <th>Enclosure</th>\n",
              "      <th>SalePrice</th>\n",
              "      <th>pred</th>\n",
              "      <th>pred_std</th>\n",
              "    </tr>\n",
              "  </thead>\n",
              "  <tbody>\n",
              "    <tr>\n",
              "      <th>0</th>\n",
              "      <td>EROPS</td>\n",
              "      <td>9.849178</td>\n",
              "      <td>9.835224</td>\n",
              "      <td>0.285210</td>\n",
              "    </tr>\n",
              "    <tr>\n",
              "      <th>1</th>\n",
              "      <td>EROPS AC</td>\n",
              "      <td>NaN</td>\n",
              "      <td>NaN</td>\n",
              "      <td>NaN</td>\n",
              "    </tr>\n",
              "    <tr>\n",
              "      <th>2</th>\n",
              "      <td>EROPS w AC</td>\n",
              "      <td>10.623971</td>\n",
              "      <td>10.595863</td>\n",
              "      <td>0.267681</td>\n",
              "    </tr>\n",
              "    <tr>\n",
              "      <th>3</th>\n",
              "      <td>NO ROPS</td>\n",
              "      <td>NaN</td>\n",
              "      <td>NaN</td>\n",
              "      <td>NaN</td>\n",
              "    </tr>\n",
              "    <tr>\n",
              "      <th>4</th>\n",
              "      <td>None or Unspecified</td>\n",
              "      <td>NaN</td>\n",
              "      <td>NaN</td>\n",
              "      <td>NaN</td>\n",
              "    </tr>\n",
              "    <tr>\n",
              "      <th>5</th>\n",
              "      <td>OROPS</td>\n",
              "      <td>9.682064</td>\n",
              "      <td>9.682768</td>\n",
              "      <td>0.230531</td>\n",
              "    </tr>\n",
              "  </tbody>\n",
              "</table>\n",
              "</div>"
            ],
            "text/plain": [
              "             Enclosure  SalePrice       pred  pred_std\n",
              "0                EROPS   9.849178   9.835224  0.285210\n",
              "1             EROPS AC        NaN        NaN       NaN\n",
              "2           EROPS w AC  10.623971  10.595863  0.267681\n",
              "3              NO ROPS        NaN        NaN       NaN\n",
              "4  None or Unspecified        NaN        NaN       NaN\n",
              "5                OROPS   9.682064   9.682768  0.230531"
            ]
          },
          "metadata": {
            "tags": []
          },
          "execution_count": 47
        }
      ]
    },
    {
      "cell_type": "markdown",
      "metadata": {
        "id": "uYf63OxDwsAc",
        "colab_type": "text"
      },
      "source": [
        "This shows that our validation set time difference is making an impact, as is model over-fitting. \n",
        "enc_summ is a dataframe that is grouped by the enclosure with the prediction mean and standard deviation.  therefore in the below st.dev we check if its isnull and if it isnt we only take those rows and then plot a bargraph with columns OROPS,EROPS and EROPS w AC"
      ]
    },
    {
      "cell_type": "code",
      "metadata": {
        "id": "zb1mqcKGAh4e",
        "colab_type": "code",
        "outputId": "6777659a-7ec7-403f-a3e2-d0c987b8c9a3",
        "colab": {
          "base_uri": "https://localhost:8080/",
          "height": 265
        }
      },
      "source": [
        "enc_summ = enc_summ[~pd.isnull(enc_summ.SalePrice)]\n",
        "enc_summ.plot('Enclosure', 'SalePrice', 'barh', xlim=(0,11));"
      ],
      "execution_count": 0,
      "outputs": [
        {
          "output_type": "display_data",
          "data": {
            "image/png": "[encoded data removed]",
            "text/plain": [
              "<Figure size 432x288 with 1 Axes>"
            ]
          },
          "metadata": {
            "tags": []
          }
        }
      ]
    },
    {
      "cell_type": "code",
      "metadata": {
        "id": "57u68CAsAl8j",
        "colab_type": "code",
        "outputId": "d797e2be-01f3-4f58-9c99-7af9cc9b6ea9",
        "colab": {
          "base_uri": "https://localhost:8080/",
          "height": 265
        }
      },
      "source": [
        "raw_valid.ProductSize.value_counts().plot.barh();"
      ],
      "execution_count": 0,
      "outputs": [
        {
          "output_type": "display_data",
          "data": {
            "image/png": "[encoded data removed]",
            "text/plain": [
              "<Figure size 432x288 with 1 Axes>"
            ]
          },
          "metadata": {
            "tags": []
          }
        }
      ]
    },
    {
      "cell_type": "code",
      "metadata": {
        "id": "9zwAa6TdAmKN",
        "colab_type": "code",
        "outputId": "28f83c24-ca61-4c20-b177-73348007f87d",
        "colab": {
          "base_uri": "https://localhost:8080/",
          "height": 266
        }
      },
      "source": [
        "flds = ['ProductSize', 'SalePrice', 'pred', 'pred_std']\n",
        "summ = x[flds].groupby(flds[0]).mean()\n",
        "summ"
      ],
      "execution_count": 0,
      "outputs": [
        {
          "output_type": "execute_result",
          "data": {
            "text/html": [
              "<div>\n",
              "<style scoped>\n",
              "    .dataframe tbody tr th:only-of-type {\n",
              "        vertical-align: middle;\n",
              "    }\n",
              "\n",
              "    .dataframe tbody tr th {\n",
              "        vertical-align: top;\n",
              "    }\n",
              "\n",
              "    .dataframe thead th {\n",
              "        text-align: right;\n",
              "    }\n",
              "</style>\n",
              "<table border=\"1\" class=\"dataframe\">\n",
              "  <thead>\n",
              "    <tr style=\"text-align: right;\">\n",
              "      <th></th>\n",
              "      <th>SalePrice</th>\n",
              "      <th>pred</th>\n",
              "      <th>pred_std</th>\n",
              "    </tr>\n",
              "    <tr>\n",
              "      <th>ProductSize</th>\n",
              "      <th></th>\n",
              "      <th></th>\n",
              "      <th></th>\n",
              "    </tr>\n",
              "  </thead>\n",
              "  <tbody>\n",
              "    <tr>\n",
              "      <th>Compact</th>\n",
              "      <td>9.735093</td>\n",
              "      <td>9.841009</td>\n",
              "      <td>0.326899</td>\n",
              "    </tr>\n",
              "    <tr>\n",
              "      <th>Large</th>\n",
              "      <td>10.470589</td>\n",
              "      <td>10.420628</td>\n",
              "      <td>0.371913</td>\n",
              "    </tr>\n",
              "    <tr>\n",
              "      <th>Large / Medium</th>\n",
              "      <td>10.691871</td>\n",
              "      <td>10.653529</td>\n",
              "      <td>0.321263</td>\n",
              "    </tr>\n",
              "    <tr>\n",
              "      <th>Medium</th>\n",
              "      <td>10.681511</td>\n",
              "      <td>10.631893</td>\n",
              "      <td>0.289936</td>\n",
              "    </tr>\n",
              "    <tr>\n",
              "      <th>Mini</th>\n",
              "      <td>9.535147</td>\n",
              "      <td>9.558108</td>\n",
              "      <td>0.234703</td>\n",
              "    </tr>\n",
              "    <tr>\n",
              "      <th>Small</th>\n",
              "      <td>10.324448</td>\n",
              "      <td>10.349606</td>\n",
              "      <td>0.290272</td>\n",
              "    </tr>\n",
              "  </tbody>\n",
              "</table>\n",
              "</div>"
            ],
            "text/plain": [
              "                SalePrice       pred  pred_std\n",
              "ProductSize                                   \n",
              "Compact          9.735093   9.841009  0.326899\n",
              "Large           10.470589  10.420628  0.371913\n",
              "Large / Medium  10.691871  10.653529  0.321263\n",
              "Medium          10.681511  10.631893  0.289936\n",
              "Mini             9.535147   9.558108  0.234703\n",
              "Small           10.324448  10.349606  0.290272"
            ]
          },
          "metadata": {
            "tags": []
          },
          "execution_count": 50
        }
      ]
    },
    {
      "cell_type": "code",
      "metadata": {
        "id": "ZC5e15PIAmN6",
        "colab_type": "code",
        "outputId": "27a4d4df-c244-48f0-9f9d-c132e53ba2ba",
        "colab": {
          "base_uri": "https://localhost:8080/",
          "height": 153
        }
      },
      "source": [
        "(summ.pred_std/summ.pred).sort_values(ascending=False)"
      ],
      "execution_count": 0,
      "outputs": [
        {
          "output_type": "execute_result",
          "data": {
            "text/plain": [
              "ProductSize\n",
              "Large             0.035690\n",
              "Compact           0.033218\n",
              "Large / Medium    0.030156\n",
              "Small             0.028047\n",
              "Medium            0.027270\n",
              "Mini              0.024555\n",
              "dtype: float64"
            ]
          },
          "metadata": {
            "tags": []
          },
          "execution_count": 51
        }
      ]
    },
    {
      "cell_type": "markdown",
      "metadata": {
        "id": "2P4OKD8_9bkU",
        "colab_type": "text"
      },
      "source": [
        "In the below code we learn to do feature importance. This is so as to understand which of the features that are important and relevant and which arent"
      ]
    },
    {
      "cell_type": "code",
      "metadata": {
        "id": "5hw37D3DCG87",
        "colab_type": "code",
        "colab": {}
      },
      "source": [
        "df_trn, y_trn, nas = proc_df(df_raw, 'SalePrice')\n",
        "\n",
        "def split_vals(a,n): return a[:n].copy(), a[n:].copy()\n",
        "\n",
        "n_valid = 12000  \n",
        "n_trn = len(df)-n_valid\n",
        "raw_train, raw_valid = split_vals(df_raw, n_trn)\n",
        "X_train, X_valid = split_vals(df_trn, n_trn)\n",
        "y_train, y_valid = split_vals(y_trn, n_trn)"
      ],
      "execution_count": 0,
      "outputs": []
    },
    {
      "cell_type": "code",
      "metadata": {
        "id": "TsIRjlZgA0L-",
        "colab_type": "code",
        "outputId": "1e69cb43-f38b-4522-c5e9-93438d4917a5",
        "colab": {
          "base_uri": "https://localhost:8080/",
          "height": 359
        }
      },
      "source": [
        "fi = rf_feat_importance(m, df_trn); \n",
        "fi[:10]"
      ],
      "execution_count": 0,
      "outputs": [
        {
          "output_type": "execute_result",
          "data": {
            "text/html": [
              "<div>\n",
              "<style scoped>\n",
              "    .dataframe tbody tr th:only-of-type {\n",
              "        vertical-align: middle;\n",
              "    }\n",
              "\n",
              "    .dataframe tbody tr th {\n",
              "        vertical-align: top;\n",
              "    }\n",
              "\n",
              "    .dataframe thead th {\n",
              "        text-align: right;\n",
              "    }\n",
              "</style>\n",
              "<table border=\"1\" class=\"dataframe\">\n",
              "  <thead>\n",
              "    <tr style=\"text-align: right;\">\n",
              "      <th></th>\n",
              "      <th>cols</th>\n",
              "      <th>imp</th>\n",
              "    </tr>\n",
              "  </thead>\n",
              "  <tbody>\n",
              "    <tr>\n",
              "      <th>37</th>\n",
              "      <td>Coupler_System</td>\n",
              "      <td>0.198523</td>\n",
              "    </tr>\n",
              "    <tr>\n",
              "      <th>5</th>\n",
              "      <td>YearMade</td>\n",
              "      <td>0.175565</td>\n",
              "    </tr>\n",
              "    <tr>\n",
              "      <th>13</th>\n",
              "      <td>ProductSize</td>\n",
              "      <td>0.105597</td>\n",
              "    </tr>\n",
              "    <tr>\n",
              "      <th>14</th>\n",
              "      <td>fiProductClassDesc</td>\n",
              "      <td>0.104038</td>\n",
              "    </tr>\n",
              "    <tr>\n",
              "      <th>2</th>\n",
              "      <td>ModelID</td>\n",
              "      <td>0.092845</td>\n",
              "    </tr>\n",
              "    <tr>\n",
              "      <th>63</th>\n",
              "      <td>saleElapsed</td>\n",
              "      <td>0.078055</td>\n",
              "    </tr>\n",
              "    <tr>\n",
              "      <th>19</th>\n",
              "      <td>Enclosure</td>\n",
              "      <td>0.038368</td>\n",
              "    </tr>\n",
              "    <tr>\n",
              "      <th>8</th>\n",
              "      <td>fiModelDesc</td>\n",
              "      <td>0.030565</td>\n",
              "    </tr>\n",
              "    <tr>\n",
              "      <th>10</th>\n",
              "      <td>fiSecondaryDesc</td>\n",
              "      <td>0.027692</td>\n",
              "    </tr>\n",
              "    <tr>\n",
              "      <th>0</th>\n",
              "      <td>SalesID</td>\n",
              "      <td>0.025336</td>\n",
              "    </tr>\n",
              "  </tbody>\n",
              "</table>\n",
              "</div>"
            ],
            "text/plain": [
              "                  cols       imp\n",
              "37      Coupler_System  0.198523\n",
              "5             YearMade  0.175565\n",
              "13         ProductSize  0.105597\n",
              "14  fiProductClassDesc  0.104038\n",
              "2              ModelID  0.092845\n",
              "63         saleElapsed  0.078055\n",
              "19           Enclosure  0.038368\n",
              "8          fiModelDesc  0.030565\n",
              "10     fiSecondaryDesc  0.027692\n",
              "0              SalesID  0.025336"
            ]
          },
          "metadata": {
            "tags": []
          },
          "execution_count": 54
        }
      ]
    },
    {
      "cell_type": "code",
      "metadata": {
        "id": "HGtQ7ZUwA0U5",
        "colab_type": "code",
        "outputId": "f59c6e5b-5041-4213-b536-2a3edceea131",
        "colab": {
          "base_uri": "https://localhost:8080/",
          "height": 389
        }
      },
      "source": [
        "fi.plot('cols', 'imp', figsize=(10,6), legend=False);"
      ],
      "execution_count": 0,
      "outputs": [
        {
          "output_type": "display_data",
          "data": {
            "image/png": "[encoded data removed]",
            "text/plain": [
              "<Figure size 720x432 with 1 Axes>"
            ]
          },
          "metadata": {
            "tags": []
          }
        }
      ]
    },
    {
      "cell_type": "code",
      "metadata": {
        "id": "y2oxW0CmA0Y6",
        "colab_type": "code",
        "outputId": "cfc7c432-ef47-4f52-e880-112693de83c8",
        "colab": {
          "base_uri": "https://localhost:8080/",
          "height": 428
        }
      },
      "source": [
        "def plot_fi(fi): \n",
        "  return fi.plot('cols','imp','barh', figsize=(12,7), legend=False)\n",
        "plot_fi(fi[:30]);"
      ],
      "execution_count": 0,
      "outputs": [
        {
          "output_type": "display_data",
          "data": {
            "image/png": "[encoded data removed]",
            "text/plain": [
              "<Figure size 864x504 with 1 Axes>"
            ]
          },
          "metadata": {
            "tags": []
          }
        }
      ]
    },
    {
      "cell_type": "code",
      "metadata": {
        "id": "cXZf1hzGA0cK",
        "colab_type": "code",
        "outputId": "18ee89c8-5db6-453c-b640-27d4170bde67",
        "colab": {
          "base_uri": "https://localhost:8080/",
          "height": 34
        }
      },
      "source": [
        "to_keep = fi[fi.imp>0.005].cols; \n",
        "len(to_keep)\n"
      ],
      "execution_count": 0,
      "outputs": [
        {
          "output_type": "execute_result",
          "data": {
            "text/plain": [
              "16"
            ]
          },
          "metadata": {
            "tags": []
          },
          "execution_count": 57
        }
      ]
    },
    {
      "cell_type": "code",
      "metadata": {
        "id": "Lc1Z7EKO1hi9",
        "colab_type": "code",
        "outputId": "2d5e387c-d02b-4c11-b193-ed7df9ab4f59",
        "colab": {
          "base_uri": "https://localhost:8080/",
          "height": 34
        }
      },
      "source": [
        "df_keep = df_trn[to_keep].copy() ## Here we will add the data with only the required columns which is to_keep columns and copy that to df_keep\n",
        "X_train, X_valid = split_vals(df_keep, n_trn)\n",
        "y_train, _ = split_vals(y_trn, n_trn)\n",
        "\n",
        "m = RandomForestRegressor(n_estimators=40, min_samples_leaf=3, \n",
        "                       max_features=0.5, n_jobs=-1, oob_score=True)\n",
        "m.fit(X_train, y_train)\n",
        "print_score(m)\n",
        "#[0.20685390156773095, 0.24454842802383558, 0.91015213846294174, 0.89319840835270514, 0.8942078920004991]"
      ],
      "execution_count": 0,
      "outputs": [
        {
          "output_type": "stream",
          "text": [
            "[0.12548877557887733, 0.22583691336893946, 0.9670887339191502, 0.9089168938039976, 0.9083836361447489]\n"
          ],
          "name": "stdout"
        }
      ]
    },
    {
      "cell_type": "code",
      "metadata": {
        "id": "J457UYDrEUel",
        "colab_type": "code",
        "outputId": "b82e2449-52f9-4d87-836f-9d1c91d35f35",
        "colab": {
          "base_uri": "https://localhost:8080/",
          "height": 428
        }
      },
      "source": [
        "fi = rf_feat_importance(m, df_keep)\n",
        "plot_fi(fi);"
      ],
      "execution_count": 0,
      "outputs": [
        {
          "output_type": "display_data",
          "data": {
            "image/png": "[encoded data removed]",
            "text/plain": [
              "<Figure size 864x504 with 1 Axes>"
            ]
          },
          "metadata": {
            "tags": []
          }
        }
      ]
    },
    {
      "cell_type": "markdown",
      "metadata": {
        "id": "w6CCmnFwBCc_",
        "colab_type": "text"
      },
      "source": [
        "In the above code we do feature importance that is.. we look at the importance of each column and then only take up the ones that have an importance that are greater than 0.005 Using only these columns we are trying to fit the values. \n",
        "\n",
        "Next we will shuffle values for a specific column and see how much it affecct the r square value and similarly try if for other columns and see how much r square value's affect each columns"
      ]
    },
    {
      "cell_type": "markdown",
      "metadata": {
        "id": "1ktctkfHJmeM",
        "colab_type": "text"
      },
      "source": [
        "## One hot encoding\n",
        "\n",
        "In  one hot encoding what we do is say there are categorical variables like High,Medium, Low or more categories, instead of splitting between them what we can do it take each of them and make colums like 1 and 0. This is because when we do that we the splits become easier where the trees can take each column and see which split becomes easier. We should do this only forcateogrical vaariables and there for only things that are having less than 6 types and not for things like zipcode."
      ]
    },
    {
      "cell_type": "code",
      "metadata": {
        "id": "YfLFcCKDKwN8",
        "colab_type": "code",
        "outputId": "1c04ec3a-94e1-4933-c828-6b2348b19dc8",
        "colab": {
          "base_uri": "https://localhost:8080/",
          "height": 34
        }
      },
      "source": [
        "df_trn2, y_trn, nas = proc_df(df_raw, 'SalePrice', max_n_cat=7)\n",
        "X_train, X_valid = split_vals(df_trn2, n_trn)  \n",
        "m = RandomForestRegressor(n_estimators=40, min_samples_leaf=3, \n",
        "       max_features=0.6, n_jobs=-1, oob_score=True) \n",
        "m.fit(X_train, y_train) \n",
        "print_score(m)"
      ],
      "execution_count": 0,
      "outputs": [
        {
          "output_type": "stream",
          "text": [
            "[0.11790061896987737, 0.23329938295318106, 0.9709486046662393, 0.9027980104438841, 0.9105262948410479]\n"
          ],
          "name": "stdout"
        }
      ]
    },
    {
      "cell_type": "markdown",
      "metadata": {
        "id": "_cczTt3eKyoA",
        "colab_type": "text"
      },
      "source": [
        "The R square neceesirly doenst improve but if we look ar the bar charts below we can that there is a new feature that is more important than the previous. The new columns added to the dataset will be having proc_df puts the name of the variable, an underscore, and the level name"
      ]
    },
    {
      "cell_type": "code",
      "metadata": {
        "id": "zJ8RmCcKL_ZD",
        "colab_type": "code",
        "outputId": "c0f48563-e57e-4ed1-fdf9-a4fd20c511e9",
        "colab": {
          "base_uri": "https://localhost:8080/",
          "height": 428
        }
      },
      "source": [
        "fi = rf_feat_importance(m, df_trn2);\n",
        "def plot_fi(fi): \n",
        "  return fi.plot('cols','imp','barh', figsize=(12,7), legend=False)\n",
        "  \n",
        "fi = rf_feat_importance(m, df_trn2)\n",
        "plot_fi(fi[:25]);"
      ],
      "execution_count": 0,
      "outputs": [
        {
          "output_type": "display_data",
          "data": {
            "image/png": "[encoded data removed]",
            "text/plain": [
              "<Figure size 864x504 with 1 Axes>"
            ]
          },
          "metadata": {
            "tags": []
          }
        }
      ]
    },
    {
      "cell_type": "markdown",
      "metadata": {
        "id": "kB5CyOmXMtmZ",
        "colab_type": "text"
      },
      "source": [
        "## Cluster Analysis\n",
        "\n",
        "This is so as to produce a dendogram with all the columns\n",
        "The closer the line is towards the right, the more related they are. The more distant they are, the less they are corelated\n",
        "\n",
        "In the code below we have the diagram for the dendogram"
      ]
    },
    {
      "cell_type": "code",
      "metadata": {
        "id": "fqcrJh5toB89",
        "colab_type": "code",
        "outputId": "928af4ec-f233-4c85-dbc5-9eecc14e0517",
        "colab": {
          "base_uri": "https://localhost:8080/",
          "height": 592
        }
      },
      "source": [
        "from scipy.cluster import hierarchy as hc\n",
        "corr = np.round(scipy.stats.spearmanr(df_keep).correlation, 4)\n",
        "corr_condensed = hc.distance.squareform(1-corr)\n",
        "z = hc.linkage(corr_condensed, method='average')\n",
        "fig = plt.figure(figsize=(16,10))\n",
        "dendrogram = hc.dendrogram(z, labels=df_keep.columns, \n",
        "      orientation='left', leaf_font_size=16)\n",
        "plt.show()"
      ],
      "execution_count": 0,
      "outputs": [
        {
          "output_type": "display_data",
          "data": {
            "image/png": "[encoded data removed]",
            "text/plain": [
              "<Figure size 1152x720 with 1 Axes>"
            ]
          },
          "metadata": {
            "tags": []
          }
        }
      ]
    },
    {
      "cell_type": "markdown",
      "metadata": {
        "id": "I6o-wZzKoV2a",
        "colab_type": "text"
      },
      "source": [
        "Below we define a function to see the oobscore for columns that are redundant and we wish to see whether removing columns improved the oob score. This is what is shown below"
      ]
    },
    {
      "cell_type": "code",
      "metadata": {
        "id": "d7P8jhCdo7-G",
        "colab_type": "code",
        "colab": {}
      },
      "source": [
        "def get_oob(df):\n",
        "    m = RandomForestRegressor(n_estimators=30, min_samples_leaf=5, \n",
        "           max_features=0.6, n_jobs=-1, oob_score=True)\n",
        "    x, _ = split_vals(df, n_trn)\n",
        "    m.fit(x, y_train)\n",
        "    return m.oob_score_\n",
        "\n"
      ],
      "execution_count": 0,
      "outputs": []
    },
    {
      "cell_type": "code",
      "metadata": {
        "id": "00faf7Blpbhv",
        "colab_type": "code",
        "outputId": "e7dc67d5-9220-472e-b63f-ea70f65591eb",
        "colab": {
          "base_uri": "https://localhost:8080/",
          "height": 34
        }
      },
      "source": [
        "get_oob(df_keep)\n"
      ],
      "execution_count": 0,
      "outputs": [
        {
          "output_type": "execute_result",
          "data": {
            "text/plain": [
              "0.9053224115231698"
            ]
          },
          "metadata": {
            "tags": []
          },
          "execution_count": 66
        }
      ]
    },
    {
      "cell_type": "code",
      "metadata": {
        "id": "NHTkYGKspc3M",
        "colab_type": "code",
        "outputId": "c94f8bc1-520b-4174-e6b2-99b6fb3f44ff",
        "colab": {
          "base_uri": "https://localhost:8080/",
          "height": 85
        }
      },
      "source": [
        "for c in ('saleElapsed', 'fiModelDesc', 'fiBaseModel', 'Coupler_System'):\n",
        "    print(c, get_oob(df_keep.drop(c, axis=1)))"
      ],
      "execution_count": 0,
      "outputs": [
        {
          "output_type": "stream",
          "text": [
            "saleElapsed 0.8445639377931297\n",
            "fiModelDesc 0.904555429753435\n",
            "fiBaseModel 0.9048973037045545\n",
            "Coupler_System 0.90462463346918\n"
          ],
          "name": "stdout"
        }
      ]
    },
    {
      "cell_type": "markdown",
      "metadata": {
        "id": "FUYGaIOkpqDf",
        "colab_type": "text"
      },
      "source": [
        "Next we remove the one column from each dataset and see what happens to the score. We can see that the score doesnt decrease much and therefore and the redundant columns can be removed and the forests regressor are run again."
      ]
    },
    {
      "cell_type": "code",
      "metadata": {
        "id": "2BdlzsjSJCDg",
        "colab_type": "code",
        "outputId": "067367bf-1895-4344-f2e1-1a84106ecb21",
        "colab": {
          "base_uri": "https://localhost:8080/",
          "height": 102
        }
      },
      "source": [
        "to_drop = ['fiBaseModel']\n",
        "df_keep.columns"
      ],
      "execution_count": 0,
      "outputs": [
        {
          "output_type": "execute_result",
          "data": {
            "text/plain": [
              "Index(['Coupler_System', 'YearMade', 'ProductSize', 'fiProductClassDesc',\n",
              "       'ModelID', 'saleElapsed', 'Enclosure', 'fiModelDesc', 'fiSecondaryDesc',\n",
              "       'SalesID', 'fiModelDescriptor', 'MachineID', 'state', 'saleDay',\n",
              "       'saleDayofyear'],\n",
              "      dtype='object')"
            ]
          },
          "metadata": {
            "tags": []
          },
          "execution_count": 85
        }
      ]
    },
    {
      "cell_type": "code",
      "metadata": {
        "id": "pXxpLX2dKfNW",
        "colab_type": "code",
        "outputId": "549cd14c-540d-43dc-e952-ad0bf6e268b1",
        "colab": {
          "base_uri": "https://localhost:8080/",
          "height": 34
        }
      },
      "source": [
        "n_trn"
      ],
      "execution_count": 0,
      "outputs": [
        {
          "output_type": "execute_result",
          "data": {
            "text/plain": [
              "389125"
            ]
          },
          "metadata": {
            "tags": []
          },
          "execution_count": 81
        }
      ]
    },
    {
      "cell_type": "code",
      "metadata": {
        "id": "6WZc6SPMqEXJ",
        "colab_type": "code",
        "colab": {}
      },
      "source": [
        "X_train, X_valid = split_vals(df_keep, n_trn)\n"
      ],
      "execution_count": 0,
      "outputs": []
    },
    {
      "cell_type": "code",
      "metadata": {
        "id": "uatqJzsnqGVk",
        "colab_type": "code",
        "outputId": "64b2dc5a-719f-4373-bcc2-1363a549a8ea",
        "colab": {
          "base_uri": "https://localhost:8080/",
          "height": 34
        }
      },
      "source": [
        "reset_rf_samples()\n",
        "m = RandomForestRegressor(n_estimators=40, min_samples_leaf=3, max_features=0.5, n_jobs=-1, oob_score=True)\n",
        "m.fit(X_train, y_train)\n",
        "print_score(m)\n",
        "#[0.12615142089579687, 0.22781819082173235, 0.96677727309424211, 0.90731173105384466, 0.9084359846323049]"
      ],
      "execution_count": 0,
      "outputs": [
        {
          "output_type": "stream",
          "text": [
            "[0.12736916004351273, 0.22985107245620856, 0.966095027561241, 0.9056501871824657, 0.9073115882853732]\n"
          ],
          "name": "stdout"
        }
      ]
    },
    {
      "cell_type": "markdown",
      "metadata": {
        "id": "RoE4gkRQqpKI",
        "colab_type": "text"
      },
      "source": [
        "## Partial Dependance"
      ]
    },
    {
      "cell_type": "code",
      "metadata": {
        "id": "JtEeFqNtqgck",
        "colab_type": "code",
        "colab": {}
      },
      "source": [
        "from pdpbox import pdp\n",
        "from plotnine import *\n",
        "set_rf_samples(50000)"
      ],
      "execution_count": 0,
      "outputs": []
    },
    {
      "cell_type": "code",
      "metadata": {
        "id": "O4ONcTsCq4sP",
        "colab_type": "code",
        "colab": {}
      },
      "source": [
        "df_trn2, y_trn, nas = proc_df(df_raw, 'SalePrice', max_n_cat=7)\n",
        "X_train, X_valid = split_vals(df_trn2, n_trn)\n",
        "m = RandomForestRegressor(n_estimators=40, min_samples_leaf=3, \n",
        "       max_features=0.6, n_jobs=-1)\n",
        "m.fit(X_train, y_train);"
      ],
      "execution_count": 0,
      "outputs": []
    },
    {
      "cell_type": "code",
      "metadata": {
        "id": "YKRFQZozq5fj",
        "colab_type": "code",
        "colab": {}
      },
      "source": [
        "plot_fi(rf_feat_importance(m, df_trn2)[:10]);"
      ],
      "execution_count": 0,
      "outputs": []
    },
    {
      "cell_type": "code",
      "metadata": {
        "id": "S8zBXQf6CH5O",
        "colab_type": "code",
        "outputId": "4f40544b-4cd4-43f5-d7f9-e0db9b575ecf",
        "colab": {
          "base_uri": "https://localhost:8080/",
          "height": 272
        }
      },
      "source": [
        "!pip install ggplot\n"
      ],
      "execution_count": 0,
      "outputs": [
        {
          "output_type": "stream",
          "text": [
            "Requirement already satisfied: ggplot in /usr/local/lib/python3.6/dist-packages (0.11.5)\n",
            "Requirement already satisfied: numpy in /usr/local/lib/python3.6/dist-packages (from ggplot) (1.17.4)\n",
            "Requirement already satisfied: patsy>=0.4 in /usr/local/lib/python3.6/dist-packages (from ggplot) (0.5.1)\n",
            "Requirement already satisfied: matplotlib in /usr/local/lib/python3.6/dist-packages (from ggplot) (3.1.2)\n",
            "Requirement already satisfied: statsmodels in /usr/local/lib/python3.6/dist-packages (from ggplot) (0.10.2)\n",
            "Requirement already satisfied: six in /usr/local/lib/python3.6/dist-packages (from ggplot) (1.12.0)\n",
            "Requirement already satisfied: scipy in /usr/local/lib/python3.6/dist-packages (from ggplot) (1.3.3)\n",
            "Requirement already satisfied: brewer2mpl in /usr/local/lib/python3.6/dist-packages (from ggplot) (1.4.1)\n",
            "Requirement already satisfied: cycler in /usr/local/lib/python3.6/dist-packages (from ggplot) (0.10.0)\n",
            "Requirement already satisfied: pandas in /usr/local/lib/python3.6/dist-packages (from ggplot) (0.25.3)\n",
            "Requirement already satisfied: kiwisolver>=1.0.1 in /usr/local/lib/python3.6/dist-packages (from matplotlib->ggplot) (1.1.0)\n",
            "Requirement already satisfied: pyparsing!=2.0.4,!=2.1.2,!=2.1.6,>=2.0.1 in /usr/local/lib/python3.6/dist-packages (from matplotlib->ggplot) (2.4.5)\n",
            "Requirement already satisfied: python-dateutil>=2.1 in /usr/local/lib/python3.6/dist-packages (from matplotlib->ggplot) (2.6.1)\n",
            "Requirement already satisfied: pytz>=2017.2 in /usr/local/lib/python3.6/dist-packages (from pandas->ggplot) (2018.9)\n",
            "Requirement already satisfied: setuptools in /usr/local/lib/python3.6/dist-packages (from kiwisolver>=1.0.1->matplotlib->ggplot) (42.0.2)\n"
          ],
          "name": "stdout"
        }
      ]
    },
    {
      "cell_type": "code",
      "metadata": {
        "id": "YJtV16dDENWp",
        "colab_type": "code",
        "outputId": "ac49877e-6e31-4ded-8846-33c5d43d46a3",
        "colab": {
          "base_uri": "https://localhost:8080/",
          "height": 508
        }
      },
      "source": [
        "df_raw.plot('YearMade', 'saleElapsed', 'scatter', alpha=0.01, figsize=(10,8));\n"
      ],
      "execution_count": 0,
      "outputs": [
        {
          "output_type": "display_data",
          "data": {
            "image/png": "[encoded data removed]",
            "text/plain": [
              "<Figure size 720x576 with 1 Axes>"
            ]
          },
          "metadata": {
            "tags": []
          }
        }
      ]
    },
    {
      "cell_type": "markdown",
      "metadata": {
        "id": "XDwaMitKrPme",
        "colab_type": "text"
      },
      "source": [
        "In the above plot we can see that Year made and the salesElapsed are linearly related. It shows us that YearMade actually has a whole bunch that are a thousand. Clearly, this is where I would tend to go back to the client and say okay, I’m guessing that these bulldozers weren’t actually made in the year 1000 and they would presumably say to me “oh yes, they are ones where we don’t know where it was made”.\n",
        "\n",
        "Therefore after year 1930 only we see the data and it is plotted"
      ]
    },
    {
      "cell_type": "code",
      "metadata": {
        "id": "eT4hw62bEwtE",
        "colab_type": "code",
        "colab": {}
      },
      "source": [
        "x_all = get_sample(df_raw[df_raw.YearMade>1930], 500)\n",
        "from ggplot import aes\n",
        "ggplot(x_all, aes('YearMade', 'SalePrice'))+stat_smooth(se=True, \n",
        "       method='loess')"
      ],
      "execution_count": 0,
      "outputs": []
    },
    {
      "cell_type": "markdown",
      "metadata": {
        "id": "XIYvjE7_tuhh",
        "colab_type": "text"
      },
      "source": [
        "I would have expected that stuff that’s sold more recently would probably be more expensive because of inflation and they are more current models. The problem is that when you look at a univariate relationship like this, there is a whole lot of collinearity going on — a whole lot of interactions that are being lost. For example, why did the price drop? Is it actually because things made between 1991 and 1997 are less valuable? Or is it actually because most of them were also sold during that time and there was maybe a recession then? Or maybe it was because products sold during that time, a lot more people were buying types of vehicles that were less expensive? There’s all kind of reasons for tha"
      ]
    },
    {
      "cell_type": "markdown",
      "metadata": {
        "id": "DkLLCTBWt7gX",
        "colab_type": "text"
      },
      "source": [
        "So what we really want to be able to do is say “well, what’s the relationship between SalePrice and YearMade all other things being equal. “All other things being equal” basically means if we sold something in 1990 vs. 1980 and it was exactly the same thing to exactly the same person in exactly the same auction so on and so forth, what would have been the difference in price? To do that, we do something called a partial dependence plot"
      ]
    },
    {
      "cell_type": "code",
      "metadata": {
        "id": "xOb_kircCHqE",
        "colab_type": "code",
        "colab": {}
      },
      "source": [
        "x = get_sample(X_train[X_train.YearMade>1930], 500)"
      ],
      "execution_count": 0,
      "outputs": []
    },
    {
      "cell_type": "markdown",
      "metadata": {
        "id": "tAJSrLz8uFuC",
        "colab_type": "text"
      },
      "source": [
        "Here is our dataset of 500 auctions and here is our columns, one of which is the thing that we are interested in which is YearMade. We are now going to try and create a chart where we say all other things being equal in 1960, how much did things cost in auctions? The way we are going to do that is we are going to replace the YearMade column with 1960. We are going to copy in the value 1960 again and again all the way down. Now every row, the year made is 1960 and all of the other data is going to be exactly the same. We are going to take our random forest, we are going to pass all this through our random forest to predict the sale price.\n",
        "\n",
        "Randomly shuffling the column tells us how accurate it is when you don’t use that column anymore. Replacing the whole column with a constant estimates for us how much we would have sold that product for in that auction on that day in that place if that product had been made in 1961. We then take the average of all of the sale prices that we calculate from that random forest. We do it in 1961 and we get this value:"
      ]
    },
    {
      "cell_type": "code",
      "metadata": {
        "id": "NjrbLf8ouHWF",
        "colab_type": "code",
        "colab": {}
      },
      "source": [
        "def plot_pdp(feat, clusters=None, feat_name=None):\n",
        "    feat_name = feat_name or feat\n",
        "    p = pdp.pdp_isolate(m, x, feat)\n",
        "    return pdp.pdp_plot(p, feat_name, plot_lines=True, \n",
        "                        cluster=clusters is not None, \n",
        "                        n_cluster_centers=clusters)\n",
        "plot_pdp('YearMade')\n",
        "\n"
      ],
      "execution_count": 0,
      "outputs": []
    },
    {
      "cell_type": "markdown",
      "metadata": {
        "id": "OYpyMc4_ul3_",
        "colab_type": "text"
      },
      "source": [
        "So what the partial dependence plot (PDP)here shows us is each of these light blue lines actually is showing us all 500 lines [1:18:01]. So for row number 1 in our dataset, if we sold it in 1960, we are going to index that to zero so call that zero. If we sold it in 1970 that particular auction, it would have been here, etc. We actually plot all 500 predictions of how much every one of those 500 auctions would have gone for if we replaced its YearMade with each of these different values. Then this dark line is the average. So this tells us how much would we have sold on average all of those auctions for if all of those products were actually made in 1985, 1990, 1993, etc."
      ]
    },
    {
      "cell_type": "markdown",
      "metadata": {
        "id": "jMNiNlalu2IJ",
        "colab_type": "text"
      },
      "source": [
        "There is another cool thing we can do with PDP which is we can use clusters. What clusters does is it uses cluster analysis to look at each one of the 500 rows and say do some those 500 rows move in the same way. We could kind of see it seems like there’s a whole a lot of rows that go down and then up, and there seems to be a bunch of rows that go up and then go flat. It does seem like there’s some kind of different types of behaviors being hidden and so here is the result of doing that cluster analysis:\n",
        "\n",
        "We still get the same average but it says here are five most common shapes that we see. And this is where you could then go in and say all right, it looks like some kinds of vehicle, after 1990, their prices are pretty flat. Before that, they were pretty linear. Some other kinds of vehicle were exactly the opposite, so different kinds of vehicle have these different shapes. So, this is something you could dig into.\n",
        "\n",
        " Bulldozers made in 2010 probably are not close to the type of bulldozers that were made in 1960. If you are taking something that would be so very different, like a 2010 bulldozer, and then trying to just drop it to say “oh if it was made in 1960” that may cause poor prediction at a point because it’s so far outside of the training set [1:26:12]. Absolutely. That’s a good point. It is a limitation, however, if you’ve got a datapoint that’s in a part of the space that it has not seen before, like maybe people didn’t put air conditioning in bulldozers in 1960 and you are saying how much would this bulldozer with air conditioning would have gone for in 1960, you don’t really have any information to know that. This is still the best technique I know of but it’s not perfect. And you kind of hope that the trees are still going to find some useful truth even though it hasn’t seen that combination of features before. But yeah, it’s something to be aware of."
      ]
    },
    {
      "cell_type": "code",
      "metadata": {
        "id": "fnwmqnTDu-Zp",
        "colab_type": "code",
        "colab": {}
      },
      "source": [
        "plot_pdp('YearMade', clusters=5) "
      ],
      "execution_count": 0,
      "outputs": []
    },
    {
      "cell_type": "code",
      "metadata": {
        "id": "hG2xbBfavBE_",
        "colab_type": "code",
        "colab": {}
      },
      "source": [
        "df_raw.YearMade[df_raw.YearMade<1950] = 1950\n",
        "df_keep['age'] = df_raw['age'] = df_raw.saleYear-df_raw.YearMade\n",
        "X_train, X_valid = split_vals(df_keep, n_trn)\n",
        "m = RandomForestRegressor(n_estimators=40, min_samples_leaf=3, \n",
        "                          max_features=0.6, n_jobs=-1)\n",
        "m.fit(X_train, y_train)\n",
        "plot_fi(rf_feat_importance(m, df_keep));"
      ],
      "execution_count": 0,
      "outputs": []
    },
    {
      "cell_type": "markdown",
      "metadata": {
        "id": "eF9y46lkxXXW",
        "colab_type": "text"
      },
      "source": [
        "Based on the earlier interaction analysis, I’ve tried, first of all, setting everything before 1950 to 1950 because it seems to be some kind of missing value [1:31:25]. I’ve set age to be equal to saleYear - YearMade. Then I tried running a random forest on that. Indeed, age is now the single biggest thing, saleElapsed is way back down here, YearMade is back down here. So we’ve used this to find an interaction."
      ]
    },
    {
      "cell_type": "markdown",
      "metadata": {
        "id": "JsG_aUzNx1Pf",
        "colab_type": "text"
      },
      "source": [
        "## Tree Intepreter\n"
      ]
    },
    {
      "cell_type": "markdown",
      "metadata": {
        "id": "XhJkRZqiyuY2",
        "colab_type": "text"
      },
      "source": [
        "” So in general, you’ve made a prediction from some model and somebody asks why. This is where we use this method called tree interpreter. What tree interpreter does is it allows us to take a particular row."
      ]
    },
    {
      "cell_type": "code",
      "metadata": {
        "id": "shOJYNaGxQkC",
        "colab_type": "code",
        "colab": {}
      },
      "source": [
        "from treeinterpreter import treeinterpreter as ti\n",
        "df_train, df_valid = split_vals(df_raw[df_keep.columns], n_trn)\n",
        "\n"
      ],
      "execution_count": 0,
      "outputs": []
    },
    {
      "cell_type": "markdown",
      "metadata": {
        "id": "Te2x259ty55t",
        "colab_type": "text"
      },
      "source": [
        "We pick row numbeer zero"
      ]
    },
    {
      "cell_type": "code",
      "metadata": {
        "id": "FEGMmSIVy3Ps",
        "colab_type": "code",
        "colab": {}
      },
      "source": [
        "row = X_valid.values[None,0]; row\n"
      ],
      "execution_count": 0,
      "outputs": []
    },
    {
      "cell_type": "code",
      "metadata": {
        "id": "BKqEOGSyzA8k",
        "colab_type": "code",
        "colab": {}
      },
      "source": [
        "prediction, bias, contributions = ti.predict(m, row)"
      ],
      "execution_count": 0,
      "outputs": []
    },
    {
      "cell_type": "markdown",
      "metadata": {
        "id": "SywWU2bPwsAj",
        "colab_type": "text"
      },
      "source": [
        "### Tree building parameters"
      ]
    },
    {
      "cell_type": "markdown",
      "metadata": {
        "id": "AGEYkqqLwsAj",
        "colab_type": "text"
      },
      "source": [
        "We revert to using a full bootstrap sample in order to show the impact of other over-fitting avoidance methods."
      ]
    },
    {
      "cell_type": "code",
      "metadata": {
        "id": "ScNQbCffwsAj",
        "colab_type": "code",
        "colab": {}
      },
      "source": [
        "reset_rf_samples()"
      ],
      "execution_count": 0,
      "outputs": []
    },
    {
      "cell_type": "markdown",
      "metadata": {
        "id": "nZyxmtLhwsAl",
        "colab_type": "text"
      },
      "source": [
        "Let's get a baseline for this full set to compare to."
      ]
    },
    {
      "cell_type": "code",
      "metadata": {
        "id": "doUTz_2jwsAl",
        "colab_type": "code",
        "colab": {}
      },
      "source": [
        "def dectree_max_depth(tree):\n",
        "    children_left = tree.children_left\n",
        "    children_right = tree.children_right\n",
        "\n",
        "    def walk(node_id):\n",
        "        if (children_left[node_id] != children_right[node_id]):\n",
        "            left_max = 1 + walk(children_left[node_id])\n",
        "            right_max = 1 + walk(children_right[node_id])\n",
        "            return max(left_max, right_max)\n",
        "        else: # leaf\n",
        "            return 1\n",
        "\n",
        "    root_node_id = 0\n",
        "    return walk(root_node_id)"
      ],
      "execution_count": 0,
      "outputs": []
    },
    {
      "cell_type": "code",
      "metadata": {
        "id": "fOfN1P9ewsAo",
        "colab_type": "code",
        "colab": {}
      },
      "source": [
        "m = RandomForestRegressor(n_estimators=40, n_jobs=-1, oob_score=True)\n",
        "m.fit(X_train, y_train)\n",
        "print_score(m)"
      ],
      "execution_count": 0,
      "outputs": []
    },
    {
      "cell_type": "code",
      "metadata": {
        "id": "cH5JmbfiwsAp",
        "colab_type": "code",
        "colab": {}
      },
      "source": [
        "t=m.estimators_[0].tree_"
      ],
      "execution_count": 0,
      "outputs": []
    },
    {
      "cell_type": "code",
      "metadata": {
        "id": "mTzfdFjswsAq",
        "colab_type": "code",
        "colab": {}
      },
      "source": [
        "dectree_max_depth(t)"
      ],
      "execution_count": 0,
      "outputs": []
    },
    {
      "cell_type": "code",
      "metadata": {
        "id": "LcgKODMQwsAs",
        "colab_type": "code",
        "colab": {}
      },
      "source": [
        "m = RandomForestRegressor(n_estimators=40, min_samples_leaf=5, n_jobs=-1, oob_score=True)\n",
        "m.fit(X_train, y_train)\n",
        "print_score(m)"
      ],
      "execution_count": 0,
      "outputs": []
    },
    {
      "cell_type": "markdown",
      "metadata": {
        "id": "XLgev4odqunm",
        "colab_type": "text"
      },
      "source": [
        "min_sample_leaf = This is for limiting the number of splits, that is instead of splitting into every single leaf we limit the trees to be splitted to an extent such that each leaf will have a minimum of 5 rows of data."
      ]
    },
    {
      "cell_type": "code",
      "metadata": {
        "id": "S3V6xO9YwsAu",
        "colab_type": "code",
        "colab": {}
      },
      "source": [
        "t=m.estimators_[0].tree_"
      ],
      "execution_count": 0,
      "outputs": []
    },
    {
      "cell_type": "code",
      "metadata": {
        "id": "ftlyA6RPwsAw",
        "colab_type": "code",
        "colab": {}
      },
      "source": [
        "dectree_max_depth(t)"
      ],
      "execution_count": 0,
      "outputs": []
    },
    {
      "cell_type": "markdown",
      "metadata": {
        "id": "coOFbOufwsAx",
        "colab_type": "text"
      },
      "source": [
        "Another way to reduce over-fitting is to grow our trees less deeply. We do this by specifying (with `min_samples_leaf`) that we require some minimum number of rows in every leaf node. This has two benefits:\n",
        "\n",
        "- There are less decision rules for each leaf node; simpler models should generalize better\n",
        "- The predictions are made by averaging more rows in the leaf node, resulting in less volatility"
      ]
    },
    {
      "cell_type": "code",
      "metadata": {
        "id": "6awLErxawsAx",
        "colab_type": "code",
        "colab": {}
      },
      "source": [
        "m = RandomForestRegressor(n_estimators=40, min_samples_leaf=3, n_jobs=-1, oob_score=True)\n",
        "m.fit(X_train, y_train)\n",
        "print_score(m)"
      ],
      "execution_count": 0,
      "outputs": []
    },
    {
      "cell_type": "markdown",
      "metadata": {
        "id": "c9k42tKBwsAy",
        "colab_type": "text"
      },
      "source": [
        "We can also increase the amount of variation amongst the trees by not only use a sample of rows for each tree, but to also using a sample of *columns* for each *split*. We do this by specifying `max_features`, which is the proportion of features to randomly select from at each split."
      ]
    },
    {
      "cell_type": "markdown",
      "metadata": {
        "id": "xxRgpTDKwsAy",
        "colab_type": "text"
      },
      "source": [
        "- None\n",
        "- 0.5  - max_features: this is that the number of columns are randomly taken. Instead of taking all the columns for consideration  in each split, we take 50% of the columns for each split and then for the next split we take another 50 and so on\n",
        "- 'sqrt'"
      ]
    },
    {
      "cell_type": "markdown",
      "metadata": {
        "id": "e1bD3dPwwsAz",
        "colab_type": "text"
      },
      "source": [
        "- 1, 3, 5, 10, 25, 100"
      ]
    },
    {
      "cell_type": "code",
      "metadata": {
        "id": "6QgYb1-dwsAz",
        "colab_type": "code",
        "colab": {}
      },
      "source": [
        "m = RandomForestRegressor(n_estimators=40, min_samples_leaf=3, max_features=0.5, n_jobs=-1, oob_score=True)\n",
        "m.fit(X_train, y_train)\n",
        "print_score(m)"
      ],
      "execution_count": 0,
      "outputs": []
    },
    {
      "cell_type": "markdown",
      "metadata": {
        "id": "ZafsxdM2wsA1",
        "colab_type": "text"
      },
      "source": [
        "We can't compare our results directly with the Kaggle competition, since it used a different validation set (and we can no longer to submit to this competition) - but we can at least see that we're getting similar results to the winners based on the dataset we have.\n",
        "\n",
        "The sklearn docs [show an example](http://scikit-learn.org/stable/auto_examples/ensemble/plot_ensemble_oob.html) of different `max_features` methods with increasing numbers of trees - as you see, using a subset of features on each split requires using more trees, but results in better models:\n",
        "![sklearn max_features chart](http://scikit-learn.org/stable/_images/sphx_glr_plot_ensemble_oob_001.png)"
      ]
    }
  ]
}